{
  "cells": [
    {
      "cell_type": "markdown",
      "metadata": {
        "id": "view-in-github",
        "colab_type": "text"
      },
      "source": [
        "<a href=\"https://colab.research.google.com/github/sangnguyens/machine-learning-engineer/blob/main/news_article_classification_solutions.ipynb\" target=\"_parent\"><img src=\"https://colab.research.google.com/assets/colab-badge.svg\" alt=\"Open In Colab\"/></a>"
      ]
    },
    {
      "cell_type": "markdown",
      "metadata": {
        "id": "TfzL6S25dL6j"
      },
      "source": [
        "<p align = \"center\" draggable=”false” ><img src=\"https://user-images.githubusercontent.com/37101144/161836199-fdb0219d-0361-4988-bf26-48b0fad160a3.png\" \n",
        "     width=\"200px\"\n",
        "     height=\"auto\"/>\n",
        "</p>"
      ],
      "id": "TfzL6S25dL6j"
    },
    {
      "cell_type": "markdown",
      "metadata": {
        "id": "cd6727ba"
      },
      "source": [
        "# News Article Classification\n"
      ],
      "id": "cd6727ba"
    },
    {
      "cell_type": "markdown",
      "metadata": {
        "id": "1dd0ce8d"
      },
      "source": [
        "Today, you are a machine learning engineer at [Upday](https://www.upday.com/home), a news app. The engine behind the app processes almost 100k news articles every day in many languages and context. In order to connect people with the right content, we need to know what the articles are about. \n",
        "\n",
        "The job here is to build a classifier that identify the category of an article accurately that will be fed into the recommendation algorithms of the app for better personalized content for the readers. \n",
        "\n",
        "You will first train a Transformer from scratch; then fine-tune a pre-trained Transformer model for text classification using 🤗; and compare performances using the same test data set."
      ],
      "id": "1dd0ce8d"
    },
    {
      "cell_type": "markdown",
      "metadata": {
        "id": "c979a92b"
      },
      "source": [
        "## Learning objectives\n"
      ],
      "id": "c979a92b"
    },
    {
      "cell_type": "markdown",
      "metadata": {
        "id": "4f6bcf51"
      },
      "source": [
        "By the end of this session, you will be able to:\n",
        "- Understand how Transformer models work\n",
        "- Build a Transformer model for text classification from scratch\n",
        "- Fine-tune a pre-trained Transformer model for text classification using 🤗 "
      ],
      "id": "4f6bcf51"
    },
    {
      "cell_type": "markdown",
      "metadata": {
        "id": "64724518"
      },
      "source": [
        "# Task 1. Prepare the data"
      ],
      "id": "64724518"
    },
    {
      "cell_type": "markdown",
      "metadata": {
        "id": "48a57962"
      },
      "source": [
        "1. [20 news groups data](http://qwone.com/~jason/20Newsgroups/) is one of the standard datasets in the `scikit-learn`. The 20 newsgroups dataset comprises around 18k newsgroups posts on 20 topics split in two subsets: one for training (or development) and the other one for testing (or for performance evaluation). The split between the two datasets is based upon messages posted before and after a specific date.\n",
        "\n",
        "    Take a read on its [usage]((https://scikit-learn.org/stable/datasets/real_world.html#newsgroups-dataset)) and load the training and testing datasets into `train` and `test` respectively via `fetch_20newsgroups`."
      ],
      "id": "48a57962"
    },
    {
      "cell_type": "code",
      "execution_count": 2,
      "metadata": {
        "id": "1f4d54b2"
      },
      "outputs": [],
      "source": [
        "NUM_LABELS = 20"
      ],
      "id": "1f4d54b2"
    },
    {
      "cell_type": "code",
      "execution_count": 3,
      "metadata": {
        "id": "511c1fd2"
      },
      "outputs": [],
      "source": [
        "from sklearn.datasets import fetch_20newsgroups\n",
        "\n",
        "train = fetch_20newsgroups(subset=\"train\") # YOUR CODE HERE\n",
        "test = fetch_20newsgroups(subset=\"test\") # YOUR CODE HERE"
      ],
      "id": "511c1fd2"
    },
    {
      "cell_type": "code",
      "execution_count": 4,
      "metadata": {
        "colab": {
          "base_uri": "https://localhost:8080/"
        },
        "id": "KcEGlVbsEEWu",
        "outputId": "1a9b04e8-10a5-460c-f52e-06849b5c42b0"
      },
      "outputs": [
        {
          "output_type": "execute_result",
          "data": {
            "text/plain": [
              "(\"From: lerxst@wam.umd.edu (where's my thing)\\nSubject: WHAT car is this!?\\nNntp-Posting-Host: rac3.wam.umd.edu\\nOrganization: University of Maryland, College Park\\nLines: 15\\n\\n I was wondering if anyone out there could enlighten me on this car I saw\\nthe other day. It was a 2-door sports car, looked to be from the late 60s/\\nearly 70s. It was called a Bricklin. The doors were really small. In addition,\\nthe front bumper was separate from the rest of the body. This is \\nall I know. If anyone can tellme a model name, engine specs, years\\nof production, where this car is made, history, or whatever info you\\nhave on this funky looking car, please e-mail.\\n\\nThanks,\\n- IL\\n   ---- brought to you by your neighborhood Lerxst ----\\n\\n\\n\\n\\n\",\n",
              " 7)"
            ]
          },
          "metadata": {},
          "execution_count": 4
        }
      ],
      "source": [
        "train[\"data\"][0], train[\"target\"][0]"
      ],
      "id": "KcEGlVbsEEWu"
    },
    {
      "cell_type": "code",
      "execution_count": 5,
      "metadata": {
        "colab": {
          "base_uri": "https://localhost:8080/"
        },
        "id": "C6xvnZdnEepm",
        "outputId": "42782ed0-2b2b-437e-db90-2ce6d5e800f3"
      },
      "outputs": [
        {
          "output_type": "execute_result",
          "data": {
            "text/plain": [
              "['alt.atheism',\n",
              " 'comp.graphics',\n",
              " 'comp.os.ms-windows.misc',\n",
              " 'comp.sys.ibm.pc.hardware',\n",
              " 'comp.sys.mac.hardware',\n",
              " 'comp.windows.x',\n",
              " 'misc.forsale',\n",
              " 'rec.autos',\n",
              " 'rec.motorcycles',\n",
              " 'rec.sport.baseball',\n",
              " 'rec.sport.hockey',\n",
              " 'sci.crypt',\n",
              " 'sci.electronics',\n",
              " 'sci.med',\n",
              " 'sci.space',\n",
              " 'soc.religion.christian',\n",
              " 'talk.politics.guns',\n",
              " 'talk.politics.mideast',\n",
              " 'talk.politics.misc',\n",
              " 'talk.religion.misc']"
            ]
          },
          "metadata": {},
          "execution_count": 5
        }
      ],
      "source": [
        "train[\"target_names\"]"
      ],
      "id": "C6xvnZdnEepm"
    },
    {
      "cell_type": "markdown",
      "metadata": {
        "id": "dd0ed320"
      },
      "source": [
        "1. Explore the data. For example, what is the data type of `train` and `test`? What is the data type of `train['data']`? What is in `train['target_names']`? \n",
        "\n",
        "    YOUR ANSWER HERE"
      ],
      "id": "dd0ed320"
    },
    {
      "cell_type": "markdown",
      "metadata": {
        "id": "685b52dd"
      },
      "source": [
        "1. Train / validation / test splits. \n",
        "\n",
        "    There are four keys in each data set and we need \"data\" (the text) and \"target\" (the category). Extract the \"data\" and create a `pd.Series` named `X`; and extract the \"target\" and create a `pd.Series` named `y`. Do the same for the `test` data set, named `X_test` and `y_test`, respectively."
      ],
      "id": "685b52dd"
    },
    {
      "cell_type": "code",
      "execution_count": 6,
      "metadata": {
        "id": "4a044fbf"
      },
      "outputs": [],
      "source": [
        "import pandas as pd\n",
        "X, y = pd.Series(train.data), pd.Series(train.target)# YOUR CODE HERE\n",
        "X_test, y_test = pd.Series(test.data), pd.Series(test.target)# YOUR CODE HERE"
      ],
      "id": "4a044fbf"
    },
    {
      "cell_type": "markdown",
      "metadata": {
        "id": "ad6b5518"
      },
      "source": [
        "Now split `X` and `y` into training and validation sets. Use `train_test_split` from `sklearn.model_selection` to split the data; save 10% of the data for validation and set the random state to 19."
      ],
      "id": "ad6b5518"
    },
    {
      "cell_type": "code",
      "execution_count": 7,
      "metadata": {
        "id": "5b792fff"
      },
      "outputs": [],
      "source": [
        "from sklearn.model_selection import train_test_split \n",
        "X_train, X_valid, y_train, y_valid = train_test_split(X, y, test_size=0.1, random_state=42)# YOUR CODE HERE"
      ],
      "id": "5b792fff"
    },
    {
      "cell_type": "code",
      "execution_count": 8,
      "metadata": {
        "id": "17b97380"
      },
      "outputs": [],
      "source": [
        "assert y_train.shape == (10182,)\n",
        "assert y_valid.shape == (1132,)\n",
        "assert y_test.shape == (7532,)"
      ],
      "id": "17b97380"
    },
    {
      "cell_type": "markdown",
      "metadata": {
        "id": "8e3d71a0"
      },
      "source": [
        "1. Convert categorical labels into dummy variables. \n",
        "\n",
        "    Use `pd.get_dummies` to convert labels into dummy variables for `y_train`, `y_valid`, `y_test`."
      ],
      "id": "8e3d71a0"
    },
    {
      "cell_type": "code",
      "execution_count": 9,
      "metadata": {
        "id": "72e335c2"
      },
      "outputs": [],
      "source": [
        "y_train = pd.get_dummies(y_train)# YOUR CODE HERE\n",
        "y_valid = pd.get_dummies(y_valid)# YOUR CODE HERE\n",
        "y_test = pd.get_dummies(y_test)# YOUR CODE HERE"
      ],
      "id": "72e335c2"
    },
    {
      "cell_type": "code",
      "execution_count": 10,
      "metadata": {
        "id": "ee3a80ca"
      },
      "outputs": [],
      "source": [
        "assert y_train.shape == (10182, NUM_LABELS)\n",
        "assert y_valid.shape == (1132, NUM_LABELS)\n",
        "assert y_test.shape == (7532, NUM_LABELS)"
      ],
      "id": "ee3a80ca"
    },
    {
      "cell_type": "markdown",
      "metadata": {
        "id": "9603eb10"
      },
      "source": [
        "\n",
        "# Task 2. Attention is all you need"
      ],
      "id": "9603eb10"
    },
    {
      "cell_type": "markdown",
      "metadata": {
        "id": "9c39db15"
      },
      "source": [
        "Recently most of the natural language processing tasks are being dominated by the `Transformer` architecture, introduced in [Attention Is All You Need](https://arxiv.org/abs/1706.03762), which used a simple mechanism called `Neural Attention` as one of its building blocks. As the title suggests this architecture didn't require any recurrent layer. We now build a text classification using Attention and Positional Embeddings."
      ],
      "id": "9c39db15"
    },
    {
      "cell_type": "markdown",
      "metadata": {
        "id": "fb0fa502"
      },
      "source": [
        "1. Transformer (attention) Block. \n",
        "\n",
        "    The concept of `Neural Attention` is fairly simple; i.e., not all input information seen by a model is equally important to the task at hand. Although this concept has been utilized at various different places as well, e.g., max pooling in ConvNets, but the kind of attention we are looking for should be `context aware`.\n",
        "\n",
        "    The attention mechanism allows output to focus attention on input while producing output while the self-attention model allows inputs to interact with each other; in other words, calculate attention of all other inputs with respect to one input.\n",
        "\n",
        "    In the paper, the authors proposed another type of attention mechanism called multi-headed attention which refers to the fact that the outer space of the self attention layer gets factored into a set of independent sub-spaces learned separately, where each subspace is called a \"head\". **You need to implement the multi-head attention layer**, supplying values for two parameters: `num_heads` and `key_dim`.\n",
        "\n",
        "    There is a learnable dense projection present after the multi-head attention which enables the layer to actually learn something, as opposed to being a purely stateless transformation. **You need to implement `dense_proj`**, use the `tf.keras.Sequential` to stack two dense layers: \n",
        "    \n",
        "        1. first dense layer with `dense_dim` units and activation function `relu`;\n",
        "        2. second dense layer with `embed_dim` units and no activation function."
      ],
      "id": "fb0fa502"
    },
    {
      "cell_type": "code",
      "execution_count": 11,
      "metadata": {
        "id": "cc578b76"
      },
      "outputs": [],
      "source": [
        "from tensorflow.keras import layers as L\n",
        "import tensorflow as tf\n",
        "from tensorflow import keras\n",
        "\n",
        "class TransformerBlock(L.Layer):\n",
        "    def __init__(self, embed_dim, dense_dim, num_heads, **kwargs):\n",
        "        self.embed_dim = embed_dim\n",
        "        self.dense_dim = dense_dim\n",
        "        self.num_heads = num_heads\n",
        "        self.attention = L.MultiHeadAttention(num_heads=num_heads, key_dim=embed_dim) # YOUR CODE HERE\n",
        "        self.dense_proj = tf.keras.Sequential([\n",
        "                                               L.Dense(units=self.dense_dim, activation=\"relu\"),\n",
        "                                               L.Dense(units=self.embed_dim)])# YOUR CODE HERE\n",
        "        self.layernorm1 = L.LayerNormalization()\n",
        "        self.layernorm2 = L.LayerNormalization()\n",
        "        super().__init__(**kwargs)\n",
        "    \n",
        "    def call(self, inputs, mask=None):\n",
        "        if mask is not None:\n",
        "            mask = mask[: tf.newaxis, :]\n",
        "        attention_output = self.attention(inputs, inputs, attention_mask=mask)\n",
        "        proj_input = self.layernorm1(inputs + attention_output)\n",
        "        proj_output = self.dense_proj(proj_input)\n",
        "        return self.layernorm2(proj_input + proj_output)\n",
        "    \n",
        "    def get_config(self):\n",
        "        config = super().get_confog()\n",
        "        config.update({\n",
        "            \"embed_dim\": self.embed_dim,\n",
        "            \"num_heads\": self.num_heads,\n",
        "            \"dense_dim\": self.dense_dim\n",
        "        })\n",
        "        return config"
      ],
      "id": "cc578b76"
    },
    {
      "cell_type": "markdown",
      "metadata": {
        "id": "e1cb0ce3"
      },
      "source": [
        "1. Positional embedding. \n",
        "\n",
        "    The idea behind Positional Encoding is fairly simple as well: to give the model access to token order information, therefore we are going to add the token's position in the sentence to each word embedding.\n",
        "\n",
        "    Thus, one input word embedding will have two components: the usual token vector representing the token independent of any specific context, and a position vector representing the position of the token in the current sequence."
      ],
      "id": "e1cb0ce3"
    },
    {
      "cell_type": "code",
      "execution_count": 12,
      "metadata": {
        "id": "2db9b3dd"
      },
      "outputs": [],
      "source": [
        "class PositionalEmbedding(L.Layer):\n",
        "    def __init__(self, sequence_length, input_dim, output_dim, **kwargs):\n",
        "        self.token_embeddings = tf.keras.layers.Embedding(input_dim=input_dim, \n",
        "                                                          output_dim=output_dim) # YOUR CODE HERE\n",
        "        self.position_embeddings = tf.keras.layers.Embedding(input_dim=sequence_length, \n",
        "                                                          output_dim=output_dim)# YOUR CODE HERE\n",
        "        self.sequence_length = sequence_length\n",
        "        self.input_dim = input_dim\n",
        "        self.output_dim = output_dim\n",
        "        super().__init__(**kwargs)\n",
        "        \n",
        "    def call(self, inputs):\n",
        "        length = tf.shape(inputs)[-1]\n",
        "        positions = tf.range(start=0, limit=length, delta=1)\n",
        "        embedded_tokens = self.token_embeddings(inputs)\n",
        "        embedded_positions = self.position_embeddings(positions)\n",
        "        return embedded_tokens + embedded_positions\n",
        "        \n",
        "    def get_config(self):\n",
        "        config = super().get_config()\n",
        "        config.update({\n",
        "            \"output_dim\": self.output_dim,\n",
        "            \"sequence_length\": self.sequence_length,\n",
        "            \"input_dim\": self.input_dim,\n",
        "        })\n",
        "        return config"
      ],
      "id": "2db9b3dd"
    },
    {
      "cell_type": "markdown",
      "metadata": {
        "id": "afde9c93"
      },
      "source": [
        "1. Define some constants to parameterize the model."
      ],
      "id": "afde9c93"
    },
    {
      "cell_type": "code",
      "execution_count": 13,
      "metadata": {
        "id": "280fe4c7"
      },
      "outputs": [],
      "source": [
        "VOCAB_SIZE = 10000\n",
        "EMBED_DIM = 256\n",
        "DENSE_DIM = 32\n",
        "NUM_HEADS = 2\n",
        "MAX_LEN = 256"
      ],
      "id": "280fe4c7"
    },
    {
      "cell_type": "markdown",
      "metadata": {
        "id": "9ecb3a8d"
      },
      "source": [
        "1. Tokenizer. \n",
        "    \n",
        "    The tokenizer is a simple tool to convert a text into a sequence of tokens. It is used to convert the training data into a sequence of integers, which are then used as input to the model. \n",
        "\n",
        "    Use `Tokenizer` to create a tokenizer for the training data. Set the `num_words` parameter to the number of words to keep in the vocabulary, and `oov_token` to be `\"<unk>\"`."
      ],
      "id": "9ecb3a8d"
    },
    {
      "cell_type": "code",
      "execution_count": 14,
      "metadata": {
        "id": "17d66cfc"
      },
      "outputs": [],
      "source": [
        "from keras.preprocessing.text import Tokenizer\n",
        "tokenizer = Tokenizer(num_words=VOCAB_SIZE+1, oov_token=\"<unk>\")# YOUR CODE HERE\n",
        "tokenizer.fit_on_texts(X_train)\n"
      ],
      "id": "17d66cfc"
    },
    {
      "cell_type": "markdown",
      "metadata": {
        "id": "eab4b7a0"
      },
      "source": [
        "1. Pad the sequences. \n",
        "    \n",
        "    The tokenizer outputs a sequence of integers, which are then used as input to the model. However, the model expects a sequence of fixed length. To pad the sequences to the same length, use `sequence.pad_sequences` from `keras.preprocessing`.\n",
        "\n",
        "    Complete function `preprocess` below to 1) tokenize the texts 2) pad the sequences to the same length."
      ],
      "id": "eab4b7a0"
    },
    {
      "cell_type": "code",
      "execution_count": 15,
      "metadata": {
        "id": "5GyEyhfuDybK"
      },
      "outputs": [],
      "source": [
        "from keras.preprocessing import sequence\n",
        "\n",
        "def preprocess(texts, tokenizer, maxlen:int = MAX_LEN):\n",
        "    seqs = tokenizer.texts_to_sequences(texts)# YOUR CODE HERE\n",
        "    tokenized_text = sequence.pad_sequences(sequences=seqs, \n",
        "                                            padding='post',\n",
        "                                            truncating='post',\n",
        "                                            value=0,\n",
        "                                            maxlen=MAX_LEN)# YOUR CODE HERE\n",
        "    return tokenized_text"
      ],
      "id": "5GyEyhfuDybK"
    },
    {
      "cell_type": "markdown",
      "metadata": {
        "id": "8f4f3291"
      },
      "source": [
        "1. Preprocess the data. \n",
        "    \n",
        "    Use `preprocess` to preprocess the training, validation, and test data."
      ],
      "id": "8f4f3291"
    },
    {
      "cell_type": "code",
      "execution_count": 16,
      "metadata": {
        "id": "041570a5"
      },
      "outputs": [],
      "source": [
        "X_train = preprocess(X_train, tokenizer)# YOUR CODE HERE\n",
        "X_valid = preprocess(X_valid, tokenizer) # YOUR CODE HERE\n",
        "X_test  = preprocess(X_test, tokenizer) # YOUR CODE HERE"
      ],
      "id": "041570a5"
    },
    {
      "cell_type": "markdown",
      "metadata": {
        "id": "6f65487a"
      },
      "source": [
        "1. Define the model with the following architecture: \n",
        "\n",
        "    * Input Layer\n",
        "    * Positional Embeddings\n",
        "    * Transformer Block\n",
        "    * Pooling\n",
        "    * Dropout\n",
        "    * Output Layer\n",
        "\n",
        "    If you are not familiar with keras functional API, take a read [here](https://keras.io/guides/functional_api/)."
      ],
      "id": "6f65487a"
    },
    {
      "cell_type": "code",
      "execution_count": 17,
      "metadata": {
        "colab": {
          "base_uri": "https://localhost:8080/"
        },
        "id": "V0kxh8kzWXOZ",
        "outputId": "68a0a796-50d4-477f-c3a5-25bd584d8b28"
      },
      "outputs": [
        {
          "output_type": "execute_result",
          "data": {
            "text/plain": [
              "(10182, 256)"
            ]
          },
          "metadata": {},
          "execution_count": 17
        }
      ],
      "source": [
        "X_train.shape"
      ],
      "id": "V0kxh8kzWXOZ"
    },
    {
      "cell_type": "code",
      "execution_count": 18,
      "metadata": {
        "id": "141d4968"
      },
      "outputs": [],
      "source": [
        "inputs = keras.Input(shape=(None, ), dtype=\"int64\")\n",
        "x = PositionalEmbedding(sequence_length=MAX_LEN, \n",
        "                        input_dim=VOCAB_SIZE+1, \n",
        "                        output_dim=MAX_LEN)(inputs) # YOUR CODE HERE\n",
        "x = TransformerBlock(embed_dim=EMBED_DIM, \n",
        "                     dense_dim=DENSE_DIM, \n",
        "                     num_heads=NUM_HEADS)(x)# YOUR CODE HERE\n",
        "x = L.GlobalMaxPooling1D()(x)\n",
        "x = L.Dropout(0.5)(x)\n",
        "outputs = L.Dense(20, activation='softmax')(x)\n",
        "\n",
        "model = keras.Model(inputs, outputs)"
      ],
      "id": "141d4968"
    },
    {
      "cell_type": "markdown",
      "metadata": {
        "id": "7329eef2"
      },
      "source": [
        "1. Compile model. \n",
        "\n",
        "    Use 'adam' for the optimizer and accuracy for metrics, supply the correct value for loss. "
      ],
      "id": "7329eef2"
    },
    {
      "cell_type": "code",
      "execution_count": 19,
      "metadata": {
        "id": "f6491748"
      },
      "outputs": [],
      "source": [
        "model.compile(\n",
        "    optimizer='adam', # YOUR CODE HERE\n",
        "    loss=tf.keras.losses.CategoricalCrossentropy(),# YOUR CODE HERE\n",
        "    metrics=['accuracy']# YOUR CODE HERE\n",
        ")"
      ],
      "id": "f6491748"
    },
    {
      "cell_type": "code",
      "execution_count": 20,
      "metadata": {
        "colab": {
          "base_uri": "https://localhost:8080/"
        },
        "id": "d1c00f20",
        "outputId": "bd92d8ec-7915-4de0-b34b-9a44c64c2489"
      },
      "outputs": [
        {
          "output_type": "stream",
          "name": "stdout",
          "text": [
            "Model: \"model\"\n",
            "_________________________________________________________________\n",
            " Layer (type)                Output Shape              Param #   \n",
            "=================================================================\n",
            " input_1 (InputLayer)        [(None, None)]            0         \n",
            "                                                                 \n",
            " positional_embedding (Posit  (None, None, 256)        2625792   \n",
            " ionalEmbedding)                                                 \n",
            "                                                                 \n",
            " transformer_block (Transfor  (None, None, 256)        543776    \n",
            " merBlock)                                                       \n",
            "                                                                 \n",
            " global_max_pooling1d (Globa  (None, 256)              0         \n",
            " lMaxPooling1D)                                                  \n",
            "                                                                 \n",
            " dropout (Dropout)           (None, 256)               0         \n",
            "                                                                 \n",
            " dense_2 (Dense)             (None, 20)                5140      \n",
            "                                                                 \n",
            "=================================================================\n",
            "Total params: 3,174,708\n",
            "Trainable params: 3,174,708\n",
            "Non-trainable params: 0\n",
            "_________________________________________________________________\n"
          ]
        }
      ],
      "source": [
        "model.summary()"
      ],
      "id": "d1c00f20"
    },
    {
      "cell_type": "markdown",
      "metadata": {
        "id": "ZN4agZCL7E6e"
      },
      "source": [
        "1. Add [EarlyStopping](https://keras.io/api/callbacks/early_stopping/) and [ReduceLROnPlateau](https://keras.io/api/callbacks/reduce_lr_on_plateau/) to stop training if the model does not improve a set metric after a given number of epochs. \n",
        "\n",
        "    Create an `EarlyStopping` object named `es` to stop training if the validation loss does not improve after 5 epochs. Set verbose to display messages when the callback takes an action and set `restore_best_weights` to restore model weights from the epoch with the best value of the monitored metric.\n",
        "    \n",
        "    Use `ReduceLROnPlateau` to reduce the learning rate if the validation loss does not improve after 3 epochs. Set verbose to display messages when the callback takes an action and use default values for other parameters.\n",
        "    "
      ],
      "id": "ZN4agZCL7E6e"
    },
    {
      "cell_type": "code",
      "execution_count": 21,
      "metadata": {
        "id": "220efe0c"
      },
      "outputs": [],
      "source": [
        "es = tf.keras.callbacks.EarlyStopping(monitor=\"val_loss\", \n",
        "                                      patience=5,\n",
        "                                      mode='min',\n",
        "                                      \n",
        "                                      verbose=2, \n",
        "                                      restore_best_weights=True)# YOUR CODE HERE\n",
        "rlp = tf.keras.callbacks.ReduceLROnPlateau(monitor=\"val_loss\", \n",
        "                                           patience=3,\n",
        "                                           mode=\"min\",\n",
        "                                           factor=0.9,\n",
        "                                           min_lr=1e-6,\n",
        "                                           verbose=2)# YOUR CODE HERE"
      ],
      "id": "220efe0c"
    },
    {
      "cell_type": "markdown",
      "metadata": {
        "id": "58c75279"
      },
      "source": [
        "1. Train the model. \n",
        "    \n",
        "    Supply both `EarlyStopping` and `ReduceLROnPlateau` for `callbacks`. Set `epochs` to 100."
      ],
      "id": "58c75279"
    },
    {
      "cell_type": "code",
      "execution_count": 22,
      "metadata": {
        "colab": {
          "base_uri": "https://localhost:8080/"
        },
        "id": "1c8d14d0",
        "outputId": "4d0a091e-a804-4f56-9a30-3d856f916811"
      },
      "outputs": [
        {
          "output_type": "stream",
          "name": "stdout",
          "text": [
            "Epoch 1/100\n",
            "319/319 [==============================] - 14s 23ms/step - loss: 3.0741 - accuracy: 0.2067 - val_loss: 0.9972 - val_accuracy: 0.7032 - lr: 0.0010\n",
            "Epoch 2/100\n",
            "319/319 [==============================] - 7s 22ms/step - loss: 0.7914 - accuracy: 0.7700 - val_loss: 0.4704 - val_accuracy: 0.8728 - lr: 0.0010\n",
            "Epoch 3/100\n",
            "319/319 [==============================] - 7s 22ms/step - loss: 0.2797 - accuracy: 0.9180 - val_loss: 0.4119 - val_accuracy: 0.8763 - lr: 0.0010\n",
            "Epoch 4/100\n",
            "319/319 [==============================] - 7s 22ms/step - loss: 0.1085 - accuracy: 0.9680 - val_loss: 0.3594 - val_accuracy: 0.9055 - lr: 0.0010\n",
            "Epoch 5/100\n",
            "319/319 [==============================] - 7s 23ms/step - loss: 0.0444 - accuracy: 0.9878 - val_loss: 0.4099 - val_accuracy: 0.8984 - lr: 0.0010\n",
            "Epoch 6/100\n",
            "319/319 [==============================] - 10s 30ms/step - loss: 0.0283 - accuracy: 0.9926 - val_loss: 0.4882 - val_accuracy: 0.8940 - lr: 0.0010\n",
            "Epoch 7/100\n",
            "318/319 [============================>.] - ETA: 0s - loss: 0.0138 - accuracy: 0.9965\n",
            "Epoch 7: ReduceLROnPlateau reducing learning rate to 0.0009000000427477062.\n",
            "319/319 [==============================] - 7s 23ms/step - loss: 0.0138 - accuracy: 0.9965 - val_loss: 0.5158 - val_accuracy: 0.8905 - lr: 0.0010\n",
            "Epoch 8/100\n",
            "319/319 [==============================] - 7s 23ms/step - loss: 0.0108 - accuracy: 0.9972 - val_loss: 0.4760 - val_accuracy: 0.9037 - lr: 9.0000e-04\n",
            "Epoch 9/100\n",
            "317/319 [============================>.] - ETA: 0s - loss: 0.0073 - accuracy: 0.9982Restoring model weights from the end of the best epoch: 4.\n",
            "319/319 [==============================] - 7s 23ms/step - loss: 0.0073 - accuracy: 0.9982 - val_loss: 0.5066 - val_accuracy: 0.8958 - lr: 9.0000e-04\n",
            "Epoch 9: early stopping\n"
          ]
        }
      ],
      "source": [
        "history = model.fit(\n",
        "    X_train, y_train, \n",
        "    validation_data=(X_valid, y_valid),\n",
        "    callbacks= [es, rlp],# YOUR CODE HERE\n",
        "    epochs=100,\n",
        ")"
      ],
      "id": "1c8d14d0"
    },
    {
      "cell_type": "markdown",
      "metadata": {
        "id": "4cd54e08"
      },
      "source": [
        "1. Evaluate the trained model on the test data. \n",
        "    \n",
        "    Use `evaluate` to evaluate the model on the test data (accuracy will be around 0.77)."
      ],
      "id": "4cd54e08"
    },
    {
      "cell_type": "code",
      "execution_count": 23,
      "metadata": {
        "colab": {
          "base_uri": "https://localhost:8080/"
        },
        "id": "HCVwNQ0UqH_x",
        "outputId": "86594626-b1a8-4d9e-fb02-ac2bf29382c8"
      },
      "outputs": [
        {
          "output_type": "stream",
          "name": "stdout",
          "text": [
            "236/236 [==============================] - 2s 10ms/step - loss: 0.7705 - accuracy: 0.8140\n"
          ]
        },
        {
          "output_type": "execute_result",
          "data": {
            "text/plain": [
              "[0.7704855799674988, 0.8139936327934265]"
            ]
          },
          "metadata": {},
          "execution_count": 23
        }
      ],
      "source": [
        "# YOUR CODE HERE\n",
        "model.evaluate(X_test, y_test)"
      ],
      "id": "HCVwNQ0UqH_x"
    },
    {
      "cell_type": "markdown",
      "metadata": {
        "id": "3f3bc7bf"
      },
      "source": [
        "1. Visualize both loss and accuracy curves for the training and validation data. "
      ],
      "id": "3f3bc7bf"
    },
    {
      "cell_type": "code",
      "execution_count": 24,
      "metadata": {
        "colab": {
          "base_uri": "https://localhost:8080/",
          "height": 541
        },
        "id": "20fdf465",
        "outputId": "e8831110-49c0-4502-9f09-0a1db68cf562"
      },
      "outputs": [
        {
          "output_type": "display_data",
          "data": {
            "text/plain": [
              "<Figure size 432x288 with 1 Axes>"
            ],
            "image/png": "[encoded data removed]"
          },
          "metadata": {
            "needs_background": "light"
          }
        },
        {
          "output_type": "display_data",
          "data": {
            "text/plain": [
              "<Figure size 432x288 with 1 Axes>"
            ],
            "image/png": "[encoded data removed]"
          },
          "metadata": {
            "needs_background": "light"
          }
        }
      ],
      "source": [
        "# YOUR CODE HERE\n",
        "\n",
        "import matplotlib.pyplot as plt \n",
        "def plot_metrics(history, metrics):\n",
        "  epochs = range(len(history.history[metrics]))\n",
        "  plt.plot(epochs, history.history[metrics], '-r', label='training_'+ metrics)\n",
        "  plt.plot(epochs, history.history['val_'+ metrics], '-b', label='val_'+metrics)\n",
        "  plt.legend()\n",
        "  plt.xlabel(\"Epoch\")\n",
        "  plt.ylabel(metrics)\n",
        "\n",
        "# plot accuracy\n",
        "plot_metrics(history, 'accuracy')\n",
        "plt.show()\n",
        "plot_metrics(history, 'loss')"
      ],
      "id": "20fdf465"
    },
    {
      "cell_type": "markdown",
      "metadata": {
        "id": "e_aWlv8RYI-4"
      },
      "source": [
        "# Task 3. Fine-tune pre-trained model via 🤗"
      ],
      "id": "e_aWlv8RYI-4"
    },
    {
      "cell_type": "markdown",
      "metadata": {
        "id": "5490667e"
      },
      "source": [
        "Substantial gains can be achieved by pre-training on a large corpus of text followed by fine-tuning a specific task. In this task, we will take advantage of [DistilBERT, a distilled version of BERT: smaller, faster, cheaper and lighter](https://arxiv.org/pdf/1910.01108.pdf), [`distillbert-uncased`](https://huggingface.co/distilbert-base-uncased) specifically, and fine-tune it on the 20 Newsgroups dataset."
      ],
      "id": "5490667e"
    },
    {
      "cell_type": "markdown",
      "metadata": {
        "id": "b24afd2f"
      },
      "source": [
        "1. Install [`Transformers`](https://huggingface.co/docs/transformers) and [`datasets`](https://huggingface.co/docs/datasets/index)."
      ],
      "id": "b24afd2f"
    },
    {
      "cell_type": "code",
      "execution_count": 25,
      "metadata": {
        "id": "st1OGgI4HmqS",
        "colab": {
          "base_uri": "https://localhost:8080/"
        },
        "outputId": "fa27a7ee-fc0c-4796-f965-03877e6cab28"
      },
      "outputs": [
        {
          "output_type": "stream",
          "name": "stdout",
          "text": [
            "\u001b[K     |████████████████████████████████| 4.4 MB 39.4 MB/s \n",
            "\u001b[K     |████████████████████████████████| 365 kB 63.1 MB/s \n",
            "\u001b[K     |████████████████████████████████| 101 kB 12.3 MB/s \n",
            "\u001b[K     |████████████████████████████████| 596 kB 75.5 MB/s \n",
            "\u001b[K     |████████████████████████████████| 6.6 MB 5.4 MB/s \n",
            "\u001b[K     |████████████████████████████████| 140 kB 18.2 MB/s \n",
            "\u001b[K     |████████████████████████████████| 212 kB 72.8 MB/s \n",
            "\u001b[K     |████████████████████████████████| 1.1 MB 59.9 MB/s \n",
            "\u001b[K     |████████████████████████████████| 127 kB 77.5 MB/s \n",
            "\u001b[K     |████████████████████████████████| 271 kB 77.4 MB/s \n",
            "\u001b[K     |████████████████████████████████| 144 kB 76.0 MB/s \n",
            "\u001b[K     |████████████████████████████████| 94 kB 3.5 MB/s \n",
            "\u001b[31mERROR: pip's dependency resolver does not currently take into account all the packages that are installed. This behaviour is the source of the following dependency conflicts.\n",
            "datascience 0.10.6 requires folium==0.2.1, but you have folium 0.8.3 which is incompatible.\u001b[0m\n",
            "\u001b[?25h"
          ]
        }
      ],
      "source": [
        "! pip install -U -q transformers datasets"
      ],
      "id": "st1OGgI4HmqS"
    },
    {
      "cell_type": "markdown",
      "metadata": {
        "id": "vC5O5FiWYPHe"
      },
      "source": [
        "1. Import the library and check its version.\n"
      ],
      "id": "vC5O5FiWYPHe"
    },
    {
      "cell_type": "code",
      "execution_count": 26,
      "metadata": {
        "colab": {
          "base_uri": "https://localhost:8080/"
        },
        "id": "maGzeTY8Ht85",
        "outputId": "108ee7a4-25e7-4321-90b7-236e02680dfc"
      },
      "outputs": [
        {
          "output_type": "stream",
          "name": "stdout",
          "text": [
            "4.20.1\n"
          ]
        }
      ],
      "source": [
        "import transformers\n",
        "print(transformers.__version__)"
      ],
      "id": "maGzeTY8Ht85"
    },
    {
      "cell_type": "markdown",
      "metadata": {
        "id": "0dc75685"
      },
      "source": [
        "1. Create `Dataset` objects for train / validation / test sets that are better compatible with the `Transformers` API.\n",
        "\n",
        "    You can first create a `pd.DataFrame` with two fields: `text` and `label` with `data` and `target` from `train`. Then, call the `Dataset.from_pandas()` method to create a `Dataset` object and save it to `train_ds`. \n",
        "\n",
        "    Do the same for test set. "
      ],
      "id": "0dc75685"
    },
    {
      "cell_type": "code",
      "execution_count": 27,
      "metadata": {
        "id": "RnLjbcxvHl7u"
      },
      "outputs": [],
      "source": [
        "from datasets import Dataset\n",
        "\n",
        "train_ds = Dataset.from_pandas(pd.DataFrame({\"text\": pd.Series(train.data), \"label\": pd.Series(train.target)}))# YOUR CODE HERE\n",
        "test_ds  = Dataset.from_pandas(pd.DataFrame({\"text\": pd.Series(test.data), \"label\": pd.Series(test.target)}))# YOUR CODE HERE\n"
      ],
      "id": "RnLjbcxvHl7u"
    },
    {
      "cell_type": "markdown",
      "metadata": {
        "id": "6699275d"
      },
      "source": [
        "1. Cast column `label` as `datasets.features.ClassLabel` object using [`class_encode_column`](https://huggingface.co/docs/datasets/package_reference/main_classes#datasets.Dataset.class_encode_column) for both `train_ds` and `test_ds`."
      ],
      "id": "6699275d"
    },
    {
      "cell_type": "code",
      "execution_count": 28,
      "metadata": {
        "colab": {
          "base_uri": "https://localhost:8080/",
          "height": 209,
          "referenced_widgets": [
            "19c86504a2bb4d2791c15973310625f8",
            "0602c2237550469785a5755c77a00988",
            "cb461719089a4646b771b42dc9862546",
            "baa83ab320a24b499a047925733ac602",
            "42a9a589930743e1966465adcdf6cc1a",
            "dea6c6e6fc5f4cf484e426274257283f",
            "42a1469aff33431180ca53f149f3d38f",
            "1e80d866a2be4a1a849263dc14eed0e0",
            "55b8101248104a05a788800299c287c7",
            "301887011b0940229199043211f18b5f",
            "b6e2077c988b42d6b58a5fff06140378",
            "b630fc150377456ab9904d84d0df3b71",
            "9e022ab5be9245edaee8d8355fe3fa3b",
            "9ca39b67e2de4f3886987e2d702d1986",
            "6100ea9806764a53b708dd865384a81a",
            "45d425d040594c0ab824553893adff59",
            "027dbce2531f4fff830b52126c3dd54d",
            "8a0c9aaae30f4d1eb92613911d25d103",
            "400dbc57b12b4012b274f1d9466852b9",
            "cccc6ac9f25f4359ba4e0dc305385ce0",
            "e6a362ddfe004ff09adecd1196b24d8c",
            "e423f61bd8974b94b739047969b4c472",
            "8fab201644a242e8931e70bdfef37bea",
            "aa37840392c249799229d5afa6f5ade8",
            "b31afa08bf764b23b5c5c10e1e2a6f2e",
            "301dd0f57d3146ce8fe78d755c64fcec",
            "9bd03fa0da724ecfb3f98d60a54a4430",
            "9b3aa9e72dcb426cb102109d4e711ad7",
            "566b00ea16c141728934d208b5d307fd",
            "c0ac3aafa2754cf1b862de910462389a",
            "04dd4ec003cd4d069ebb7098a76d8e9c",
            "0b55affaaa2142f2b248b03ac5004417",
            "4131ef627e714ed4a224ab0c45e13130",
            "1c77c357e2b64e38aa6197355a2a89b3",
            "a6a519d50e95442283b0f4a945a8d754",
            "6bdc850ee23e43d8a7d2598a4c31ca31",
            "7f11d8901c9d4ce4ad260e2865302085",
            "9372fd74a7354c7e9dfa39c344814b72",
            "1e12155d5c4b472b994a7c2df0334461",
            "2110bcdd81f44aaea58475eb28091111",
            "04831171c9854095b2ef0f61f6517920",
            "058e2ba4915f43c8a3ee4e8b540c6044",
            "29c663cee970487f942738fab583e8ad",
            "c9e2bff268444eb3b5313a038f8636ea",
            "18d593840a52448c87c1b5ccd960e614",
            "b26bb1301b344d85932e7d6922a5edc9",
            "8b9b5f7688e44b7db568f557505fb9e8",
            "1ab796e8d7d940e1a1ae585405f8fb24",
            "5a487e56fe4f49659eb4fbb14581bba2",
            "a896bd04e5a5496fb664e119e261bb32",
            "2c004ebc4e894a69a52b4094212dea72",
            "4a7c40e9f8f44970bdfb7fa5e11487e0",
            "3f7841b409cb4ddb9a4900bc5032e7fa",
            "7a08a447546040ab8744b85ac9b70622",
            "b5a8133e56a3431f8d19b7a6534ec84f",
            "364ae6598419408ea43b0bb0a8595364",
            "c1cbbfee02d64c209c9f1266bfd42468",
            "3614c43acf9443e19f4834c2c2d9bcd4",
            "fc21786499484e78830357023e11e606",
            "da731c6741f64024aeb70a996d7c0b66",
            "9f40182075ba40abbd74f9c21051a730",
            "e335dea1476e41fab01647a45816ee0f",
            "c72de78626d14fcbbf6431ed8bbfe1d0",
            "b8c4b081f4d84755a0a2c54b7e5f5c5a",
            "1bd31e849d0d4602b00b59621d4bd9cc",
            "5ee48fc2ce5141b8ae25bdad8cf8b383"
          ]
        },
        "id": "wwmqiDg8H9W7",
        "outputId": "3477a674-5de3-4bed-f0f9-1446e4efb0ad"
      },
      "outputs": [
        {
          "output_type": "display_data",
          "data": {
            "text/plain": [
              "Stringifying the column:   0%|          | 0/12 [00:00<?, ?ba/s]"
            ],
            "application/vnd.jupyter.widget-view+json": {
              "version_major": 2,
              "version_minor": 0,
              "model_id": "19c86504a2bb4d2791c15973310625f8"
            }
          },
          "metadata": {}
        },
        {
          "output_type": "display_data",
          "data": {
            "text/plain": [
              "Casting to class labels:   0%|          | 0/12 [00:00<?, ?ba/s]"
            ],
            "application/vnd.jupyter.widget-view+json": {
              "version_major": 2,
              "version_minor": 0,
              "model_id": "b630fc150377456ab9904d84d0df3b71"
            }
          },
          "metadata": {}
        },
        {
          "output_type": "display_data",
          "data": {
            "text/plain": [
              "Casting the dataset:   0%|          | 0/2 [00:00<?, ?ba/s]"
            ],
            "application/vnd.jupyter.widget-view+json": {
              "version_major": 2,
              "version_minor": 0,
              "model_id": "8fab201644a242e8931e70bdfef37bea"
            }
          },
          "metadata": {}
        },
        {
          "output_type": "display_data",
          "data": {
            "text/plain": [
              "Stringifying the column:   0%|          | 0/8 [00:00<?, ?ba/s]"
            ],
            "application/vnd.jupyter.widget-view+json": {
              "version_major": 2,
              "version_minor": 0,
              "model_id": "1c77c357e2b64e38aa6197355a2a89b3"
            }
          },
          "metadata": {}
        },
        {
          "output_type": "display_data",
          "data": {
            "text/plain": [
              "Casting to class labels:   0%|          | 0/8 [00:00<?, ?ba/s]"
            ],
            "application/vnd.jupyter.widget-view+json": {
              "version_major": 2,
              "version_minor": 0,
              "model_id": "18d593840a52448c87c1b5ccd960e614"
            }
          },
          "metadata": {}
        },
        {
          "output_type": "display_data",
          "data": {
            "text/plain": [
              "Casting the dataset:   0%|          | 0/1 [00:00<?, ?ba/s]"
            ],
            "application/vnd.jupyter.widget-view+json": {
              "version_major": 2,
              "version_minor": 0,
              "model_id": "364ae6598419408ea43b0bb0a8595364"
            }
          },
          "metadata": {}
        }
      ],
      "source": [
        "train_ds = train_ds.class_encode_column(column='label') # YOUR CODE HERE\n",
        "test_ds = test_ds.class_encode_column(column='label') # YOUR CODE HERE"
      ],
      "id": "wwmqiDg8H9W7"
    },
    {
      "cell_type": "markdown",
      "metadata": {
        "id": "1fa82ebb"
      },
      "source": [
        "1. Create the validation set by apply [`train_ds.train_test_split()`](https://huggingface.co/docs/datasets/package_reference/main_classes#datasets.Dataset.train_test_split). Similarly, set the test size to 0.1, and set the random state to 19. Make sure the split is stratified by column `label`. Save the result to `train_dsd` as the result is a DatasetDict object.\n",
        "\n",
        "    Here's another way to do train / validation / test split: [ref](https://discuss.huggingface.co/t/how-to-split-main-dataset-into-train-dev-test-as-datasetdict/1090/2)"
      ],
      "id": "1fa82ebb"
    },
    {
      "cell_type": "code",
      "execution_count": 29,
      "metadata": {
        "id": "VvDkzSZsIEHx"
      },
      "outputs": [],
      "source": [
        "train_dsd = train_ds.train_test_split(test_size=0.1, seed=19, stratify_by_column=\"label\")# YOUR CODE HERE"
      ],
      "id": "VvDkzSZsIEHx"
    },
    {
      "cell_type": "code",
      "execution_count": 30,
      "metadata": {
        "colab": {
          "base_uri": "https://localhost:8080/"
        },
        "id": "o3XIsj3Z94wi",
        "outputId": "750cdc3e-8770-4cdd-8d6e-160ec73f4d2e"
      },
      "outputs": [
        {
          "output_type": "execute_result",
          "data": {
            "text/plain": [
              "DatasetDict({\n",
              "    train: Dataset({\n",
              "        features: ['text', 'label'],\n",
              "        num_rows: 10182\n",
              "    })\n",
              "    test: Dataset({\n",
              "        features: ['text', 'label'],\n",
              "        num_rows: 1132\n",
              "    })\n",
              "})"
            ]
          },
          "metadata": {},
          "execution_count": 30
        }
      ],
      "source": [
        "train_dsd"
      ],
      "id": "o3XIsj3Z94wi"
    },
    {
      "cell_type": "markdown",
      "metadata": {
        "id": "bf61e97c"
      },
      "source": [
        "1. Yet the 'test' set inside `train_dsd` is meant for validation, the following code will rename the test set to validation and add a new DataSet object for the test set."
      ],
      "id": "bf61e97c"
    },
    {
      "cell_type": "code",
      "execution_count": 31,
      "metadata": {
        "id": "Zwq78iZiIUxE"
      },
      "outputs": [],
      "source": [
        "train_dsd['validation'] = train_dsd['test']\n",
        "train_dsd['test'] = test_ds"
      ],
      "id": "Zwq78iZiIUxE"
    },
    {
      "cell_type": "code",
      "execution_count": 32,
      "metadata": {
        "colab": {
          "base_uri": "https://localhost:8080/"
        },
        "id": "AkW4gXlqIhdq",
        "outputId": "00dc6f1f-3c59-4b72-ae12-2cefc72bf20a"
      },
      "outputs": [
        {
          "output_type": "execute_result",
          "data": {
            "text/plain": [
              "DatasetDict({\n",
              "    train: Dataset({\n",
              "        features: ['text', 'label'],\n",
              "        num_rows: 10182\n",
              "    })\n",
              "    test: Dataset({\n",
              "        features: ['text', 'label'],\n",
              "        num_rows: 7532\n",
              "    })\n",
              "    validation: Dataset({\n",
              "        features: ['text', 'label'],\n",
              "        num_rows: 1132\n",
              "    })\n",
              "})"
            ]
          },
          "metadata": {},
          "execution_count": 32
        }
      ],
      "source": [
        "train_dsd"
      ],
      "id": "AkW4gXlqIhdq"
    },
    {
      "cell_type": "markdown",
      "metadata": {
        "id": "8ab80c71"
      },
      "source": [
        "1. Load the DistilBERT tokenizer to process the text. \n",
        "    \n",
        "    Use [`AutoTokenizer`](https://huggingface.co/docs/transformers/v4.20.1/en/model_doc/auto#transformers.AutoTokenizer) to load the tokenizer for the given `model_checkpoint`. "
      ],
      "id": "8ab80c71"
    },
    {
      "cell_type": "code",
      "execution_count": 33,
      "metadata": {
        "id": "Xhq4BycpLjwj",
        "colab": {
          "base_uri": "https://localhost:8080/",
          "height": 145,
          "referenced_widgets": [
            "e62ae5af98564eb2b8391e18da894bc7",
            "1410650019ad4004b87ff215efce9baa",
            "bd2db6ba43204fc89e314b0d17a40c4f",
            "ee4d2108b81c49b9aba116edbce7a1be",
            "b3559dd325c24823836839eec773a1f7",
            "8bcae8817719408a9579e4838d8069fb",
            "ee0f88ef137f4444878c3a9720bf7d85",
            "6e451223e065441b8b182bdc24ea4822",
            "fc54c663065442ef981200c9abbf7aaa",
            "fe17cbbe4f2c42238251f80f84a47367",
            "07b79f22547b4905913c12ab92bd1ed8",
            "d8c2a9399c864c95932253dd9746b5a4",
            "96a1d9dddb5c46938c27f993b3809c18",
            "a8324934ffd94e889b506d6e26363f4f",
            "472692c2ca03471caa7000ddb6c67158",
            "c82c64040ab04056ad8499c932bac9b2",
            "4444be7309d148c49373b4ca45e54f6f",
            "e076ffc1fecc4593b1fe802018b18e50",
            "80ea9c272c8948759429209440955a25",
            "0cba273810544b7a9473c692aeb00cc5",
            "0296a63be935448f9c0b97a25f8ad6c1",
            "b21c85a138a54fcabc8817520d30a334",
            "9fa874b5dfe049e299bc05e8e534fc4f",
            "933f3028f5b84034b5bf3216fe5aba08",
            "3a51eaeab4454769a56bd3306add5b82",
            "48b84342bb4a4ca5b36cd43d29d74940",
            "bf314eaa073e4651ae28094a235e9255",
            "ef519d5210994f07bfe433d7d68dca06",
            "fab64bc14b8444b6b4509c4b8c3d4ce2",
            "dd55bf49cf404d3684bd885a537338a1",
            "dca318a64d7f45a6b32bdf782f927039",
            "f05b42c62e754343b8404131f184ee8f",
            "ed8b0d02fb514491bf1cf504f6d833f4",
            "f138cf63bb99477ea804067a0a5bc95e",
            "c315a90a9de948c790873828ff5a6da4",
            "e9556293ea6d4f7295ceaf382f28da91",
            "59ff20e673d44b149131329ea387c63d",
            "6f72d812eda547d5a3c7922ef31a002d",
            "72c0ba4138eb49a19bca80c3aee90be9",
            "b993d301abdf43c4b9504e12d8c5fd7a",
            "f7e17d16e8934672a25b3c69a1ef3531",
            "86178c4ba93b4fcab776fde946528487",
            "2d88c9e7976e4dffaae77c3127614dff",
            "b42de56f8b6849318fa2b1c6aa3cc26e"
          ]
        },
        "outputId": "01ff48ed-de11-49ec-a334-b2b6904bf343"
      },
      "outputs": [
        {
          "output_type": "display_data",
          "data": {
            "text/plain": [
              "Downloading:   0%|          | 0.00/28.0 [00:00<?, ?B/s]"
            ],
            "application/vnd.jupyter.widget-view+json": {
              "version_major": 2,
              "version_minor": 0,
              "model_id": "e62ae5af98564eb2b8391e18da894bc7"
            }
          },
          "metadata": {}
        },
        {
          "output_type": "display_data",
          "data": {
            "text/plain": [
              "Downloading:   0%|          | 0.00/483 [00:00<?, ?B/s]"
            ],
            "application/vnd.jupyter.widget-view+json": {
              "version_major": 2,
              "version_minor": 0,
              "model_id": "d8c2a9399c864c95932253dd9746b5a4"
            }
          },
          "metadata": {}
        },
        {
          "output_type": "display_data",
          "data": {
            "text/plain": [
              "Downloading:   0%|          | 0.00/226k [00:00<?, ?B/s]"
            ],
            "application/vnd.jupyter.widget-view+json": {
              "version_major": 2,
              "version_minor": 0,
              "model_id": "9fa874b5dfe049e299bc05e8e534fc4f"
            }
          },
          "metadata": {}
        },
        {
          "output_type": "display_data",
          "data": {
            "text/plain": [
              "Downloading:   0%|          | 0.00/455k [00:00<?, ?B/s]"
            ],
            "application/vnd.jupyter.widget-view+json": {
              "version_major": 2,
              "version_minor": 0,
              "model_id": "f138cf63bb99477ea804067a0a5bc95e"
            }
          },
          "metadata": {}
        }
      ],
      "source": [
        "from transformers import AutoTokenizer\n",
        "model_checkpoint = \"distilbert-base-uncased\"\n",
        "tokenizer = AutoTokenizer.from_pretrained(model_checkpoint)# YOUR CODE HERE"
      ],
      "id": "Xhq4BycpLjwj"
    },
    {
      "cell_type": "markdown",
      "metadata": {
        "id": "d0a26945"
      },
      "source": [
        "1. Create a preprocessing function to tokenize text, truncate and pad sequences to be no longer than DistilBERT’s maximum input length:"
      ],
      "id": "d0a26945"
    },
    {
      "cell_type": "code",
      "execution_count": 34,
      "metadata": {
        "id": "6hnc5JOejihx"
      },
      "outputs": [],
      "source": [
        "def preprocess_function(examples):\n",
        "    return tokenizer(examples['text'], truncation=True, padding=True, max_length=MAX_LEN)\n",
        "    "
      ],
      "id": "6hnc5JOejihx"
    },
    {
      "cell_type": "markdown",
      "metadata": {
        "id": "f8cc46b6"
      },
      "source": [
        "1. Use 🤗 Datasets [map](https://huggingface.co/docs/datasets/package_reference/main_classes#datasets.Dataset.map) function to apply the preprocessing function over the entire dataset. You can speed up the map function by setting `batched=True` to process multiple elements of the dataset at once:"
      ],
      "id": "f8cc46b6"
    },
    {
      "cell_type": "code",
      "execution_count": 35,
      "metadata": {
        "colab": {
          "base_uri": "https://localhost:8080/",
          "height": 122
        },
        "id": "vBIYxnn9tTfS",
        "outputId": "28ee1c69-a76c-4994-ccb5-e6dcfbdc1e89"
      },
      "outputs": [
        {
          "output_type": "execute_result",
          "data": {
            "text/plain": [
              "'From: sera@zuma.UUCP (Serdar Argic)\\nSubject: Its entire Muslim population had been slaughtered by the Armenians.\\nReply-To: sera@zuma.UUCP (Serdar Argic)\\nDistribution: world\\nLines: 31\\n\\nSource: \"Men Are Like That\" by Leonard Ramsden Hartill. The Bobbs-Merrill\\nCompany, Indianapolis (1926). (305 pages). \\n(Memoirs of an Armenian officer who participated in the genocide of 2.5 \\n million Muslim people)\\n\\n\\np. 19 (first paragraph)\\n\\n\"The Tartar section of the town no longer existed, except as a pile of\\n ruins. It had been destroyed and its inhabitants slaughtered. The same \\n fate befell the Tartar section of Khankandi.\"\\n\\np. 22 (second paragraph)\\n\\n\"Many of our men had served in the Russian Army, and were trained soldiers.\\n We Armenians were rich and possessed arms. Tartars had never received\\n military training. They were poor, and possessed few arms beyond knives.\\n Shortly after the killing of the Tartars in our village, the revolution\\n in Russia was suppressed.\"\\n\\n\\nSerdar Argic\\n\\n                           \\'We closed the roads and mountain passes that \\n                            might serve as ways of escape for the Turks \\n                            and then proceeded in the work of extermination.\\'\\n                                                  (Ohanus Appressian - 1919)\\n                           \\'In Soviet Armenia today there no longer exists \\n                            a single Turkish soul.\\' (Sahak Melkonian - 1920)\\n\\n\\n'"
            ],
            "application/vnd.google.colaboratory.intrinsic+json": {
              "type": "string"
            }
          },
          "metadata": {},
          "execution_count": 35
        }
      ],
      "source": [
        "train_dsd['train']['text'][0]"
      ],
      "id": "vBIYxnn9tTfS"
    },
    {
      "cell_type": "code",
      "execution_count": 36,
      "metadata": {
        "colab": {
          "base_uri": "https://localhost:8080/",
          "height": 113,
          "referenced_widgets": [
            "8858aa86329e455fbfa376cdaa74d32c",
            "a8c73ec381744319a132776536a6f138",
            "e1ba6932d4c34542b4689cf7f9c3641a",
            "604b742a4989473cbb97da968fff8426",
            "fc6f12a622b14a62a9c6ce536bfa138c",
            "f622e3a343c041f09b418a13f99896f9",
            "41154777563041139945b394aad67b04",
            "5ad312eb6a154bca87e4bfd6a52730d3",
            "e96e21db9fb64bd0b6098127fc000878",
            "9cfc768fa2904b5bb0a91c85991d509c",
            "7969275160124edbbdf3aa82ead8b9aa",
            "7cbe137b9fa84a96b2698da49bfc1887",
            "fcc3c91b4c694f539c58b1841a5d9b85",
            "8e55329b73684bed9f08b103f3b11dfb",
            "578d2e9a19fb4e93968a3c65ec45355a",
            "1bfc6a03693447b9b556f0b4aa2bc708",
            "e44c2a6842a64d0fb4b69b17f13308a8",
            "ab1c58ab894843fa8d5dbda6ffab9093",
            "fff3c0cea61b493ab3f0c7a3c3af05ef",
            "96b46161146e45a3bcf008188c10b2aa",
            "74ecf75117414d46b175d0dc4f558864",
            "8f8db45955e94338bce1ba10b51020fe",
            "c4a0b5cea83943388d70bec63a2f01ca",
            "4ebdd30ee68a423a921e4031f6ab02b5",
            "9115e8a0a2a244d7817c034ee543d352",
            "db98a53730e54dde872ae44cfae461c4",
            "f19d7d5c3d45408ead0181e640644b3c",
            "3180960f45a347f2b4f8e7c39b6062ae",
            "79429e7b9b35427bbd2ebb35f22b9bf2",
            "2b4034af8e6e40f9801f3aa6f22d0162",
            "d0b739f0e1d04e30ad11dc97bf429045",
            "690e85f416fc4107b8f371035ad5718a",
            "b14498f4f0724cf3a9d21b0ff3fd40df"
          ]
        },
        "id": "6KWmC63UImNZ",
        "outputId": "6b87e361-f79f-4cfc-bd76-4513bab38246"
      },
      "outputs": [
        {
          "output_type": "display_data",
          "data": {
            "text/plain": [
              "  0%|          | 0/11 [00:00<?, ?ba/s]"
            ],
            "application/vnd.jupyter.widget-view+json": {
              "version_major": 2,
              "version_minor": 0,
              "model_id": "8858aa86329e455fbfa376cdaa74d32c"
            }
          },
          "metadata": {}
        },
        {
          "output_type": "display_data",
          "data": {
            "text/plain": [
              "  0%|          | 0/8 [00:00<?, ?ba/s]"
            ],
            "application/vnd.jupyter.widget-view+json": {
              "version_major": 2,
              "version_minor": 0,
              "model_id": "7cbe137b9fa84a96b2698da49bfc1887"
            }
          },
          "metadata": {}
        },
        {
          "output_type": "display_data",
          "data": {
            "text/plain": [
              "  0%|          | 0/2 [00:00<?, ?ba/s]"
            ],
            "application/vnd.jupyter.widget-view+json": {
              "version_major": 2,
              "version_minor": 0,
              "model_id": "c4a0b5cea83943388d70bec63a2f01ca"
            }
          },
          "metadata": {}
        }
      ],
      "source": [
        "tokenized_text = train_dsd.map(preprocess_function, batched=True)# YOUR CODE HERE\n"
      ],
      "id": "6KWmC63UImNZ"
    },
    {
      "cell_type": "markdown",
      "metadata": {
        "id": "78e1e59d"
      },
      "source": [
        "1. Use [DataCollatorWithPadding](https://huggingface.co/docs/transformers/v4.20.1/en/main_classes/data_collator#transformers.DataCollatorWithPadding) to create a batch of examples. Set the type of Tensor to return as 'tf' as we will fine-tune the model in TensorFlow."
      ],
      "id": "78e1e59d"
    },
    {
      "cell_type": "code",
      "execution_count": 37,
      "metadata": {
        "id": "D8xk28M1O4GO"
      },
      "outputs": [],
      "source": [
        "from transformers import DataCollatorWithPadding\n",
        "data_collator = DataCollatorWithPadding(tokenizer, return_tensors='tf')# YOUR CODE HERE"
      ],
      "id": "D8xk28M1O4GO"
    },
    {
      "cell_type": "markdown",
      "metadata": {
        "id": "bc0fe020"
      },
      "source": [
        "1. To fine-tune a model in TensorFlow, start by converting datasets to the `tf.data.Dataset` format with `to_tf_dataset`. \n",
        "\n",
        "    Specify inputs and labels in columns, whether to shuffle the dataset order, batch size, and the data collator:"
      ],
      "id": "bc0fe020"
    },
    {
      "cell_type": "code",
      "execution_count": 38,
      "metadata": {
        "id": "25fh9ZxkIsI4"
      },
      "outputs": [],
      "source": [
        "BATCH_SIZE = 16\n",
        "\n",
        "tf_train_set = tokenized_text['train'].to_tf_dataset(\n",
        "    columns=[\"attention_mask\", \"input_ids\", \"token_type_ids\"], # YOUR CODE HERE\n",
        "    label_cols = ['labels'],\n",
        "    shuffle=True, # YOUR CODE HERE\n",
        "    batch_size=BATCH_SIZE,\n",
        "    collate_fn=data_collator\n",
        ")\n",
        "tf_validation_set = tokenized_text[\"validation\"].to_tf_dataset(\n",
        "    columns=[\"attention_mask\", \"input_ids\", \"token_type_ids\"], # YOUR CODE HERE\n",
        "    label_cols = ['labels'],\n",
        "    shuffle=True, # YOUR CODE HERE\n",
        "    batch_size=BATCH_SIZE,\n",
        "    collate_fn=data_collator,\n",
        "    )\n",
        "tf_test_set = tokenized_text[\"test\"].to_tf_dataset(\n",
        "    columns=[\"attention_mask\", \"input_ids\", \"token_type_ids\"], # YOUR CODE HERE\n",
        "    label_cols = ['labels'],\n",
        "    shuffle=True,# YOUR CODE HERE\n",
        "    batch_size=BATCH_SIZE,\n",
        "    collate_fn=data_collator,\n",
        "    )"
      ],
      "id": "25fh9ZxkIsI4"
    },
    {
      "cell_type": "markdown",
      "metadata": {
        "id": "e475a9f9"
      },
      "source": [
        "1. Set up an optimizer function, learning rate schedule, and some training hyperparameters:"
      ],
      "id": "e475a9f9"
    },
    {
      "cell_type": "code",
      "execution_count": 39,
      "metadata": {
        "id": "6ZJblOkpW27x"
      },
      "outputs": [],
      "source": [
        "from transformers import create_optimizer\n",
        "\n",
        "EPOCHS = 5\n",
        "batches_per_epoch = len(tokenized_text[\"train\"]) // BATCH_SIZE\n",
        "total_train_steps = int(batches_per_epoch * EPOCHS)\n",
        "optimizer, schedule = create_optimizer(init_lr=2e-5, \n",
        "                                       num_warmup_steps=0, \n",
        "                                       num_train_steps=total_train_steps)\n"
      ],
      "id": "6ZJblOkpW27x"
    },
    {
      "cell_type": "markdown",
      "metadata": {
        "id": "f2997fc2"
      },
      "source": [
        "1. Load DistilBERT with  [TFAutoModelForSequenceClassification](https://huggingface.co/docs/transformers/v4.20.1/en/model_doc/auto#transformers.TFAutoModelForSequenceClassification) along with the number of expected labels:"
      ],
      "id": "f2997fc2"
    },
    {
      "cell_type": "code",
      "execution_count": 40,
      "metadata": {
        "colab": {
          "base_uri": "https://localhost:8080/",
          "height": 156,
          "referenced_widgets": [
            "46b1da76b477477280b3f5a773ce0492",
            "19b8d812a5c04785b510422d994d0889",
            "4a7ac174a21441bd9694645fb5e976ed",
            "5afe30efac2c45198652f8aa93a13ad4",
            "037b0ecf4f4e4326902895fee167f45a",
            "554068822099436fb8e96c178ced3cbf",
            "ce6a1eb624134072a6fda63cc9c1fe22",
            "d3214690e2ba4a5782c39088e0d1114f",
            "c9294f4e00324ccdac07048fa7dee64a",
            "03948489fe05484fbd7bd01a9c7ea86f",
            "14445cf2664a485d8a747a451e3e3830"
          ]
        },
        "id": "vCnl8FHEYanJ",
        "outputId": "7be80d04-c867-4283-e51c-e4f316046353"
      },
      "outputs": [
        {
          "output_type": "display_data",
          "data": {
            "text/plain": [
              "Downloading:   0%|          | 0.00/347M [00:00<?, ?B/s]"
            ],
            "application/vnd.jupyter.widget-view+json": {
              "version_major": 2,
              "version_minor": 0,
              "model_id": "46b1da76b477477280b3f5a773ce0492"
            }
          },
          "metadata": {}
        },
        {
          "output_type": "stream",
          "name": "stderr",
          "text": [
            "Some layers from the model checkpoint at distilbert-base-uncased were not used when initializing TFDistilBertForSequenceClassification: ['vocab_projector', 'activation_13', 'vocab_layer_norm', 'vocab_transform']\n",
            "- This IS expected if you are initializing TFDistilBertForSequenceClassification from the checkpoint of a model trained on another task or with another architecture (e.g. initializing a BertForSequenceClassification model from a BertForPreTraining model).\n",
            "- This IS NOT expected if you are initializing TFDistilBertForSequenceClassification from the checkpoint of a model that you expect to be exactly identical (initializing a BertForSequenceClassification model from a BertForSequenceClassification model).\n",
            "Some layers of TFDistilBertForSequenceClassification were not initialized from the model checkpoint at distilbert-base-uncased and are newly initialized: ['classifier', 'pre_classifier', 'dropout_20']\n",
            "You should probably TRAIN this model on a down-stream task to be able to use it for predictions and inference.\n"
          ]
        }
      ],
      "source": [
        "from transformers import TFAutoModelForSequenceClassification\n",
        "\n",
        "my_bert = TFAutoModelForSequenceClassification.from_pretrained(model_checkpoint, num_labels=NUM_LABELS)# YOUR CODE HERE"
      ],
      "id": "vCnl8FHEYanJ"
    },
    {
      "cell_type": "markdown",
      "metadata": {
        "id": "97cb0e7b"
      },
      "source": [
        "1. Don't forget to configure the model for training with [`compile`](https://keras.io/api/models/model_training_apis/#compile-method):"
      ],
      "id": "97cb0e7b"
    },
    {
      "cell_type": "code",
      "execution_count": 43,
      "metadata": {
        "id": "s7HGL_nCYfba"
      },
      "outputs": [],
      "source": [
        "my_bert.compile(optimizer=optimizer, loss=tf.keras.losses.SparseCategoricalCrossentropy(from_logits=True), metrics=['accuracy'])\n"
      ],
      "id": "s7HGL_nCYfba"
    },
    {
      "cell_type": "markdown",
      "metadata": {
        "id": "QifyGkqhofwB"
      },
      "source": [
        "1. Finally, let the fine-tuning start!\n",
        "\n",
        "    You may run into CoLab's usage limit, feel free to lower the parameter `epochs` to 3; even so, it could take ~10 minutes. "
      ],
      "id": "QifyGkqhofwB"
    },
    {
      "cell_type": "code",
      "execution_count": 44,
      "metadata": {
        "colab": {
          "base_uri": "https://localhost:8080/"
        },
        "id": "cJjfKl0TY0A0",
        "outputId": "51b43617-fbf0-450b-f588-d27de876d6c1"
      },
      "outputs": [
        {
          "output_type": "stream",
          "name": "stdout",
          "text": [
            "Epoch 1/3\n",
            "637/637 - 305s - loss: 0.5696 - accuracy: 0.8435 - val_loss: 0.4355 - val_accuracy: 0.8657 - 305s/epoch - 478ms/step\n",
            "Epoch 2/3\n",
            "637/637 - 295s - loss: 0.2821 - accuracy: 0.9237 - val_loss: 0.3463 - val_accuracy: 0.9064 - 295s/epoch - 464ms/step\n",
            "Epoch 3/3\n",
            "637/637 - 295s - loss: 0.1608 - accuracy: 0.9628 - val_loss: 0.3170 - val_accuracy: 0.9143 - 295s/epoch - 464ms/step\n",
            "CPU times: user 10min 50s, sys: 11.5 s, total: 11min 2s\n",
            "Wall time: 15min 46s\n"
          ]
        }
      ],
      "source": [
        "%%time\n",
        "# YOUR CODE HERE\n",
        "history = my_bert.fit(tf_train_set, validation_data=tf_validation_set, epochs=3, verbose=2)\n"
      ],
      "id": "cJjfKl0TY0A0"
    },
    {
      "cell_type": "markdown",
      "metadata": {
        "id": "vPEoQlMw5VBq"
      },
      "source": [
        "1. As you are waiting for the fine-tuning to finish, how many parameters does DistilBERT have? How about BERT? What is the world's largest open Multilingual Language Model as of July 2022? (hint: 🌸) \n",
        "\n",
        "    YOUR ANSWER HERE"
      ],
      "id": "vPEoQlMw5VBq"
    },
    {
      "cell_type": "markdown",
      "metadata": {
        "id": "c4b23c02"
      },
      "source": [
        "1. Evaluate the model on the test data. \n",
        "    \n",
        "    Use `evaluate` to evaluate the model on the test data (accuracy shall be around 0.84)."
      ],
      "id": "c4b23c02"
    },
    {
      "cell_type": "code",
      "execution_count": 45,
      "metadata": {
        "colab": {
          "base_uri": "https://localhost:8080/"
        },
        "id": "vyvGP0mY-4_x",
        "outputId": "86ff5bb7-2fba-4fb7-cfa7-e73139de70a0"
      },
      "outputs": [
        {
          "output_type": "stream",
          "name": "stdout",
          "text": [
            "471/471 [==============================] - 73s 155ms/step - loss: 0.5573 - accuracy: 0.8451\n"
          ]
        }
      ],
      "source": [
        "bert_loss, bert_acc = my_bert.evaluate(tf_test_set) # YOUR CODE HERE\n"
      ],
      "id": "vyvGP0mY-4_x"
    },
    {
      "cell_type": "markdown",
      "metadata": {
        "id": "ba3081e8"
      },
      "source": [
        "1. Optional. If you are happy with the result, you can save the model to a file. \n",
        "    \n",
        "    One easy way to do it is to use [`save_pretrained()`](https://huggingface.co/docs/transformers/main_classes/model#transformers.PreTrainedModel.save_pretrained) to save the model to a file. Check [Export 🤗 Transformers Models](https://huggingface.co/docs/transformers/serialization) for deployment options."
      ],
      "id": "ba3081e8"
    },
    {
      "cell_type": "code",
      "source": [
        "from google.colab import drive\n",
        "drive.mount('/content/drive')"
      ],
      "metadata": {
        "colab": {
          "base_uri": "https://localhost:8080/"
        },
        "id": "6k_lbeqXZxdT",
        "outputId": "fb5af4c7-3ec4-4d80-ce72-f789eb38ebc7"
      },
      "id": "6k_lbeqXZxdT",
      "execution_count": 48,
      "outputs": [
        {
          "output_type": "stream",
          "name": "stdout",
          "text": [
            "Mounted at /content/drive\n"
          ]
        }
      ]
    },
    {
      "cell_type": "code",
      "source": [
        "path = 'drive/MyDrive/fourthbrain/week-10-transformers/save-model'"
      ],
      "metadata": {
        "id": "hWwZP49Sakme"
      },
      "id": "hWwZP49Sakme",
      "execution_count": 54,
      "outputs": []
    },
    {
      "cell_type": "code",
      "source": [
        "my_bert.save_pretrained(path)\n"
      ],
      "metadata": {
        "id": "CVsfH7jrZVvw"
      },
      "id": "CVsfH7jrZVvw",
      "execution_count": 55,
      "outputs": []
    },
    {
      "cell_type": "markdown",
      "metadata": {
        "id": "uD3fV0qVn8qv"
      },
      "source": [
        "# Acknowledgement & Reference"
      ],
      "id": "uD3fV0qVn8qv"
    },
    {
      "cell_type": "markdown",
      "metadata": {
        "id": "TqTjj4qRoApb"
      },
      "source": [
        "- Part of the notebook is adapted from [Text Classification - Attention](https://www.kaggle.com/code/ritvik1909/text-classification-attention)\n",
        "- Part of the notebook is adapted from [Fine-tune a pretrained model with Hugging Face](https://huggingface.co/docs/transformers/training)\n",
        "- We used accuracy for metric, check out [Comprehensive Guide to Multiclass Classification Metrics](https://towardsdatascience.com/comprehensive-guide-on-multiclass-classification-metrics-af94cfb83fbd).\n",
        "- [BERT Explained: State of the art language model for NLP](https://towardsdatascience.com/bert-explained-state-of-the-art-language-model-for-nlp-f8b21a9b6270)\n",
        "- [Hugging Face: State-of-the-Art Natural Language Processing in ten lines of TensorFlow 2.0](https://medium.com/tensorflow/using-tensorflow-2-for-state-of-the-art-natural-language-processing-102445cda54a)\n",
        "- More readings on Transformers, check the Course Materials section on [CS25: Transformers United](https://web.stanford.edu/class/cs25/)\n"
      ],
      "id": "TqTjj4qRoApb"
    },
    {
      "cell_type": "markdown",
      "metadata": {
        "id": "fBeTlZ0b9k5P"
      },
      "source": [
        "# Question and Answer\n",
        "\n",
        "\n",
        "1.   In the transformer architecture in the paper \"Attention Is All You Need\", how does Multi-head Attention work?\n",
        "\n",
        "\n",
        "> Multi-head Attention linearly project the queries, keys and values h times with different, learned linear projections to dk, dk and dv dimensions, respectively. On each of these projected versions of queries, keys and values we then perform the attention function in parallel, yielding dv-dimensional\n",
        "output values. These are concatenated and once again projected, resulting in the final values. Multi-head attention allows the model to jointly attend to information from different representation subspaces at different positions.\n",
        "\n",
        "![multi-head-attention_l1A3G7a.png](data:image/png;base64,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)\n",
        "\n",
        "\n",
        "2.   What is the main idea behind Positional Encoding?\n",
        "\n",
        "\n",
        "> In NLP, the order of words is very important, the meaning of sentences will change completely if words is not in order. Positional Encoding is a method use in NLP to capture words in order, so that the information of sentences have been stored and help model to have a good predictions.\n",
        "\n",
        "3.   What is EarlyStopping and why do we use it?\n",
        "\n",
        "\n",
        "\n",
        "> EarlyStopping is a callback method that monitors training process, record the best training paramters and stops training when a certain condition meet. For example we might request to stop training if validation loss does not improve after 5 epochs. This method is very helpful to avoid overfitting trainingset. \n",
        "\n",
        "\n",
        "4.   How would explain what a transformer model is to business stakeholders (at a high level)?\n",
        "\n",
        "\n",
        "> Transformer models are big language models that have been pretrained with a specific dataset. This type of model develops a statistical understanding of the language it has been trained on, but it’s not very useful for specific practical tasks. Because of this, the general pretrained model then goes through a process called *transfer learning*. During this process, the model is fine-tuned in a supervised way — that is, using human-annotated labels — on a given task.\n"
      ],
      "id": "fBeTlZ0b9k5P"
    },
    {
      "cell_type": "code",
      "source": [
        ""
      ],
      "metadata": {
        "id": "-e70Y97WLueG"
      },
      "id": "-e70Y97WLueG",
      "execution_count": null,
      "outputs": []
    }
  ],
  "metadata": {
    "accelerator": "GPU",
    "colab": {
      "collapsed_sections": [],
      "name": "news-article-classification.ipynb",
      "provenance": [],
      "include_colab_link": true
    },
    "gpuClass": "standard",
    "kernelspec": {
      "display_name": "Python 3.9.12 ('py39_12')",
      "language": "python",
      "name": "python3"
    },
    "language_info": {
      "codemirror_mode": {
        "name": "ipython",
        "version": 3
      },
      "file_extension": ".py",
      "mimetype": "text/x-python",
      "name": "python",
      "nbconvert_exporter": "python",
      "pygments_lexer": "ipython3",
      "version": "3.9.12"
    },
    "papermill": {
      "default_parameters": {},
      "duration": 126.733939,
      "end_time": "2022-03-31T16:26:20.094746",
      "environment_variables": {},
      "exception": null,
      "input_path": "__notebook__.ipynb",
      "output_path": "__notebook__.ipynb",
      "parameters": {},
      "start_time": "2022-03-31T16:24:13.360807",
      "version": "2.3.3"
    },
    "vscode": {
      "interpreter": {
        "hash": "eb5849a166af78ad4c01ecae3786b95da7c29bbfa89231c0b15e21ad464a060f"
      }
    },
    "widgets": {
      "application/vnd.jupyter.widget-state+json": {
        "19c86504a2bb4d2791c15973310625f8": {
          "model_module": "@jupyter-widgets/controls",
          "model_name": "HBoxModel",
          "model_module_version": "1.5.0",
          "state": {
            "_dom_classes": [],
            "_model_module": "@jupyter-widgets/controls",
            "_model_module_version": "1.5.0",
            "_model_name": "HBoxModel",
            "_view_count": null,
            "_view_module": "@jupyter-widgets/controls",
            "_view_module_version": "1.5.0",
            "_view_name": "HBoxView",
            "box_style": "",
            "children": [
              "IPY_MODEL_0602c2237550469785a5755c77a00988",
              "IPY_MODEL_cb461719089a4646b771b42dc9862546",
              "IPY_MODEL_baa83ab320a24b499a047925733ac602"
            ],
            "layout": "IPY_MODEL_42a9a589930743e1966465adcdf6cc1a"
          }
        },
        "0602c2237550469785a5755c77a00988": {
          "model_module": "@jupyter-widgets/controls",
          "model_name": "HTMLModel",
          "model_module_version": "1.5.0",
          "state": {
            "_dom_classes": [],
            "_model_module": "@jupyter-widgets/controls",
            "_model_module_version": "1.5.0",
            "_model_name": "HTMLModel",
            "_view_count": null,
            "_view_module": "@jupyter-widgets/controls",
            "_view_module_version": "1.5.0",
            "_view_name": "HTMLView",
            "description": "",
            "description_tooltip": null,
            "layout": "IPY_MODEL_dea6c6e6fc5f4cf484e426274257283f",
            "placeholder": "​",
            "style": "IPY_MODEL_42a1469aff33431180ca53f149f3d38f",
            "value": "Stringifying the column: 100%"
          }
        },
        "cb461719089a4646b771b42dc9862546": {
          "model_module": "@jupyter-widgets/controls",
          "model_name": "FloatProgressModel",
          "model_module_version": "1.5.0",
          "state": {
            "_dom_classes": [],
            "_model_module": "@jupyter-widgets/controls",
            "_model_module_version": "1.5.0",
            "_model_name": "FloatProgressModel",
            "_view_count": null,
            "_view_module": "@jupyter-widgets/controls",
            "_view_module_version": "1.5.0",
            "_view_name": "ProgressView",
            "bar_style": "success",
            "description": "",
            "description_tooltip": null,
            "layout": "IPY_MODEL_1e80d866a2be4a1a849263dc14eed0e0",
            "max": 12,
            "min": 0,
            "orientation": "horizontal",
            "style": "IPY_MODEL_55b8101248104a05a788800299c287c7",
            "value": 12
          }
        },
        "baa83ab320a24b499a047925733ac602": {
          "model_module": "@jupyter-widgets/controls",
          "model_name": "HTMLModel",
          "model_module_version": "1.5.0",
          "state": {
            "_dom_classes": [],
            "_model_module": "@jupyter-widgets/controls",
            "_model_module_version": "1.5.0",
            "_model_name": "HTMLModel",
            "_view_count": null,
            "_view_module": "@jupyter-widgets/controls",
            "_view_module_version": "1.5.0",
            "_view_name": "HTMLView",
            "description": "",
            "description_tooltip": null,
            "layout": "IPY_MODEL_301887011b0940229199043211f18b5f",
            "placeholder": "​",
            "style": "IPY_MODEL_b6e2077c988b42d6b58a5fff06140378",
            "value": " 12/12 [00:00&lt;00:00, 84.72ba/s]"
          }
        },
        "42a9a589930743e1966465adcdf6cc1a": {
          "model_module": "@jupyter-widgets/base",
          "model_name": "LayoutModel",
          "model_module_version": "1.2.0",
          "state": {
            "_model_module": "@jupyter-widgets/base",
            "_model_module_version": "1.2.0",
            "_model_name": "LayoutModel",
            "_view_count": null,
            "_view_module": "@jupyter-widgets/base",
            "_view_module_version": "1.2.0",
            "_view_name": "LayoutView",
            "align_content": null,
            "align_items": null,
            "align_self": null,
            "border": null,
            "bottom": null,
            "display": null,
            "flex": null,
            "flex_flow": null,
            "grid_area": null,
            "grid_auto_columns": null,
            "grid_auto_flow": null,
            "grid_auto_rows": null,
            "grid_column": null,
            "grid_gap": null,
            "grid_row": null,
            "grid_template_areas": null,
            "grid_template_columns": null,
            "grid_template_rows": null,
            "height": null,
            "justify_content": null,
            "justify_items": null,
            "left": null,
            "margin": null,
            "max_height": null,
            "max_width": null,
            "min_height": null,
            "min_width": null,
            "object_fit": null,
            "object_position": null,
            "order": null,
            "overflow": null,
            "overflow_x": null,
            "overflow_y": null,
            "padding": null,
            "right": null,
            "top": null,
            "visibility": null,
            "width": null
          }
        },
        "dea6c6e6fc5f4cf484e426274257283f": {
          "model_module": "@jupyter-widgets/base",
          "model_name": "LayoutModel",
          "model_module_version": "1.2.0",
          "state": {
            "_model_module": "@jupyter-widgets/base",
            "_model_module_version": "1.2.0",
            "_model_name": "LayoutModel",
            "_view_count": null,
            "_view_module": "@jupyter-widgets/base",
            "_view_module_version": "1.2.0",
            "_view_name": "LayoutView",
            "align_content": null,
            "align_items": null,
            "align_self": null,
            "border": null,
            "bottom": null,
            "display": null,
            "flex": null,
            "flex_flow": null,
            "grid_area": null,
            "grid_auto_columns": null,
            "grid_auto_flow": null,
            "grid_auto_rows": null,
            "grid_column": null,
            "grid_gap": null,
            "grid_row": null,
            "grid_template_areas": null,
            "grid_template_columns": null,
            "grid_template_rows": null,
            "height": null,
            "justify_content": null,
            "justify_items": null,
            "left": null,
            "margin": null,
            "max_height": null,
            "max_width": null,
            "min_height": null,
            "min_width": null,
            "object_fit": null,
            "object_position": null,
            "order": null,
            "overflow": null,
            "overflow_x": null,
            "overflow_y": null,
            "padding": null,
            "right": null,
            "top": null,
            "visibility": null,
            "width": null
          }
        },
        "42a1469aff33431180ca53f149f3d38f": {
          "model_module": "@jupyter-widgets/controls",
          "model_name": "DescriptionStyleModel",
          "model_module_version": "1.5.0",
          "state": {
            "_model_module": "@jupyter-widgets/controls",
            "_model_module_version": "1.5.0",
            "_model_name": "DescriptionStyleModel",
            "_view_count": null,
            "_view_module": "@jupyter-widgets/base",
            "_view_module_version": "1.2.0",
            "_view_name": "StyleView",
            "description_width": ""
          }
        },
        "1e80d866a2be4a1a849263dc14eed0e0": {
          "model_module": "@jupyter-widgets/base",
          "model_name": "LayoutModel",
          "model_module_version": "1.2.0",
          "state": {
            "_model_module": "@jupyter-widgets/base",
            "_model_module_version": "1.2.0",
            "_model_name": "LayoutModel",
            "_view_count": null,
            "_view_module": "@jupyter-widgets/base",
            "_view_module_version": "1.2.0",
            "_view_name": "LayoutView",
            "align_content": null,
            "align_items": null,
            "align_self": null,
            "border": null,
            "bottom": null,
            "display": null,
            "flex": null,
            "flex_flow": null,
            "grid_area": null,
            "grid_auto_columns": null,
            "grid_auto_flow": null,
            "grid_auto_rows": null,
            "grid_column": null,
            "grid_gap": null,
            "grid_row": null,
            "grid_template_areas": null,
            "grid_template_columns": null,
            "grid_template_rows": null,
            "height": null,
            "justify_content": null,
            "justify_items": null,
            "left": null,
            "margin": null,
            "max_height": null,
            "max_width": null,
            "min_height": null,
            "min_width": null,
            "object_fit": null,
            "object_position": null,
            "order": null,
            "overflow": null,
            "overflow_x": null,
            "overflow_y": null,
            "padding": null,
            "right": null,
            "top": null,
            "visibility": null,
            "width": null
          }
        },
        "55b8101248104a05a788800299c287c7": {
          "model_module": "@jupyter-widgets/controls",
          "model_name": "ProgressStyleModel",
          "model_module_version": "1.5.0",
          "state": {
            "_model_module": "@jupyter-widgets/controls",
            "_model_module_version": "1.5.0",
            "_model_name": "ProgressStyleModel",
            "_view_count": null,
            "_view_module": "@jupyter-widgets/base",
            "_view_module_version": "1.2.0",
            "_view_name": "StyleView",
            "bar_color": null,
            "description_width": ""
          }
        },
        "301887011b0940229199043211f18b5f": {
          "model_module": "@jupyter-widgets/base",
          "model_name": "LayoutModel",
          "model_module_version": "1.2.0",
          "state": {
            "_model_module": "@jupyter-widgets/base",
            "_model_module_version": "1.2.0",
            "_model_name": "LayoutModel",
            "_view_count": null,
            "_view_module": "@jupyter-widgets/base",
            "_view_module_version": "1.2.0",
            "_view_name": "LayoutView",
            "align_content": null,
            "align_items": null,
            "align_self": null,
            "border": null,
            "bottom": null,
            "display": null,
            "flex": null,
            "flex_flow": null,
            "grid_area": null,
            "grid_auto_columns": null,
            "grid_auto_flow": null,
            "grid_auto_rows": null,
            "grid_column": null,
            "grid_gap": null,
            "grid_row": null,
            "grid_template_areas": null,
            "grid_template_columns": null,
            "grid_template_rows": null,
            "height": null,
            "justify_content": null,
            "justify_items": null,
            "left": null,
            "margin": null,
            "max_height": null,
            "max_width": null,
            "min_height": null,
            "min_width": null,
            "object_fit": null,
            "object_position": null,
            "order": null,
            "overflow": null,
            "overflow_x": null,
            "overflow_y": null,
            "padding": null,
            "right": null,
            "top": null,
            "visibility": null,
            "width": null
          }
        },
        "b6e2077c988b42d6b58a5fff06140378": {
          "model_module": "@jupyter-widgets/controls",
          "model_name": "DescriptionStyleModel",
          "model_module_version": "1.5.0",
          "state": {
            "_model_module": "@jupyter-widgets/controls",
            "_model_module_version": "1.5.0",
            "_model_name": "DescriptionStyleModel",
            "_view_count": null,
            "_view_module": "@jupyter-widgets/base",
            "_view_module_version": "1.2.0",
            "_view_name": "StyleView",
            "description_width": ""
          }
        },
        "b630fc150377456ab9904d84d0df3b71": {
          "model_module": "@jupyter-widgets/controls",
          "model_name": "HBoxModel",
          "model_module_version": "1.5.0",
          "state": {
            "_dom_classes": [],
            "_model_module": "@jupyter-widgets/controls",
            "_model_module_version": "1.5.0",
            "_model_name": "HBoxModel",
            "_view_count": null,
            "_view_module": "@jupyter-widgets/controls",
            "_view_module_version": "1.5.0",
            "_view_name": "HBoxView",
            "box_style": "",
            "children": [
              "IPY_MODEL_9e022ab5be9245edaee8d8355fe3fa3b",
              "IPY_MODEL_9ca39b67e2de4f3886987e2d702d1986",
              "IPY_MODEL_6100ea9806764a53b708dd865384a81a"
            ],
            "layout": "IPY_MODEL_45d425d040594c0ab824553893adff59"
          }
        },
        "9e022ab5be9245edaee8d8355fe3fa3b": {
          "model_module": "@jupyter-widgets/controls",
          "model_name": "HTMLModel",
          "model_module_version": "1.5.0",
          "state": {
            "_dom_classes": [],
            "_model_module": "@jupyter-widgets/controls",
            "_model_module_version": "1.5.0",
            "_model_name": "HTMLModel",
            "_view_count": null,
            "_view_module": "@jupyter-widgets/controls",
            "_view_module_version": "1.5.0",
            "_view_name": "HTMLView",
            "description": "",
            "description_tooltip": null,
            "layout": "IPY_MODEL_027dbce2531f4fff830b52126c3dd54d",
            "placeholder": "​",
            "style": "IPY_MODEL_8a0c9aaae30f4d1eb92613911d25d103",
            "value": "Casting to class labels: 100%"
          }
        },
        "9ca39b67e2de4f3886987e2d702d1986": {
          "model_module": "@jupyter-widgets/controls",
          "model_name": "FloatProgressModel",
          "model_module_version": "1.5.0",
          "state": {
            "_dom_classes": [],
            "_model_module": "@jupyter-widgets/controls",
            "_model_module_version": "1.5.0",
            "_model_name": "FloatProgressModel",
            "_view_count": null,
            "_view_module": "@jupyter-widgets/controls",
            "_view_module_version": "1.5.0",
            "_view_name": "ProgressView",
            "bar_style": "success",
            "description": "",
            "description_tooltip": null,
            "layout": "IPY_MODEL_400dbc57b12b4012b274f1d9466852b9",
            "max": 12,
            "min": 0,
            "orientation": "horizontal",
            "style": "IPY_MODEL_cccc6ac9f25f4359ba4e0dc305385ce0",
            "value": 12
          }
        },
        "6100ea9806764a53b708dd865384a81a": {
          "model_module": "@jupyter-widgets/controls",
          "model_name": "HTMLModel",
          "model_module_version": "1.5.0",
          "state": {
            "_dom_classes": [],
            "_model_module": "@jupyter-widgets/controls",
            "_model_module_version": "1.5.0",
            "_model_name": "HTMLModel",
            "_view_count": null,
            "_view_module": "@jupyter-widgets/controls",
            "_view_module_version": "1.5.0",
            "_view_name": "HTMLView",
            "description": "",
            "description_tooltip": null,
            "layout": "IPY_MODEL_e6a362ddfe004ff09adecd1196b24d8c",
            "placeholder": "​",
            "style": "IPY_MODEL_e423f61bd8974b94b739047969b4c472",
            "value": " 12/12 [00:00&lt;00:00, 82.74ba/s]"
          }
        },
        "45d425d040594c0ab824553893adff59": {
          "model_module": "@jupyter-widgets/base",
          "model_name": "LayoutModel",
          "model_module_version": "1.2.0",
          "state": {
            "_model_module": "@jupyter-widgets/base",
            "_model_module_version": "1.2.0",
            "_model_name": "LayoutModel",
            "_view_count": null,
            "_view_module": "@jupyter-widgets/base",
            "_view_module_version": "1.2.0",
            "_view_name": "LayoutView",
            "align_content": null,
            "align_items": null,
            "align_self": null,
            "border": null,
            "bottom": null,
            "display": null,
            "flex": null,
            "flex_flow": null,
            "grid_area": null,
            "grid_auto_columns": null,
            "grid_auto_flow": null,
            "grid_auto_rows": null,
            "grid_column": null,
            "grid_gap": null,
            "grid_row": null,
            "grid_template_areas": null,
            "grid_template_columns": null,
            "grid_template_rows": null,
            "height": null,
            "justify_content": null,
            "justify_items": null,
            "left": null,
            "margin": null,
            "max_height": null,
            "max_width": null,
            "min_height": null,
            "min_width": null,
            "object_fit": null,
            "object_position": null,
            "order": null,
            "overflow": null,
            "overflow_x": null,
            "overflow_y": null,
            "padding": null,
            "right": null,
            "top": null,
            "visibility": null,
            "width": null
          }
        },
        "027dbce2531f4fff830b52126c3dd54d": {
          "model_module": "@jupyter-widgets/base",
          "model_name": "LayoutModel",
          "model_module_version": "1.2.0",
          "state": {
            "_model_module": "@jupyter-widgets/base",
            "_model_module_version": "1.2.0",
            "_model_name": "LayoutModel",
            "_view_count": null,
            "_view_module": "@jupyter-widgets/base",
            "_view_module_version": "1.2.0",
            "_view_name": "LayoutView",
            "align_content": null,
            "align_items": null,
            "align_self": null,
            "border": null,
            "bottom": null,
            "display": null,
            "flex": null,
            "flex_flow": null,
            "grid_area": null,
            "grid_auto_columns": null,
            "grid_auto_flow": null,
            "grid_auto_rows": null,
            "grid_column": null,
            "grid_gap": null,
            "grid_row": null,
            "grid_template_areas": null,
            "grid_template_columns": null,
            "grid_template_rows": null,
            "height": null,
            "justify_content": null,
            "justify_items": null,
            "left": null,
            "margin": null,
            "max_height": null,
            "max_width": null,
            "min_height": null,
            "min_width": null,
            "object_fit": null,
            "object_position": null,
            "order": null,
            "overflow": null,
            "overflow_x": null,
            "overflow_y": null,
            "padding": null,
            "right": null,
            "top": null,
            "visibility": null,
            "width": null
          }
        },
        "8a0c9aaae30f4d1eb92613911d25d103": {
          "model_module": "@jupyter-widgets/controls",
          "model_name": "DescriptionStyleModel",
          "model_module_version": "1.5.0",
          "state": {
            "_model_module": "@jupyter-widgets/controls",
            "_model_module_version": "1.5.0",
            "_model_name": "DescriptionStyleModel",
            "_view_count": null,
            "_view_module": "@jupyter-widgets/base",
            "_view_module_version": "1.2.0",
            "_view_name": "StyleView",
            "description_width": ""
          }
        },
        "400dbc57b12b4012b274f1d9466852b9": {
          "model_module": "@jupyter-widgets/base",
          "model_name": "LayoutModel",
          "model_module_version": "1.2.0",
          "state": {
            "_model_module": "@jupyter-widgets/base",
            "_model_module_version": "1.2.0",
            "_model_name": "LayoutModel",
            "_view_count": null,
            "_view_module": "@jupyter-widgets/base",
            "_view_module_version": "1.2.0",
            "_view_name": "LayoutView",
            "align_content": null,
            "align_items": null,
            "align_self": null,
            "border": null,
            "bottom": null,
            "display": null,
            "flex": null,
            "flex_flow": null,
            "grid_area": null,
            "grid_auto_columns": null,
            "grid_auto_flow": null,
            "grid_auto_rows": null,
            "grid_column": null,
            "grid_gap": null,
            "grid_row": null,
            "grid_template_areas": null,
            "grid_template_columns": null,
            "grid_template_rows": null,
            "height": null,
            "justify_content": null,
            "justify_items": null,
            "left": null,
            "margin": null,
            "max_height": null,
            "max_width": null,
            "min_height": null,
            "min_width": null,
            "object_fit": null,
            "object_position": null,
            "order": null,
            "overflow": null,
            "overflow_x": null,
            "overflow_y": null,
            "padding": null,
            "right": null,
            "top": null,
            "visibility": null,
            "width": null
          }
        },
        "cccc6ac9f25f4359ba4e0dc305385ce0": {
          "model_module": "@jupyter-widgets/controls",
          "model_name": "ProgressStyleModel",
          "model_module_version": "1.5.0",
          "state": {
            "_model_module": "@jupyter-widgets/controls",
            "_model_module_version": "1.5.0",
            "_model_name": "ProgressStyleModel",
            "_view_count": null,
            "_view_module": "@jupyter-widgets/base",
            "_view_module_version": "1.2.0",
            "_view_name": "StyleView",
            "bar_color": null,
            "description_width": ""
          }
        },
        "e6a362ddfe004ff09adecd1196b24d8c": {
          "model_module": "@jupyter-widgets/base",
          "model_name": "LayoutModel",
          "model_module_version": "1.2.0",
          "state": {
            "_model_module": "@jupyter-widgets/base",
            "_model_module_version": "1.2.0",
            "_model_name": "LayoutModel",
            "_view_count": null,
            "_view_module": "@jupyter-widgets/base",
            "_view_module_version": "1.2.0",
            "_view_name": "LayoutView",
            "align_content": null,
            "align_items": null,
            "align_self": null,
            "border": null,
            "bottom": null,
            "display": null,
            "flex": null,
            "flex_flow": null,
            "grid_area": null,
            "grid_auto_columns": null,
            "grid_auto_flow": null,
            "grid_auto_rows": null,
            "grid_column": null,
            "grid_gap": null,
            "grid_row": null,
            "grid_template_areas": null,
            "grid_template_columns": null,
            "grid_template_rows": null,
            "height": null,
            "justify_content": null,
            "justify_items": null,
            "left": null,
            "margin": null,
            "max_height": null,
            "max_width": null,
            "min_height": null,
            "min_width": null,
            "object_fit": null,
            "object_position": null,
            "order": null,
            "overflow": null,
            "overflow_x": null,
            "overflow_y": null,
            "padding": null,
            "right": null,
            "top": null,
            "visibility": null,
            "width": null
          }
        },
        "e423f61bd8974b94b739047969b4c472": {
          "model_module": "@jupyter-widgets/controls",
          "model_name": "DescriptionStyleModel",
          "model_module_version": "1.5.0",
          "state": {
            "_model_module": "@jupyter-widgets/controls",
            "_model_module_version": "1.5.0",
            "_model_name": "DescriptionStyleModel",
            "_view_count": null,
            "_view_module": "@jupyter-widgets/base",
            "_view_module_version": "1.2.0",
            "_view_name": "StyleView",
            "description_width": ""
          }
        },
        "8fab201644a242e8931e70bdfef37bea": {
          "model_module": "@jupyter-widgets/controls",
          "model_name": "HBoxModel",
          "model_module_version": "1.5.0",
          "state": {
            "_dom_classes": [],
            "_model_module": "@jupyter-widgets/controls",
            "_model_module_version": "1.5.0",
            "_model_name": "HBoxModel",
            "_view_count": null,
            "_view_module": "@jupyter-widgets/controls",
            "_view_module_version": "1.5.0",
            "_view_name": "HBoxView",
            "box_style": "",
            "children": [
              "IPY_MODEL_aa37840392c249799229d5afa6f5ade8",
              "IPY_MODEL_b31afa08bf764b23b5c5c10e1e2a6f2e",
              "IPY_MODEL_301dd0f57d3146ce8fe78d755c64fcec"
            ],
            "layout": "IPY_MODEL_9bd03fa0da724ecfb3f98d60a54a4430"
          }
        },
        "aa37840392c249799229d5afa6f5ade8": {
          "model_module": "@jupyter-widgets/controls",
          "model_name": "HTMLModel",
          "model_module_version": "1.5.0",
          "state": {
            "_dom_classes": [],
            "_model_module": "@jupyter-widgets/controls",
            "_model_module_version": "1.5.0",
            "_model_name": "HTMLModel",
            "_view_count": null,
            "_view_module": "@jupyter-widgets/controls",
            "_view_module_version": "1.5.0",
            "_view_name": "HTMLView",
            "description": "",
            "description_tooltip": null,
            "layout": "IPY_MODEL_9b3aa9e72dcb426cb102109d4e711ad7",
            "placeholder": "​",
            "style": "IPY_MODEL_566b00ea16c141728934d208b5d307fd",
            "value": "Casting the dataset: 100%"
          }
        },
        "b31afa08bf764b23b5c5c10e1e2a6f2e": {
          "model_module": "@jupyter-widgets/controls",
          "model_name": "FloatProgressModel",
          "model_module_version": "1.5.0",
          "state": {
            "_dom_classes": [],
            "_model_module": "@jupyter-widgets/controls",
            "_model_module_version": "1.5.0",
            "_model_name": "FloatProgressModel",
            "_view_count": null,
            "_view_module": "@jupyter-widgets/controls",
            "_view_module_version": "1.5.0",
            "_view_name": "ProgressView",
            "bar_style": "success",
            "description": "",
            "description_tooltip": null,
            "layout": "IPY_MODEL_c0ac3aafa2754cf1b862de910462389a",
            "max": 2,
            "min": 0,
            "orientation": "horizontal",
            "style": "IPY_MODEL_04dd4ec003cd4d069ebb7098a76d8e9c",
            "value": 2
          }
        },
        "301dd0f57d3146ce8fe78d755c64fcec": {
          "model_module": "@jupyter-widgets/controls",
          "model_name": "HTMLModel",
          "model_module_version": "1.5.0",
          "state": {
            "_dom_classes": [],
            "_model_module": "@jupyter-widgets/controls",
            "_model_module_version": "1.5.0",
            "_model_name": "HTMLModel",
            "_view_count": null,
            "_view_module": "@jupyter-widgets/controls",
            "_view_module_version": "1.5.0",
            "_view_name": "HTMLView",
            "description": "",
            "description_tooltip": null,
            "layout": "IPY_MODEL_0b55affaaa2142f2b248b03ac5004417",
            "placeholder": "​",
            "style": "IPY_MODEL_4131ef627e714ed4a224ab0c45e13130",
            "value": " 2/2 [00:00&lt;00:00, 24.47ba/s]"
          }
        },
        "9bd03fa0da724ecfb3f98d60a54a4430": {
          "model_module": "@jupyter-widgets/base",
          "model_name": "LayoutModel",
          "model_module_version": "1.2.0",
          "state": {
            "_model_module": "@jupyter-widgets/base",
            "_model_module_version": "1.2.0",
            "_model_name": "LayoutModel",
            "_view_count": null,
            "_view_module": "@jupyter-widgets/base",
            "_view_module_version": "1.2.0",
            "_view_name": "LayoutView",
            "align_content": null,
            "align_items": null,
            "align_self": null,
            "border": null,
            "bottom": null,
            "display": null,
            "flex": null,
            "flex_flow": null,
            "grid_area": null,
            "grid_auto_columns": null,
            "grid_auto_flow": null,
            "grid_auto_rows": null,
            "grid_column": null,
            "grid_gap": null,
            "grid_row": null,
            "grid_template_areas": null,
            "grid_template_columns": null,
            "grid_template_rows": null,
            "height": null,
            "justify_content": null,
            "justify_items": null,
            "left": null,
            "margin": null,
            "max_height": null,
            "max_width": null,
            "min_height": null,
            "min_width": null,
            "object_fit": null,
            "object_position": null,
            "order": null,
            "overflow": null,
            "overflow_x": null,
            "overflow_y": null,
            "padding": null,
            "right": null,
            "top": null,
            "visibility": null,
            "width": null
          }
        },
        "9b3aa9e72dcb426cb102109d4e711ad7": {
          "model_module": "@jupyter-widgets/base",
          "model_name": "LayoutModel",
          "model_module_version": "1.2.0",
          "state": {
            "_model_module": "@jupyter-widgets/base",
            "_model_module_version": "1.2.0",
            "_model_name": "LayoutModel",
            "_view_count": null,
            "_view_module": "@jupyter-widgets/base",
            "_view_module_version": "1.2.0",
            "_view_name": "LayoutView",
            "align_content": null,
            "align_items": null,
            "align_self": null,
            "border": null,
            "bottom": null,
            "display": null,
            "flex": null,
            "flex_flow": null,
            "grid_area": null,
            "grid_auto_columns": null,
            "grid_auto_flow": null,
            "grid_auto_rows": null,
            "grid_column": null,
            "grid_gap": null,
            "grid_row": null,
            "grid_template_areas": null,
            "grid_template_columns": null,
            "grid_template_rows": null,
            "height": null,
            "justify_content": null,
            "justify_items": null,
            "left": null,
            "margin": null,
            "max_height": null,
            "max_width": null,
            "min_height": null,
            "min_width": null,
            "object_fit": null,
            "object_position": null,
            "order": null,
            "overflow": null,
            "overflow_x": null,
            "overflow_y": null,
            "padding": null,
            "right": null,
            "top": null,
            "visibility": null,
            "width": null
          }
        },
        "566b00ea16c141728934d208b5d307fd": {
          "model_module": "@jupyter-widgets/controls",
          "model_name": "DescriptionStyleModel",
          "model_module_version": "1.5.0",
          "state": {
            "_model_module": "@jupyter-widgets/controls",
            "_model_module_version": "1.5.0",
            "_model_name": "DescriptionStyleModel",
            "_view_count": null,
            "_view_module": "@jupyter-widgets/base",
            "_view_module_version": "1.2.0",
            "_view_name": "StyleView",
            "description_width": ""
          }
        },
        "c0ac3aafa2754cf1b862de910462389a": {
          "model_module": "@jupyter-widgets/base",
          "model_name": "LayoutModel",
          "model_module_version": "1.2.0",
          "state": {
            "_model_module": "@jupyter-widgets/base",
            "_model_module_version": "1.2.0",
            "_model_name": "LayoutModel",
            "_view_count": null,
            "_view_module": "@jupyter-widgets/base",
            "_view_module_version": "1.2.0",
            "_view_name": "LayoutView",
            "align_content": null,
            "align_items": null,
            "align_self": null,
            "border": null,
            "bottom": null,
            "display": null,
            "flex": null,
            "flex_flow": null,
            "grid_area": null,
            "grid_auto_columns": null,
            "grid_auto_flow": null,
            "grid_auto_rows": null,
            "grid_column": null,
            "grid_gap": null,
            "grid_row": null,
            "grid_template_areas": null,
            "grid_template_columns": null,
            "grid_template_rows": null,
            "height": null,
            "justify_content": null,
            "justify_items": null,
            "left": null,
            "margin": null,
            "max_height": null,
            "max_width": null,
            "min_height": null,
            "min_width": null,
            "object_fit": null,
            "object_position": null,
            "order": null,
            "overflow": null,
            "overflow_x": null,
            "overflow_y": null,
            "padding": null,
            "right": null,
            "top": null,
            "visibility": null,
            "width": null
          }
        },
        "04dd4ec003cd4d069ebb7098a76d8e9c": {
          "model_module": "@jupyter-widgets/controls",
          "model_name": "ProgressStyleModel",
          "model_module_version": "1.5.0",
          "state": {
            "_model_module": "@jupyter-widgets/controls",
            "_model_module_version": "1.5.0",
            "_model_name": "ProgressStyleModel",
            "_view_count": null,
            "_view_module": "@jupyter-widgets/base",
            "_view_module_version": "1.2.0",
            "_view_name": "StyleView",
            "bar_color": null,
            "description_width": ""
          }
        },
        "0b55affaaa2142f2b248b03ac5004417": {
          "model_module": "@jupyter-widgets/base",
          "model_name": "LayoutModel",
          "model_module_version": "1.2.0",
          "state": {
            "_model_module": "@jupyter-widgets/base",
            "_model_module_version": "1.2.0",
            "_model_name": "LayoutModel",
            "_view_count": null,
            "_view_module": "@jupyter-widgets/base",
            "_view_module_version": "1.2.0",
            "_view_name": "LayoutView",
            "align_content": null,
            "align_items": null,
            "align_self": null,
            "border": null,
            "bottom": null,
            "display": null,
            "flex": null,
            "flex_flow": null,
            "grid_area": null,
            "grid_auto_columns": null,
            "grid_auto_flow": null,
            "grid_auto_rows": null,
            "grid_column": null,
            "grid_gap": null,
            "grid_row": null,
            "grid_template_areas": null,
            "grid_template_columns": null,
            "grid_template_rows": null,
            "height": null,
            "justify_content": null,
            "justify_items": null,
            "left": null,
            "margin": null,
            "max_height": null,
            "max_width": null,
            "min_height": null,
            "min_width": null,
            "object_fit": null,
            "object_position": null,
            "order": null,
            "overflow": null,
            "overflow_x": null,
            "overflow_y": null,
            "padding": null,
            "right": null,
            "top": null,
            "visibility": null,
            "width": null
          }
        },
        "4131ef627e714ed4a224ab0c45e13130": {
          "model_module": "@jupyter-widgets/controls",
          "model_name": "DescriptionStyleModel",
          "model_module_version": "1.5.0",
          "state": {
            "_model_module": "@jupyter-widgets/controls",
            "_model_module_version": "1.5.0",
            "_model_name": "DescriptionStyleModel",
            "_view_count": null,
            "_view_module": "@jupyter-widgets/base",
            "_view_module_version": "1.2.0",
            "_view_name": "StyleView",
            "description_width": ""
          }
        },
        "1c77c357e2b64e38aa6197355a2a89b3": {
          "model_module": "@jupyter-widgets/controls",
          "model_name": "HBoxModel",
          "model_module_version": "1.5.0",
          "state": {
            "_dom_classes": [],
            "_model_module": "@jupyter-widgets/controls",
            "_model_module_version": "1.5.0",
            "_model_name": "HBoxModel",
            "_view_count": null,
            "_view_module": "@jupyter-widgets/controls",
            "_view_module_version": "1.5.0",
            "_view_name": "HBoxView",
            "box_style": "",
            "children": [
              "IPY_MODEL_a6a519d50e95442283b0f4a945a8d754",
              "IPY_MODEL_6bdc850ee23e43d8a7d2598a4c31ca31",
              "IPY_MODEL_7f11d8901c9d4ce4ad260e2865302085"
            ],
            "layout": "IPY_MODEL_9372fd74a7354c7e9dfa39c344814b72"
          }
        },
        "a6a519d50e95442283b0f4a945a8d754": {
          "model_module": "@jupyter-widgets/controls",
          "model_name": "HTMLModel",
          "model_module_version": "1.5.0",
          "state": {
            "_dom_classes": [],
            "_model_module": "@jupyter-widgets/controls",
            "_model_module_version": "1.5.0",
            "_model_name": "HTMLModel",
            "_view_count": null,
            "_view_module": "@jupyter-widgets/controls",
            "_view_module_version": "1.5.0",
            "_view_name": "HTMLView",
            "description": "",
            "description_tooltip": null,
            "layout": "IPY_MODEL_1e12155d5c4b472b994a7c2df0334461",
            "placeholder": "​",
            "style": "IPY_MODEL_2110bcdd81f44aaea58475eb28091111",
            "value": "Stringifying the column: 100%"
          }
        },
        "6bdc850ee23e43d8a7d2598a4c31ca31": {
          "model_module": "@jupyter-widgets/controls",
          "model_name": "FloatProgressModel",
          "model_module_version": "1.5.0",
          "state": {
            "_dom_classes": [],
            "_model_module": "@jupyter-widgets/controls",
            "_model_module_version": "1.5.0",
            "_model_name": "FloatProgressModel",
            "_view_count": null,
            "_view_module": "@jupyter-widgets/controls",
            "_view_module_version": "1.5.0",
            "_view_name": "ProgressView",
            "bar_style": "success",
            "description": "",
            "description_tooltip": null,
            "layout": "IPY_MODEL_04831171c9854095b2ef0f61f6517920",
            "max": 8,
            "min": 0,
            "orientation": "horizontal",
            "style": "IPY_MODEL_058e2ba4915f43c8a3ee4e8b540c6044",
            "value": 8
          }
        },
        "7f11d8901c9d4ce4ad260e2865302085": {
          "model_module": "@jupyter-widgets/controls",
          "model_name": "HTMLModel",
          "model_module_version": "1.5.0",
          "state": {
            "_dom_classes": [],
            "_model_module": "@jupyter-widgets/controls",
            "_model_module_version": "1.5.0",
            "_model_name": "HTMLModel",
            "_view_count": null,
            "_view_module": "@jupyter-widgets/controls",
            "_view_module_version": "1.5.0",
            "_view_name": "HTMLView",
            "description": "",
            "description_tooltip": null,
            "layout": "IPY_MODEL_29c663cee970487f942738fab583e8ad",
            "placeholder": "​",
            "style": "IPY_MODEL_c9e2bff268444eb3b5313a038f8636ea",
            "value": " 8/8 [00:00&lt;00:00, 78.83ba/s]"
          }
        },
        "9372fd74a7354c7e9dfa39c344814b72": {
          "model_module": "@jupyter-widgets/base",
          "model_name": "LayoutModel",
          "model_module_version": "1.2.0",
          "state": {
            "_model_module": "@jupyter-widgets/base",
            "_model_module_version": "1.2.0",
            "_model_name": "LayoutModel",
            "_view_count": null,
            "_view_module": "@jupyter-widgets/base",
            "_view_module_version": "1.2.0",
            "_view_name": "LayoutView",
            "align_content": null,
            "align_items": null,
            "align_self": null,
            "border": null,
            "bottom": null,
            "display": null,
            "flex": null,
            "flex_flow": null,
            "grid_area": null,
            "grid_auto_columns": null,
            "grid_auto_flow": null,
            "grid_auto_rows": null,
            "grid_column": null,
            "grid_gap": null,
            "grid_row": null,
            "grid_template_areas": null,
            "grid_template_columns": null,
            "grid_template_rows": null,
            "height": null,
            "justify_content": null,
            "justify_items": null,
            "left": null,
            "margin": null,
            "max_height": null,
            "max_width": null,
            "min_height": null,
            "min_width": null,
            "object_fit": null,
            "object_position": null,
            "order": null,
            "overflow": null,
            "overflow_x": null,
            "overflow_y": null,
            "padding": null,
            "right": null,
            "top": null,
            "visibility": null,
            "width": null
          }
        },
        "1e12155d5c4b472b994a7c2df0334461": {
          "model_module": "@jupyter-widgets/base",
          "model_name": "LayoutModel",
          "model_module_version": "1.2.0",
          "state": {
            "_model_module": "@jupyter-widgets/base",
            "_model_module_version": "1.2.0",
            "_model_name": "LayoutModel",
            "_view_count": null,
            "_view_module": "@jupyter-widgets/base",
            "_view_module_version": "1.2.0",
            "_view_name": "LayoutView",
            "align_content": null,
            "align_items": null,
            "align_self": null,
            "border": null,
            "bottom": null,
            "display": null,
            "flex": null,
            "flex_flow": null,
            "grid_area": null,
            "grid_auto_columns": null,
            "grid_auto_flow": null,
            "grid_auto_rows": null,
            "grid_column": null,
            "grid_gap": null,
            "grid_row": null,
            "grid_template_areas": null,
            "grid_template_columns": null,
            "grid_template_rows": null,
            "height": null,
            "justify_content": null,
            "justify_items": null,
            "left": null,
            "margin": null,
            "max_height": null,
            "max_width": null,
            "min_height": null,
            "min_width": null,
            "object_fit": null,
            "object_position": null,
            "order": null,
            "overflow": null,
            "overflow_x": null,
            "overflow_y": null,
            "padding": null,
            "right": null,
            "top": null,
            "visibility": null,
            "width": null
          }
        },
        "2110bcdd81f44aaea58475eb28091111": {
          "model_module": "@jupyter-widgets/controls",
          "model_name": "DescriptionStyleModel",
          "model_module_version": "1.5.0",
          "state": {
            "_model_module": "@jupyter-widgets/controls",
            "_model_module_version": "1.5.0",
            "_model_name": "DescriptionStyleModel",
            "_view_count": null,
            "_view_module": "@jupyter-widgets/base",
            "_view_module_version": "1.2.0",
            "_view_name": "StyleView",
            "description_width": ""
          }
        },
        "04831171c9854095b2ef0f61f6517920": {
          "model_module": "@jupyter-widgets/base",
          "model_name": "LayoutModel",
          "model_module_version": "1.2.0",
          "state": {
            "_model_module": "@jupyter-widgets/base",
            "_model_module_version": "1.2.0",
            "_model_name": "LayoutModel",
            "_view_count": null,
            "_view_module": "@jupyter-widgets/base",
            "_view_module_version": "1.2.0",
            "_view_name": "LayoutView",
            "align_content": null,
            "align_items": null,
            "align_self": null,
            "border": null,
            "bottom": null,
            "display": null,
            "flex": null,
            "flex_flow": null,
            "grid_area": null,
            "grid_auto_columns": null,
            "grid_auto_flow": null,
            "grid_auto_rows": null,
            "grid_column": null,
            "grid_gap": null,
            "grid_row": null,
            "grid_template_areas": null,
            "grid_template_columns": null,
            "grid_template_rows": null,
            "height": null,
            "justify_content": null,
            "justify_items": null,
            "left": null,
            "margin": null,
            "max_height": null,
            "max_width": null,
            "min_height": null,
            "min_width": null,
            "object_fit": null,
            "object_position": null,
            "order": null,
            "overflow": null,
            "overflow_x": null,
            "overflow_y": null,
            "padding": null,
            "right": null,
            "top": null,
            "visibility": null,
            "width": null
          }
        },
        "058e2ba4915f43c8a3ee4e8b540c6044": {
          "model_module": "@jupyter-widgets/controls",
          "model_name": "ProgressStyleModel",
          "model_module_version": "1.5.0",
          "state": {
            "_model_module": "@jupyter-widgets/controls",
            "_model_module_version": "1.5.0",
            "_model_name": "ProgressStyleModel",
            "_view_count": null,
            "_view_module": "@jupyter-widgets/base",
            "_view_module_version": "1.2.0",
            "_view_name": "StyleView",
            "bar_color": null,
            "description_width": ""
          }
        },
        "29c663cee970487f942738fab583e8ad": {
          "model_module": "@jupyter-widgets/base",
          "model_name": "LayoutModel",
          "model_module_version": "1.2.0",
          "state": {
            "_model_module": "@jupyter-widgets/base",
            "_model_module_version": "1.2.0",
            "_model_name": "LayoutModel",
            "_view_count": null,
            "_view_module": "@jupyter-widgets/base",
            "_view_module_version": "1.2.0",
            "_view_name": "LayoutView",
            "align_content": null,
            "align_items": null,
            "align_self": null,
            "border": null,
            "bottom": null,
            "display": null,
            "flex": null,
            "flex_flow": null,
            "grid_area": null,
            "grid_auto_columns": null,
            "grid_auto_flow": null,
            "grid_auto_rows": null,
            "grid_column": null,
            "grid_gap": null,
            "grid_row": null,
            "grid_template_areas": null,
            "grid_template_columns": null,
            "grid_template_rows": null,
            "height": null,
            "justify_content": null,
            "justify_items": null,
            "left": null,
            "margin": null,
            "max_height": null,
            "max_width": null,
            "min_height": null,
            "min_width": null,
            "object_fit": null,
            "object_position": null,
            "order": null,
            "overflow": null,
            "overflow_x": null,
            "overflow_y": null,
            "padding": null,
            "right": null,
            "top": null,
            "visibility": null,
            "width": null
          }
        },
        "c9e2bff268444eb3b5313a038f8636ea": {
          "model_module": "@jupyter-widgets/controls",
          "model_name": "DescriptionStyleModel",
          "model_module_version": "1.5.0",
          "state": {
            "_model_module": "@jupyter-widgets/controls",
            "_model_module_version": "1.5.0",
            "_model_name": "DescriptionStyleModel",
            "_view_count": null,
            "_view_module": "@jupyter-widgets/base",
            "_view_module_version": "1.2.0",
            "_view_name": "StyleView",
            "description_width": ""
          }
        },
        "18d593840a52448c87c1b5ccd960e614": {
          "model_module": "@jupyter-widgets/controls",
          "model_name": "HBoxModel",
          "model_module_version": "1.5.0",
          "state": {
            "_dom_classes": [],
            "_model_module": "@jupyter-widgets/controls",
            "_model_module_version": "1.5.0",
            "_model_name": "HBoxModel",
            "_view_count": null,
            "_view_module": "@jupyter-widgets/controls",
            "_view_module_version": "1.5.0",
            "_view_name": "HBoxView",
            "box_style": "",
            "children": [
              "IPY_MODEL_b26bb1301b344d85932e7d6922a5edc9",
              "IPY_MODEL_8b9b5f7688e44b7db568f557505fb9e8",
              "IPY_MODEL_1ab796e8d7d940e1a1ae585405f8fb24"
            ],
            "layout": "IPY_MODEL_5a487e56fe4f49659eb4fbb14581bba2"
          }
        },
        "b26bb1301b344d85932e7d6922a5edc9": {
          "model_module": "@jupyter-widgets/controls",
          "model_name": "HTMLModel",
          "model_module_version": "1.5.0",
          "state": {
            "_dom_classes": [],
            "_model_module": "@jupyter-widgets/controls",
            "_model_module_version": "1.5.0",
            "_model_name": "HTMLModel",
            "_view_count": null,
            "_view_module": "@jupyter-widgets/controls",
            "_view_module_version": "1.5.0",
            "_view_name": "HTMLView",
            "description": "",
            "description_tooltip": null,
            "layout": "IPY_MODEL_a896bd04e5a5496fb664e119e261bb32",
            "placeholder": "​",
            "style": "IPY_MODEL_2c004ebc4e894a69a52b4094212dea72",
            "value": "Casting to class labels: 100%"
          }
        },
        "8b9b5f7688e44b7db568f557505fb9e8": {
          "model_module": "@jupyter-widgets/controls",
          "model_name": "FloatProgressModel",
          "model_module_version": "1.5.0",
          "state": {
            "_dom_classes": [],
            "_model_module": "@jupyter-widgets/controls",
            "_model_module_version": "1.5.0",
            "_model_name": "FloatProgressModel",
            "_view_count": null,
            "_view_module": "@jupyter-widgets/controls",
            "_view_module_version": "1.5.0",
            "_view_name": "ProgressView",
            "bar_style": "success",
            "description": "",
            "description_tooltip": null,
            "layout": "IPY_MODEL_4a7c40e9f8f44970bdfb7fa5e11487e0",
            "max": 8,
            "min": 0,
            "orientation": "horizontal",
            "style": "IPY_MODEL_3f7841b409cb4ddb9a4900bc5032e7fa",
            "value": 8
          }
        },
        "1ab796e8d7d940e1a1ae585405f8fb24": {
          "model_module": "@jupyter-widgets/controls",
          "model_name": "HTMLModel",
          "model_module_version": "1.5.0",
          "state": {
            "_dom_classes": [],
            "_model_module": "@jupyter-widgets/controls",
            "_model_module_version": "1.5.0",
            "_model_name": "HTMLModel",
            "_view_count": null,
            "_view_module": "@jupyter-widgets/controls",
            "_view_module_version": "1.5.0",
            "_view_name": "HTMLView",
            "description": "",
            "description_tooltip": null,
            "layout": "IPY_MODEL_7a08a447546040ab8744b85ac9b70622",
            "placeholder": "​",
            "style": "IPY_MODEL_b5a8133e56a3431f8d19b7a6534ec84f",
            "value": " 8/8 [00:00&lt;00:00, 49.47ba/s]"
          }
        },
        "5a487e56fe4f49659eb4fbb14581bba2": {
          "model_module": "@jupyter-widgets/base",
          "model_name": "LayoutModel",
          "model_module_version": "1.2.0",
          "state": {
            "_model_module": "@jupyter-widgets/base",
            "_model_module_version": "1.2.0",
            "_model_name": "LayoutModel",
            "_view_count": null,
            "_view_module": "@jupyter-widgets/base",
            "_view_module_version": "1.2.0",
            "_view_name": "LayoutView",
            "align_content": null,
            "align_items": null,
            "align_self": null,
            "border": null,
            "bottom": null,
            "display": null,
            "flex": null,
            "flex_flow": null,
            "grid_area": null,
            "grid_auto_columns": null,
            "grid_auto_flow": null,
            "grid_auto_rows": null,
            "grid_column": null,
            "grid_gap": null,
            "grid_row": null,
            "grid_template_areas": null,
            "grid_template_columns": null,
            "grid_template_rows": null,
            "height": null,
            "justify_content": null,
            "justify_items": null,
            "left": null,
            "margin": null,
            "max_height": null,
            "max_width": null,
            "min_height": null,
            "min_width": null,
            "object_fit": null,
            "object_position": null,
            "order": null,
            "overflow": null,
            "overflow_x": null,
            "overflow_y": null,
            "padding": null,
            "right": null,
            "top": null,
            "visibility": null,
            "width": null
          }
        },
        "a896bd04e5a5496fb664e119e261bb32": {
          "model_module": "@jupyter-widgets/base",
          "model_name": "LayoutModel",
          "model_module_version": "1.2.0",
          "state": {
            "_model_module": "@jupyter-widgets/base",
            "_model_module_version": "1.2.0",
            "_model_name": "LayoutModel",
            "_view_count": null,
            "_view_module": "@jupyter-widgets/base",
            "_view_module_version": "1.2.0",
            "_view_name": "LayoutView",
            "align_content": null,
            "align_items": null,
            "align_self": null,
            "border": null,
            "bottom": null,
            "display": null,
            "flex": null,
            "flex_flow": null,
            "grid_area": null,
            "grid_auto_columns": null,
            "grid_auto_flow": null,
            "grid_auto_rows": null,
            "grid_column": null,
            "grid_gap": null,
            "grid_row": null,
            "grid_template_areas": null,
            "grid_template_columns": null,
            "grid_template_rows": null,
            "height": null,
            "justify_content": null,
            "justify_items": null,
            "left": null,
            "margin": null,
            "max_height": null,
            "max_width": null,
            "min_height": null,
            "min_width": null,
            "object_fit": null,
            "object_position": null,
            "order": null,
            "overflow": null,
            "overflow_x": null,
            "overflow_y": null,
            "padding": null,
            "right": null,
            "top": null,
            "visibility": null,
            "width": null
          }
        },
        "2c004ebc4e894a69a52b4094212dea72": {
          "model_module": "@jupyter-widgets/controls",
          "model_name": "DescriptionStyleModel",
          "model_module_version": "1.5.0",
          "state": {
            "_model_module": "@jupyter-widgets/controls",
            "_model_module_version": "1.5.0",
            "_model_name": "DescriptionStyleModel",
            "_view_count": null,
            "_view_module": "@jupyter-widgets/base",
            "_view_module_version": "1.2.0",
            "_view_name": "StyleView",
            "description_width": ""
          }
        },
        "4a7c40e9f8f44970bdfb7fa5e11487e0": {
          "model_module": "@jupyter-widgets/base",
          "model_name": "LayoutModel",
          "model_module_version": "1.2.0",
          "state": {
            "_model_module": "@jupyter-widgets/base",
            "_model_module_version": "1.2.0",
            "_model_name": "LayoutModel",
            "_view_count": null,
            "_view_module": "@jupyter-widgets/base",
            "_view_module_version": "1.2.0",
            "_view_name": "LayoutView",
            "align_content": null,
            "align_items": null,
            "align_self": null,
            "border": null,
            "bottom": null,
            "display": null,
            "flex": null,
            "flex_flow": null,
            "grid_area": null,
            "grid_auto_columns": null,
            "grid_auto_flow": null,
            "grid_auto_rows": null,
            "grid_column": null,
            "grid_gap": null,
            "grid_row": null,
            "grid_template_areas": null,
            "grid_template_columns": null,
            "grid_template_rows": null,
            "height": null,
            "justify_content": null,
            "justify_items": null,
            "left": null,
            "margin": null,
            "max_height": null,
            "max_width": null,
            "min_height": null,
            "min_width": null,
            "object_fit": null,
            "object_position": null,
            "order": null,
            "overflow": null,
            "overflow_x": null,
            "overflow_y": null,
            "padding": null,
            "right": null,
            "top": null,
            "visibility": null,
            "width": null
          }
        },
        "3f7841b409cb4ddb9a4900bc5032e7fa": {
          "model_module": "@jupyter-widgets/controls",
          "model_name": "ProgressStyleModel",
          "model_module_version": "1.5.0",
          "state": {
            "_model_module": "@jupyter-widgets/controls",
            "_model_module_version": "1.5.0",
            "_model_name": "ProgressStyleModel",
            "_view_count": null,
            "_view_module": "@jupyter-widgets/base",
            "_view_module_version": "1.2.0",
            "_view_name": "StyleView",
            "bar_color": null,
            "description_width": ""
          }
        },
        "7a08a447546040ab8744b85ac9b70622": {
          "model_module": "@jupyter-widgets/base",
          "model_name": "LayoutModel",
          "model_module_version": "1.2.0",
          "state": {
            "_model_module": "@jupyter-widgets/base",
            "_model_module_version": "1.2.0",
            "_model_name": "LayoutModel",
            "_view_count": null,
            "_view_module": "@jupyter-widgets/base",
            "_view_module_version": "1.2.0",
            "_view_name": "LayoutView",
            "align_content": null,
            "align_items": null,
            "align_self": null,
            "border": null,
            "bottom": null,
            "display": null,
            "flex": null,
            "flex_flow": null,
            "grid_area": null,
            "grid_auto_columns": null,
            "grid_auto_flow": null,
            "grid_auto_rows": null,
            "grid_column": null,
            "grid_gap": null,
            "grid_row": null,
            "grid_template_areas": null,
            "grid_template_columns": null,
            "grid_template_rows": null,
            "height": null,
            "justify_content": null,
            "justify_items": null,
            "left": null,
            "margin": null,
            "max_height": null,
            "max_width": null,
            "min_height": null,
            "min_width": null,
            "object_fit": null,
            "object_position": null,
            "order": null,
            "overflow": null,
            "overflow_x": null,
            "overflow_y": null,
            "padding": null,
            "right": null,
            "top": null,
            "visibility": null,
            "width": null
          }
        },
        "b5a8133e56a3431f8d19b7a6534ec84f": {
          "model_module": "@jupyter-widgets/controls",
          "model_name": "DescriptionStyleModel",
          "model_module_version": "1.5.0",
          "state": {
            "_model_module": "@jupyter-widgets/controls",
            "_model_module_version": "1.5.0",
            "_model_name": "DescriptionStyleModel",
            "_view_count": null,
            "_view_module": "@jupyter-widgets/base",
            "_view_module_version": "1.2.0",
            "_view_name": "StyleView",
            "description_width": ""
          }
        },
        "364ae6598419408ea43b0bb0a8595364": {
          "model_module": "@jupyter-widgets/controls",
          "model_name": "HBoxModel",
          "model_module_version": "1.5.0",
          "state": {
            "_dom_classes": [],
            "_model_module": "@jupyter-widgets/controls",
            "_model_module_version": "1.5.0",
            "_model_name": "HBoxModel",
            "_view_count": null,
            "_view_module": "@jupyter-widgets/controls",
            "_view_module_version": "1.5.0",
            "_view_name": "HBoxView",
            "box_style": "",
            "children": [
              "IPY_MODEL_c1cbbfee02d64c209c9f1266bfd42468",
              "IPY_MODEL_3614c43acf9443e19f4834c2c2d9bcd4",
              "IPY_MODEL_fc21786499484e78830357023e11e606"
            ],
            "layout": "IPY_MODEL_da731c6741f64024aeb70a996d7c0b66"
          }
        },
        "c1cbbfee02d64c209c9f1266bfd42468": {
          "model_module": "@jupyter-widgets/controls",
          "model_name": "HTMLModel",
          "model_module_version": "1.5.0",
          "state": {
            "_dom_classes": [],
            "_model_module": "@jupyter-widgets/controls",
            "_model_module_version": "1.5.0",
            "_model_name": "HTMLModel",
            "_view_count": null,
            "_view_module": "@jupyter-widgets/controls",
            "_view_module_version": "1.5.0",
            "_view_name": "HTMLView",
            "description": "",
            "description_tooltip": null,
            "layout": "IPY_MODEL_9f40182075ba40abbd74f9c21051a730",
            "placeholder": "​",
            "style": "IPY_MODEL_e335dea1476e41fab01647a45816ee0f",
            "value": "Casting the dataset: 100%"
          }
        },
        "3614c43acf9443e19f4834c2c2d9bcd4": {
          "model_module": "@jupyter-widgets/controls",
          "model_name": "FloatProgressModel",
          "model_module_version": "1.5.0",
          "state": {
            "_dom_classes": [],
            "_model_module": "@jupyter-widgets/controls",
            "_model_module_version": "1.5.0",
            "_model_name": "FloatProgressModel",
            "_view_count": null,
            "_view_module": "@jupyter-widgets/controls",
            "_view_module_version": "1.5.0",
            "_view_name": "ProgressView",
            "bar_style": "success",
            "description": "",
            "description_tooltip": null,
            "layout": "IPY_MODEL_c72de78626d14fcbbf6431ed8bbfe1d0",
            "max": 1,
            "min": 0,
            "orientation": "horizontal",
            "style": "IPY_MODEL_b8c4b081f4d84755a0a2c54b7e5f5c5a",
            "value": 1
          }
        },
        "fc21786499484e78830357023e11e606": {
          "model_module": "@jupyter-widgets/controls",
          "model_name": "HTMLModel",
          "model_module_version": "1.5.0",
          "state": {
            "_dom_classes": [],
            "_model_module": "@jupyter-widgets/controls",
            "_model_module_version": "1.5.0",
            "_model_name": "HTMLModel",
            "_view_count": null,
            "_view_module": "@jupyter-widgets/controls",
            "_view_module_version": "1.5.0",
            "_view_name": "HTMLView",
            "description": "",
            "description_tooltip": null,
            "layout": "IPY_MODEL_1bd31e849d0d4602b00b59621d4bd9cc",
            "placeholder": "​",
            "style": "IPY_MODEL_5ee48fc2ce5141b8ae25bdad8cf8b383",
            "value": " 1/1 [00:00&lt;00:00, 11.88ba/s]"
          }
        },
        "da731c6741f64024aeb70a996d7c0b66": {
          "model_module": "@jupyter-widgets/base",
          "model_name": "LayoutModel",
          "model_module_version": "1.2.0",
          "state": {
            "_model_module": "@jupyter-widgets/base",
            "_model_module_version": "1.2.0",
            "_model_name": "LayoutModel",
            "_view_count": null,
            "_view_module": "@jupyter-widgets/base",
            "_view_module_version": "1.2.0",
            "_view_name": "LayoutView",
            "align_content": null,
            "align_items": null,
            "align_self": null,
            "border": null,
            "bottom": null,
            "display": null,
            "flex": null,
            "flex_flow": null,
            "grid_area": null,
            "grid_auto_columns": null,
            "grid_auto_flow": null,
            "grid_auto_rows": null,
            "grid_column": null,
            "grid_gap": null,
            "grid_row": null,
            "grid_template_areas": null,
            "grid_template_columns": null,
            "grid_template_rows": null,
            "height": null,
            "justify_content": null,
            "justify_items": null,
            "left": null,
            "margin": null,
            "max_height": null,
            "max_width": null,
            "min_height": null,
            "min_width": null,
            "object_fit": null,
            "object_position": null,
            "order": null,
            "overflow": null,
            "overflow_x": null,
            "overflow_y": null,
            "padding": null,
            "right": null,
            "top": null,
            "visibility": null,
            "width": null
          }
        },
        "9f40182075ba40abbd74f9c21051a730": {
          "model_module": "@jupyter-widgets/base",
          "model_name": "LayoutModel",
          "model_module_version": "1.2.0",
          "state": {
            "_model_module": "@jupyter-widgets/base",
            "_model_module_version": "1.2.0",
            "_model_name": "LayoutModel",
            "_view_count": null,
            "_view_module": "@jupyter-widgets/base",
            "_view_module_version": "1.2.0",
            "_view_name": "LayoutView",
            "align_content": null,
            "align_items": null,
            "align_self": null,
            "border": null,
            "bottom": null,
            "display": null,
            "flex": null,
            "flex_flow": null,
            "grid_area": null,
            "grid_auto_columns": null,
            "grid_auto_flow": null,
            "grid_auto_rows": null,
            "grid_column": null,
            "grid_gap": null,
            "grid_row": null,
            "grid_template_areas": null,
            "grid_template_columns": null,
            "grid_template_rows": null,
            "height": null,
            "justify_content": null,
            "justify_items": null,
            "left": null,
            "margin": null,
            "max_height": null,
            "max_width": null,
            "min_height": null,
            "min_width": null,
            "object_fit": null,
            "object_position": null,
            "order": null,
            "overflow": null,
            "overflow_x": null,
            "overflow_y": null,
            "padding": null,
            "right": null,
            "top": null,
            "visibility": null,
            "width": null
          }
        },
        "e335dea1476e41fab01647a45816ee0f": {
          "model_module": "@jupyter-widgets/controls",
          "model_name": "DescriptionStyleModel",
          "model_module_version": "1.5.0",
          "state": {
            "_model_module": "@jupyter-widgets/controls",
            "_model_module_version": "1.5.0",
            "_model_name": "DescriptionStyleModel",
            "_view_count": null,
            "_view_module": "@jupyter-widgets/base",
            "_view_module_version": "1.2.0",
            "_view_name": "StyleView",
            "description_width": ""
          }
        },
        "c72de78626d14fcbbf6431ed8bbfe1d0": {
          "model_module": "@jupyter-widgets/base",
          "model_name": "LayoutModel",
          "model_module_version": "1.2.0",
          "state": {
            "_model_module": "@jupyter-widgets/base",
            "_model_module_version": "1.2.0",
            "_model_name": "LayoutModel",
            "_view_count": null,
            "_view_module": "@jupyter-widgets/base",
            "_view_module_version": "1.2.0",
            "_view_name": "LayoutView",
            "align_content": null,
            "align_items": null,
            "align_self": null,
            "border": null,
            "bottom": null,
            "display": null,
            "flex": null,
            "flex_flow": null,
            "grid_area": null,
            "grid_auto_columns": null,
            "grid_auto_flow": null,
            "grid_auto_rows": null,
            "grid_column": null,
            "grid_gap": null,
            "grid_row": null,
            "grid_template_areas": null,
            "grid_template_columns": null,
            "grid_template_rows": null,
            "height": null,
            "justify_content": null,
            "justify_items": null,
            "left": null,
            "margin": null,
            "max_height": null,
            "max_width": null,
            "min_height": null,
            "min_width": null,
            "object_fit": null,
            "object_position": null,
            "order": null,
            "overflow": null,
            "overflow_x": null,
            "overflow_y": null,
            "padding": null,
            "right": null,
            "top": null,
            "visibility": null,
            "width": null
          }
        },
        "b8c4b081f4d84755a0a2c54b7e5f5c5a": {
          "model_module": "@jupyter-widgets/controls",
          "model_name": "ProgressStyleModel",
          "model_module_version": "1.5.0",
          "state": {
            "_model_module": "@jupyter-widgets/controls",
            "_model_module_version": "1.5.0",
            "_model_name": "ProgressStyleModel",
            "_view_count": null,
            "_view_module": "@jupyter-widgets/base",
            "_view_module_version": "1.2.0",
            "_view_name": "StyleView",
            "bar_color": null,
            "description_width": ""
          }
        },
        "1bd31e849d0d4602b00b59621d4bd9cc": {
          "model_module": "@jupyter-widgets/base",
          "model_name": "LayoutModel",
          "model_module_version": "1.2.0",
          "state": {
            "_model_module": "@jupyter-widgets/base",
            "_model_module_version": "1.2.0",
            "_model_name": "LayoutModel",
            "_view_count": null,
            "_view_module": "@jupyter-widgets/base",
            "_view_module_version": "1.2.0",
            "_view_name": "LayoutView",
            "align_content": null,
            "align_items": null,
            "align_self": null,
            "border": null,
            "bottom": null,
            "display": null,
            "flex": null,
            "flex_flow": null,
            "grid_area": null,
            "grid_auto_columns": null,
            "grid_auto_flow": null,
            "grid_auto_rows": null,
            "grid_column": null,
            "grid_gap": null,
            "grid_row": null,
            "grid_template_areas": null,
            "grid_template_columns": null,
            "grid_template_rows": null,
            "height": null,
            "justify_content": null,
            "justify_items": null,
            "left": null,
            "margin": null,
            "max_height": null,
            "max_width": null,
            "min_height": null,
            "min_width": null,
            "object_fit": null,
            "object_position": null,
            "order": null,
            "overflow": null,
            "overflow_x": null,
            "overflow_y": null,
            "padding": null,
            "right": null,
            "top": null,
            "visibility": null,
            "width": null
          }
        },
        "5ee48fc2ce5141b8ae25bdad8cf8b383": {
          "model_module": "@jupyter-widgets/controls",
          "model_name": "DescriptionStyleModel",
          "model_module_version": "1.5.0",
          "state": {
            "_model_module": "@jupyter-widgets/controls",
            "_model_module_version": "1.5.0",
            "_model_name": "DescriptionStyleModel",
            "_view_count": null,
            "_view_module": "@jupyter-widgets/base",
            "_view_module_version": "1.2.0",
            "_view_name": "StyleView",
            "description_width": ""
          }
        },
        "e62ae5af98564eb2b8391e18da894bc7": {
          "model_module": "@jupyter-widgets/controls",
          "model_name": "HBoxModel",
          "model_module_version": "1.5.0",
          "state": {
            "_dom_classes": [],
            "_model_module": "@jupyter-widgets/controls",
            "_model_module_version": "1.5.0",
            "_model_name": "HBoxModel",
            "_view_count": null,
            "_view_module": "@jupyter-widgets/controls",
            "_view_module_version": "1.5.0",
            "_view_name": "HBoxView",
            "box_style": "",
            "children": [
              "IPY_MODEL_1410650019ad4004b87ff215efce9baa",
              "IPY_MODEL_bd2db6ba43204fc89e314b0d17a40c4f",
              "IPY_MODEL_ee4d2108b81c49b9aba116edbce7a1be"
            ],
            "layout": "IPY_MODEL_b3559dd325c24823836839eec773a1f7"
          }
        },
        "1410650019ad4004b87ff215efce9baa": {
          "model_module": "@jupyter-widgets/controls",
          "model_name": "HTMLModel",
          "model_module_version": "1.5.0",
          "state": {
            "_dom_classes": [],
            "_model_module": "@jupyter-widgets/controls",
            "_model_module_version": "1.5.0",
            "_model_name": "HTMLModel",
            "_view_count": null,
            "_view_module": "@jupyter-widgets/controls",
            "_view_module_version": "1.5.0",
            "_view_name": "HTMLView",
            "description": "",
            "description_tooltip": null,
            "layout": "IPY_MODEL_8bcae8817719408a9579e4838d8069fb",
            "placeholder": "​",
            "style": "IPY_MODEL_ee0f88ef137f4444878c3a9720bf7d85",
            "value": "Downloading: 100%"
          }
        },
        "bd2db6ba43204fc89e314b0d17a40c4f": {
          "model_module": "@jupyter-widgets/controls",
          "model_name": "FloatProgressModel",
          "model_module_version": "1.5.0",
          "state": {
            "_dom_classes": [],
            "_model_module": "@jupyter-widgets/controls",
            "_model_module_version": "1.5.0",
            "_model_name": "FloatProgressModel",
            "_view_count": null,
            "_view_module": "@jupyter-widgets/controls",
            "_view_module_version": "1.5.0",
            "_view_name": "ProgressView",
            "bar_style": "success",
            "description": "",
            "description_tooltip": null,
            "layout": "IPY_MODEL_6e451223e065441b8b182bdc24ea4822",
            "max": 28,
            "min": 0,
            "orientation": "horizontal",
            "style": "IPY_MODEL_fc54c663065442ef981200c9abbf7aaa",
            "value": 28
          }
        },
        "ee4d2108b81c49b9aba116edbce7a1be": {
          "model_module": "@jupyter-widgets/controls",
          "model_name": "HTMLModel",
          "model_module_version": "1.5.0",
          "state": {
            "_dom_classes": [],
            "_model_module": "@jupyter-widgets/controls",
            "_model_module_version": "1.5.0",
            "_model_name": "HTMLModel",
            "_view_count": null,
            "_view_module": "@jupyter-widgets/controls",
            "_view_module_version": "1.5.0",
            "_view_name": "HTMLView",
            "description": "",
            "description_tooltip": null,
            "layout": "IPY_MODEL_fe17cbbe4f2c42238251f80f84a47367",
            "placeholder": "​",
            "style": "IPY_MODEL_07b79f22547b4905913c12ab92bd1ed8",
            "value": " 28.0/28.0 [00:00&lt;00:00, 798B/s]"
          }
        },
        "b3559dd325c24823836839eec773a1f7": {
          "model_module": "@jupyter-widgets/base",
          "model_name": "LayoutModel",
          "model_module_version": "1.2.0",
          "state": {
            "_model_module": "@jupyter-widgets/base",
            "_model_module_version": "1.2.0",
            "_model_name": "LayoutModel",
            "_view_count": null,
            "_view_module": "@jupyter-widgets/base",
            "_view_module_version": "1.2.0",
            "_view_name": "LayoutView",
            "align_content": null,
            "align_items": null,
            "align_self": null,
            "border": null,
            "bottom": null,
            "display": null,
            "flex": null,
            "flex_flow": null,
            "grid_area": null,
            "grid_auto_columns": null,
            "grid_auto_flow": null,
            "grid_auto_rows": null,
            "grid_column": null,
            "grid_gap": null,
            "grid_row": null,
            "grid_template_areas": null,
            "grid_template_columns": null,
            "grid_template_rows": null,
            "height": null,
            "justify_content": null,
            "justify_items": null,
            "left": null,
            "margin": null,
            "max_height": null,
            "max_width": null,
            "min_height": null,
            "min_width": null,
            "object_fit": null,
            "object_position": null,
            "order": null,
            "overflow": null,
            "overflow_x": null,
            "overflow_y": null,
            "padding": null,
            "right": null,
            "top": null,
            "visibility": null,
            "width": null
          }
        },
        "8bcae8817719408a9579e4838d8069fb": {
          "model_module": "@jupyter-widgets/base",
          "model_name": "LayoutModel",
          "model_module_version": "1.2.0",
          "state": {
            "_model_module": "@jupyter-widgets/base",
            "_model_module_version": "1.2.0",
            "_model_name": "LayoutModel",
            "_view_count": null,
            "_view_module": "@jupyter-widgets/base",
            "_view_module_version": "1.2.0",
            "_view_name": "LayoutView",
            "align_content": null,
            "align_items": null,
            "align_self": null,
            "border": null,
            "bottom": null,
            "display": null,
            "flex": null,
            "flex_flow": null,
            "grid_area": null,
            "grid_auto_columns": null,
            "grid_auto_flow": null,
            "grid_auto_rows": null,
            "grid_column": null,
            "grid_gap": null,
            "grid_row": null,
            "grid_template_areas": null,
            "grid_template_columns": null,
            "grid_template_rows": null,
            "height": null,
            "justify_content": null,
            "justify_items": null,
            "left": null,
            "margin": null,
            "max_height": null,
            "max_width": null,
            "min_height": null,
            "min_width": null,
            "object_fit": null,
            "object_position": null,
            "order": null,
            "overflow": null,
            "overflow_x": null,
            "overflow_y": null,
            "padding": null,
            "right": null,
            "top": null,
            "visibility": null,
            "width": null
          }
        },
        "ee0f88ef137f4444878c3a9720bf7d85": {
          "model_module": "@jupyter-widgets/controls",
          "model_name": "DescriptionStyleModel",
          "model_module_version": "1.5.0",
          "state": {
            "_model_module": "@jupyter-widgets/controls",
            "_model_module_version": "1.5.0",
            "_model_name": "DescriptionStyleModel",
            "_view_count": null,
            "_view_module": "@jupyter-widgets/base",
            "_view_module_version": "1.2.0",
            "_view_name": "StyleView",
            "description_width": ""
          }
        },
        "6e451223e065441b8b182bdc24ea4822": {
          "model_module": "@jupyter-widgets/base",
          "model_name": "LayoutModel",
          "model_module_version": "1.2.0",
          "state": {
            "_model_module": "@jupyter-widgets/base",
            "_model_module_version": "1.2.0",
            "_model_name": "LayoutModel",
            "_view_count": null,
            "_view_module": "@jupyter-widgets/base",
            "_view_module_version": "1.2.0",
            "_view_name": "LayoutView",
            "align_content": null,
            "align_items": null,
            "align_self": null,
            "border": null,
            "bottom": null,
            "display": null,
            "flex": null,
            "flex_flow": null,
            "grid_area": null,
            "grid_auto_columns": null,
            "grid_auto_flow": null,
            "grid_auto_rows": null,
            "grid_column": null,
            "grid_gap": null,
            "grid_row": null,
            "grid_template_areas": null,
            "grid_template_columns": null,
            "grid_template_rows": null,
            "height": null,
            "justify_content": null,
            "justify_items": null,
            "left": null,
            "margin": null,
            "max_height": null,
            "max_width": null,
            "min_height": null,
            "min_width": null,
            "object_fit": null,
            "object_position": null,
            "order": null,
            "overflow": null,
            "overflow_x": null,
            "overflow_y": null,
            "padding": null,
            "right": null,
            "top": null,
            "visibility": null,
            "width": null
          }
        },
        "fc54c663065442ef981200c9abbf7aaa": {
          "model_module": "@jupyter-widgets/controls",
          "model_name": "ProgressStyleModel",
          "model_module_version": "1.5.0",
          "state": {
            "_model_module": "@jupyter-widgets/controls",
            "_model_module_version": "1.5.0",
            "_model_name": "ProgressStyleModel",
            "_view_count": null,
            "_view_module": "@jupyter-widgets/base",
            "_view_module_version": "1.2.0",
            "_view_name": "StyleView",
            "bar_color": null,
            "description_width": ""
          }
        },
        "fe17cbbe4f2c42238251f80f84a47367": {
          "model_module": "@jupyter-widgets/base",
          "model_name": "LayoutModel",
          "model_module_version": "1.2.0",
          "state": {
            "_model_module": "@jupyter-widgets/base",
            "_model_module_version": "1.2.0",
            "_model_name": "LayoutModel",
            "_view_count": null,
            "_view_module": "@jupyter-widgets/base",
            "_view_module_version": "1.2.0",
            "_view_name": "LayoutView",
            "align_content": null,
            "align_items": null,
            "align_self": null,
            "border": null,
            "bottom": null,
            "display": null,
            "flex": null,
            "flex_flow": null,
            "grid_area": null,
            "grid_auto_columns": null,
            "grid_auto_flow": null,
            "grid_auto_rows": null,
            "grid_column": null,
            "grid_gap": null,
            "grid_row": null,
            "grid_template_areas": null,
            "grid_template_columns": null,
            "grid_template_rows": null,
            "height": null,
            "justify_content": null,
            "justify_items": null,
            "left": null,
            "margin": null,
            "max_height": null,
            "max_width": null,
            "min_height": null,
            "min_width": null,
            "object_fit": null,
            "object_position": null,
            "order": null,
            "overflow": null,
            "overflow_x": null,
            "overflow_y": null,
            "padding": null,
            "right": null,
            "top": null,
            "visibility": null,
            "width": null
          }
        },
        "07b79f22547b4905913c12ab92bd1ed8": {
          "model_module": "@jupyter-widgets/controls",
          "model_name": "DescriptionStyleModel",
          "model_module_version": "1.5.0",
          "state": {
            "_model_module": "@jupyter-widgets/controls",
            "_model_module_version": "1.5.0",
            "_model_name": "DescriptionStyleModel",
            "_view_count": null,
            "_view_module": "@jupyter-widgets/base",
            "_view_module_version": "1.2.0",
            "_view_name": "StyleView",
            "description_width": ""
          }
        },
        "d8c2a9399c864c95932253dd9746b5a4": {
          "model_module": "@jupyter-widgets/controls",
          "model_name": "HBoxModel",
          "model_module_version": "1.5.0",
          "state": {
            "_dom_classes": [],
            "_model_module": "@jupyter-widgets/controls",
            "_model_module_version": "1.5.0",
            "_model_name": "HBoxModel",
            "_view_count": null,
            "_view_module": "@jupyter-widgets/controls",
            "_view_module_version": "1.5.0",
            "_view_name": "HBoxView",
            "box_style": "",
            "children": [
              "IPY_MODEL_96a1d9dddb5c46938c27f993b3809c18",
              "IPY_MODEL_a8324934ffd94e889b506d6e26363f4f",
              "IPY_MODEL_472692c2ca03471caa7000ddb6c67158"
            ],
            "layout": "IPY_MODEL_c82c64040ab04056ad8499c932bac9b2"
          }
        },
        "96a1d9dddb5c46938c27f993b3809c18": {
          "model_module": "@jupyter-widgets/controls",
          "model_name": "HTMLModel",
          "model_module_version": "1.5.0",
          "state": {
            "_dom_classes": [],
            "_model_module": "@jupyter-widgets/controls",
            "_model_module_version": "1.5.0",
            "_model_name": "HTMLModel",
            "_view_count": null,
            "_view_module": "@jupyter-widgets/controls",
            "_view_module_version": "1.5.0",
            "_view_name": "HTMLView",
            "description": "",
            "description_tooltip": null,
            "layout": "IPY_MODEL_4444be7309d148c49373b4ca45e54f6f",
            "placeholder": "​",
            "style": "IPY_MODEL_e076ffc1fecc4593b1fe802018b18e50",
            "value": "Downloading: 100%"
          }
        },
        "a8324934ffd94e889b506d6e26363f4f": {
          "model_module": "@jupyter-widgets/controls",
          "model_name": "FloatProgressModel",
          "model_module_version": "1.5.0",
          "state": {
            "_dom_classes": [],
            "_model_module": "@jupyter-widgets/controls",
            "_model_module_version": "1.5.0",
            "_model_name": "FloatProgressModel",
            "_view_count": null,
            "_view_module": "@jupyter-widgets/controls",
            "_view_module_version": "1.5.0",
            "_view_name": "ProgressView",
            "bar_style": "success",
            "description": "",
            "description_tooltip": null,
            "layout": "IPY_MODEL_80ea9c272c8948759429209440955a25",
            "max": 483,
            "min": 0,
            "orientation": "horizontal",
            "style": "IPY_MODEL_0cba273810544b7a9473c692aeb00cc5",
            "value": 483
          }
        },
        "472692c2ca03471caa7000ddb6c67158": {
          "model_module": "@jupyter-widgets/controls",
          "model_name": "HTMLModel",
          "model_module_version": "1.5.0",
          "state": {
            "_dom_classes": [],
            "_model_module": "@jupyter-widgets/controls",
            "_model_module_version": "1.5.0",
            "_model_name": "HTMLModel",
            "_view_count": null,
            "_view_module": "@jupyter-widgets/controls",
            "_view_module_version": "1.5.0",
            "_view_name": "HTMLView",
            "description": "",
            "description_tooltip": null,
            "layout": "IPY_MODEL_0296a63be935448f9c0b97a25f8ad6c1",
            "placeholder": "​",
            "style": "IPY_MODEL_b21c85a138a54fcabc8817520d30a334",
            "value": " 483/483 [00:00&lt;00:00, 13.8kB/s]"
          }
        },
        "c82c64040ab04056ad8499c932bac9b2": {
          "model_module": "@jupyter-widgets/base",
          "model_name": "LayoutModel",
          "model_module_version": "1.2.0",
          "state": {
            "_model_module": "@jupyter-widgets/base",
            "_model_module_version": "1.2.0",
            "_model_name": "LayoutModel",
            "_view_count": null,
            "_view_module": "@jupyter-widgets/base",
            "_view_module_version": "1.2.0",
            "_view_name": "LayoutView",
            "align_content": null,
            "align_items": null,
            "align_self": null,
            "border": null,
            "bottom": null,
            "display": null,
            "flex": null,
            "flex_flow": null,
            "grid_area": null,
            "grid_auto_columns": null,
            "grid_auto_flow": null,
            "grid_auto_rows": null,
            "grid_column": null,
            "grid_gap": null,
            "grid_row": null,
            "grid_template_areas": null,
            "grid_template_columns": null,
            "grid_template_rows": null,
            "height": null,
            "justify_content": null,
            "justify_items": null,
            "left": null,
            "margin": null,
            "max_height": null,
            "max_width": null,
            "min_height": null,
            "min_width": null,
            "object_fit": null,
            "object_position": null,
            "order": null,
            "overflow": null,
            "overflow_x": null,
            "overflow_y": null,
            "padding": null,
            "right": null,
            "top": null,
            "visibility": null,
            "width": null
          }
        },
        "4444be7309d148c49373b4ca45e54f6f": {
          "model_module": "@jupyter-widgets/base",
          "model_name": "LayoutModel",
          "model_module_version": "1.2.0",
          "state": {
            "_model_module": "@jupyter-widgets/base",
            "_model_module_version": "1.2.0",
            "_model_name": "LayoutModel",
            "_view_count": null,
            "_view_module": "@jupyter-widgets/base",
            "_view_module_version": "1.2.0",
            "_view_name": "LayoutView",
            "align_content": null,
            "align_items": null,
            "align_self": null,
            "border": null,
            "bottom": null,
            "display": null,
            "flex": null,
            "flex_flow": null,
            "grid_area": null,
            "grid_auto_columns": null,
            "grid_auto_flow": null,
            "grid_auto_rows": null,
            "grid_column": null,
            "grid_gap": null,
            "grid_row": null,
            "grid_template_areas": null,
            "grid_template_columns": null,
            "grid_template_rows": null,
            "height": null,
            "justify_content": null,
            "justify_items": null,
            "left": null,
            "margin": null,
            "max_height": null,
            "max_width": null,
            "min_height": null,
            "min_width": null,
            "object_fit": null,
            "object_position": null,
            "order": null,
            "overflow": null,
            "overflow_x": null,
            "overflow_y": null,
            "padding": null,
            "right": null,
            "top": null,
            "visibility": null,
            "width": null
          }
        },
        "e076ffc1fecc4593b1fe802018b18e50": {
          "model_module": "@jupyter-widgets/controls",
          "model_name": "DescriptionStyleModel",
          "model_module_version": "1.5.0",
          "state": {
            "_model_module": "@jupyter-widgets/controls",
            "_model_module_version": "1.5.0",
            "_model_name": "DescriptionStyleModel",
            "_view_count": null,
            "_view_module": "@jupyter-widgets/base",
            "_view_module_version": "1.2.0",
            "_view_name": "StyleView",
            "description_width": ""
          }
        },
        "80ea9c272c8948759429209440955a25": {
          "model_module": "@jupyter-widgets/base",
          "model_name": "LayoutModel",
          "model_module_version": "1.2.0",
          "state": {
            "_model_module": "@jupyter-widgets/base",
            "_model_module_version": "1.2.0",
            "_model_name": "LayoutModel",
            "_view_count": null,
            "_view_module": "@jupyter-widgets/base",
            "_view_module_version": "1.2.0",
            "_view_name": "LayoutView",
            "align_content": null,
            "align_items": null,
            "align_self": null,
            "border": null,
            "bottom": null,
            "display": null,
            "flex": null,
            "flex_flow": null,
            "grid_area": null,
            "grid_auto_columns": null,
            "grid_auto_flow": null,
            "grid_auto_rows": null,
            "grid_column": null,
            "grid_gap": null,
            "grid_row": null,
            "grid_template_areas": null,
            "grid_template_columns": null,
            "grid_template_rows": null,
            "height": null,
            "justify_content": null,
            "justify_items": null,
            "left": null,
            "margin": null,
            "max_height": null,
            "max_width": null,
            "min_height": null,
            "min_width": null,
            "object_fit": null,
            "object_position": null,
            "order": null,
            "overflow": null,
            "overflow_x": null,
            "overflow_y": null,
            "padding": null,
            "right": null,
            "top": null,
            "visibility": null,
            "width": null
          }
        },
        "0cba273810544b7a9473c692aeb00cc5": {
          "model_module": "@jupyter-widgets/controls",
          "model_name": "ProgressStyleModel",
          "model_module_version": "1.5.0",
          "state": {
            "_model_module": "@jupyter-widgets/controls",
            "_model_module_version": "1.5.0",
            "_model_name": "ProgressStyleModel",
            "_view_count": null,
            "_view_module": "@jupyter-widgets/base",
            "_view_module_version": "1.2.0",
            "_view_name": "StyleView",
            "bar_color": null,
            "description_width": ""
          }
        },
        "0296a63be935448f9c0b97a25f8ad6c1": {
          "model_module": "@jupyter-widgets/base",
          "model_name": "LayoutModel",
          "model_module_version": "1.2.0",
          "state": {
            "_model_module": "@jupyter-widgets/base",
            "_model_module_version": "1.2.0",
            "_model_name": "LayoutModel",
            "_view_count": null,
            "_view_module": "@jupyter-widgets/base",
            "_view_module_version": "1.2.0",
            "_view_name": "LayoutView",
            "align_content": null,
            "align_items": null,
            "align_self": null,
            "border": null,
            "bottom": null,
            "display": null,
            "flex": null,
            "flex_flow": null,
            "grid_area": null,
            "grid_auto_columns": null,
            "grid_auto_flow": null,
            "grid_auto_rows": null,
            "grid_column": null,
            "grid_gap": null,
            "grid_row": null,
            "grid_template_areas": null,
            "grid_template_columns": null,
            "grid_template_rows": null,
            "height": null,
            "justify_content": null,
            "justify_items": null,
            "left": null,
            "margin": null,
            "max_height": null,
            "max_width": null,
            "min_height": null,
            "min_width": null,
            "object_fit": null,
            "object_position": null,
            "order": null,
            "overflow": null,
            "overflow_x": null,
            "overflow_y": null,
            "padding": null,
            "right": null,
            "top": null,
            "visibility": null,
            "width": null
          }
        },
        "b21c85a138a54fcabc8817520d30a334": {
          "model_module": "@jupyter-widgets/controls",
          "model_name": "DescriptionStyleModel",
          "model_module_version": "1.5.0",
          "state": {
            "_model_module": "@jupyter-widgets/controls",
            "_model_module_version": "1.5.0",
            "_model_name": "DescriptionStyleModel",
            "_view_count": null,
            "_view_module": "@jupyter-widgets/base",
            "_view_module_version": "1.2.0",
            "_view_name": "StyleView",
            "description_width": ""
          }
        },
        "9fa874b5dfe049e299bc05e8e534fc4f": {
          "model_module": "@jupyter-widgets/controls",
          "model_name": "HBoxModel",
          "model_module_version": "1.5.0",
          "state": {
            "_dom_classes": [],
            "_model_module": "@jupyter-widgets/controls",
            "_model_module_version": "1.5.0",
            "_model_name": "HBoxModel",
            "_view_count": null,
            "_view_module": "@jupyter-widgets/controls",
            "_view_module_version": "1.5.0",
            "_view_name": "HBoxView",
            "box_style": "",
            "children": [
              "IPY_MODEL_933f3028f5b84034b5bf3216fe5aba08",
              "IPY_MODEL_3a51eaeab4454769a56bd3306add5b82",
              "IPY_MODEL_48b84342bb4a4ca5b36cd43d29d74940"
            ],
            "layout": "IPY_MODEL_bf314eaa073e4651ae28094a235e9255"
          }
        },
        "933f3028f5b84034b5bf3216fe5aba08": {
          "model_module": "@jupyter-widgets/controls",
          "model_name": "HTMLModel",
          "model_module_version": "1.5.0",
          "state": {
            "_dom_classes": [],
            "_model_module": "@jupyter-widgets/controls",
            "_model_module_version": "1.5.0",
            "_model_name": "HTMLModel",
            "_view_count": null,
            "_view_module": "@jupyter-widgets/controls",
            "_view_module_version": "1.5.0",
            "_view_name": "HTMLView",
            "description": "",
            "description_tooltip": null,
            "layout": "IPY_MODEL_ef519d5210994f07bfe433d7d68dca06",
            "placeholder": "​",
            "style": "IPY_MODEL_fab64bc14b8444b6b4509c4b8c3d4ce2",
            "value": "Downloading: 100%"
          }
        },
        "3a51eaeab4454769a56bd3306add5b82": {
          "model_module": "@jupyter-widgets/controls",
          "model_name": "FloatProgressModel",
          "model_module_version": "1.5.0",
          "state": {
            "_dom_classes": [],
            "_model_module": "@jupyter-widgets/controls",
            "_model_module_version": "1.5.0",
            "_model_name": "FloatProgressModel",
            "_view_count": null,
            "_view_module": "@jupyter-widgets/controls",
            "_view_module_version": "1.5.0",
            "_view_name": "ProgressView",
            "bar_style": "success",
            "description": "",
            "description_tooltip": null,
            "layout": "IPY_MODEL_dd55bf49cf404d3684bd885a537338a1",
            "max": 231508,
            "min": 0,
            "orientation": "horizontal",
            "style": "IPY_MODEL_dca318a64d7f45a6b32bdf782f927039",
            "value": 231508
          }
        },
        "48b84342bb4a4ca5b36cd43d29d74940": {
          "model_module": "@jupyter-widgets/controls",
          "model_name": "HTMLModel",
          "model_module_version": "1.5.0",
          "state": {
            "_dom_classes": [],
            "_model_module": "@jupyter-widgets/controls",
            "_model_module_version": "1.5.0",
            "_model_name": "HTMLModel",
            "_view_count": null,
            "_view_module": "@jupyter-widgets/controls",
            "_view_module_version": "1.5.0",
            "_view_name": "HTMLView",
            "description": "",
            "description_tooltip": null,
            "layout": "IPY_MODEL_f05b42c62e754343b8404131f184ee8f",
            "placeholder": "​",
            "style": "IPY_MODEL_ed8b0d02fb514491bf1cf504f6d833f4",
            "value": " 226k/226k [00:00&lt;00:00, 287kB/s]"
          }
        },
        "bf314eaa073e4651ae28094a235e9255": {
          "model_module": "@jupyter-widgets/base",
          "model_name": "LayoutModel",
          "model_module_version": "1.2.0",
          "state": {
            "_model_module": "@jupyter-widgets/base",
            "_model_module_version": "1.2.0",
            "_model_name": "LayoutModel",
            "_view_count": null,
            "_view_module": "@jupyter-widgets/base",
            "_view_module_version": "1.2.0",
            "_view_name": "LayoutView",
            "align_content": null,
            "align_items": null,
            "align_self": null,
            "border": null,
            "bottom": null,
            "display": null,
            "flex": null,
            "flex_flow": null,
            "grid_area": null,
            "grid_auto_columns": null,
            "grid_auto_flow": null,
            "grid_auto_rows": null,
            "grid_column": null,
            "grid_gap": null,
            "grid_row": null,
            "grid_template_areas": null,
            "grid_template_columns": null,
            "grid_template_rows": null,
            "height": null,
            "justify_content": null,
            "justify_items": null,
            "left": null,
            "margin": null,
            "max_height": null,
            "max_width": null,
            "min_height": null,
            "min_width": null,
            "object_fit": null,
            "object_position": null,
            "order": null,
            "overflow": null,
            "overflow_x": null,
            "overflow_y": null,
            "padding": null,
            "right": null,
            "top": null,
            "visibility": null,
            "width": null
          }
        },
        "ef519d5210994f07bfe433d7d68dca06": {
          "model_module": "@jupyter-widgets/base",
          "model_name": "LayoutModel",
          "model_module_version": "1.2.0",
          "state": {
            "_model_module": "@jupyter-widgets/base",
            "_model_module_version": "1.2.0",
            "_model_name": "LayoutModel",
            "_view_count": null,
            "_view_module": "@jupyter-widgets/base",
            "_view_module_version": "1.2.0",
            "_view_name": "LayoutView",
            "align_content": null,
            "align_items": null,
            "align_self": null,
            "border": null,
            "bottom": null,
            "display": null,
            "flex": null,
            "flex_flow": null,
            "grid_area": null,
            "grid_auto_columns": null,
            "grid_auto_flow": null,
            "grid_auto_rows": null,
            "grid_column": null,
            "grid_gap": null,
            "grid_row": null,
            "grid_template_areas": null,
            "grid_template_columns": null,
            "grid_template_rows": null,
            "height": null,
            "justify_content": null,
            "justify_items": null,
            "left": null,
            "margin": null,
            "max_height": null,
            "max_width": null,
            "min_height": null,
            "min_width": null,
            "object_fit": null,
            "object_position": null,
            "order": null,
            "overflow": null,
            "overflow_x": null,
            "overflow_y": null,
            "padding": null,
            "right": null,
            "top": null,
            "visibility": null,
            "width": null
          }
        },
        "fab64bc14b8444b6b4509c4b8c3d4ce2": {
          "model_module": "@jupyter-widgets/controls",
          "model_name": "DescriptionStyleModel",
          "model_module_version": "1.5.0",
          "state": {
            "_model_module": "@jupyter-widgets/controls",
            "_model_module_version": "1.5.0",
            "_model_name": "DescriptionStyleModel",
            "_view_count": null,
            "_view_module": "@jupyter-widgets/base",
            "_view_module_version": "1.2.0",
            "_view_name": "StyleView",
            "description_width": ""
          }
        },
        "dd55bf49cf404d3684bd885a537338a1": {
          "model_module": "@jupyter-widgets/base",
          "model_name": "LayoutModel",
          "model_module_version": "1.2.0",
          "state": {
            "_model_module": "@jupyter-widgets/base",
            "_model_module_version": "1.2.0",
            "_model_name": "LayoutModel",
            "_view_count": null,
            "_view_module": "@jupyter-widgets/base",
            "_view_module_version": "1.2.0",
            "_view_name": "LayoutView",
            "align_content": null,
            "align_items": null,
            "align_self": null,
            "border": null,
            "bottom": null,
            "display": null,
            "flex": null,
            "flex_flow": null,
            "grid_area": null,
            "grid_auto_columns": null,
            "grid_auto_flow": null,
            "grid_auto_rows": null,
            "grid_column": null,
            "grid_gap": null,
            "grid_row": null,
            "grid_template_areas": null,
            "grid_template_columns": null,
            "grid_template_rows": null,
            "height": null,
            "justify_content": null,
            "justify_items": null,
            "left": null,
            "margin": null,
            "max_height": null,
            "max_width": null,
            "min_height": null,
            "min_width": null,
            "object_fit": null,
            "object_position": null,
            "order": null,
            "overflow": null,
            "overflow_x": null,
            "overflow_y": null,
            "padding": null,
            "right": null,
            "top": null,
            "visibility": null,
            "width": null
          }
        },
        "dca318a64d7f45a6b32bdf782f927039": {
          "model_module": "@jupyter-widgets/controls",
          "model_name": "ProgressStyleModel",
          "model_module_version": "1.5.0",
          "state": {
            "_model_module": "@jupyter-widgets/controls",
            "_model_module_version": "1.5.0",
            "_model_name": "ProgressStyleModel",
            "_view_count": null,
            "_view_module": "@jupyter-widgets/base",
            "_view_module_version": "1.2.0",
            "_view_name": "StyleView",
            "bar_color": null,
            "description_width": ""
          }
        },
        "f05b42c62e754343b8404131f184ee8f": {
          "model_module": "@jupyter-widgets/base",
          "model_name": "LayoutModel",
          "model_module_version": "1.2.0",
          "state": {
            "_model_module": "@jupyter-widgets/base",
            "_model_module_version": "1.2.0",
            "_model_name": "LayoutModel",
            "_view_count": null,
            "_view_module": "@jupyter-widgets/base",
            "_view_module_version": "1.2.0",
            "_view_name": "LayoutView",
            "align_content": null,
            "align_items": null,
            "align_self": null,
            "border": null,
            "bottom": null,
            "display": null,
            "flex": null,
            "flex_flow": null,
            "grid_area": null,
            "grid_auto_columns": null,
            "grid_auto_flow": null,
            "grid_auto_rows": null,
            "grid_column": null,
            "grid_gap": null,
            "grid_row": null,
            "grid_template_areas": null,
            "grid_template_columns": null,
            "grid_template_rows": null,
            "height": null,
            "justify_content": null,
            "justify_items": null,
            "left": null,
            "margin": null,
            "max_height": null,
            "max_width": null,
            "min_height": null,
            "min_width": null,
            "object_fit": null,
            "object_position": null,
            "order": null,
            "overflow": null,
            "overflow_x": null,
            "overflow_y": null,
            "padding": null,
            "right": null,
            "top": null,
            "visibility": null,
            "width": null
          }
        },
        "ed8b0d02fb514491bf1cf504f6d833f4": {
          "model_module": "@jupyter-widgets/controls",
          "model_name": "DescriptionStyleModel",
          "model_module_version": "1.5.0",
          "state": {
            "_model_module": "@jupyter-widgets/controls",
            "_model_module_version": "1.5.0",
            "_model_name": "DescriptionStyleModel",
            "_view_count": null,
            "_view_module": "@jupyter-widgets/base",
            "_view_module_version": "1.2.0",
            "_view_name": "StyleView",
            "description_width": ""
          }
        },
        "f138cf63bb99477ea804067a0a5bc95e": {
          "model_module": "@jupyter-widgets/controls",
          "model_name": "HBoxModel",
          "model_module_version": "1.5.0",
          "state": {
            "_dom_classes": [],
            "_model_module": "@jupyter-widgets/controls",
            "_model_module_version": "1.5.0",
            "_model_name": "HBoxModel",
            "_view_count": null,
            "_view_module": "@jupyter-widgets/controls",
            "_view_module_version": "1.5.0",
            "_view_name": "HBoxView",
            "box_style": "",
            "children": [
              "IPY_MODEL_c315a90a9de948c790873828ff5a6da4",
              "IPY_MODEL_e9556293ea6d4f7295ceaf382f28da91",
              "IPY_MODEL_59ff20e673d44b149131329ea387c63d"
            ],
            "layout": "IPY_MODEL_6f72d812eda547d5a3c7922ef31a002d"
          }
        },
        "c315a90a9de948c790873828ff5a6da4": {
          "model_module": "@jupyter-widgets/controls",
          "model_name": "HTMLModel",
          "model_module_version": "1.5.0",
          "state": {
            "_dom_classes": [],
            "_model_module": "@jupyter-widgets/controls",
            "_model_module_version": "1.5.0",
            "_model_name": "HTMLModel",
            "_view_count": null,
            "_view_module": "@jupyter-widgets/controls",
            "_view_module_version": "1.5.0",
            "_view_name": "HTMLView",
            "description": "",
            "description_tooltip": null,
            "layout": "IPY_MODEL_72c0ba4138eb49a19bca80c3aee90be9",
            "placeholder": "​",
            "style": "IPY_MODEL_b993d301abdf43c4b9504e12d8c5fd7a",
            "value": "Downloading: 100%"
          }
        },
        "e9556293ea6d4f7295ceaf382f28da91": {
          "model_module": "@jupyter-widgets/controls",
          "model_name": "FloatProgressModel",
          "model_module_version": "1.5.0",
          "state": {
            "_dom_classes": [],
            "_model_module": "@jupyter-widgets/controls",
            "_model_module_version": "1.5.0",
            "_model_name": "FloatProgressModel",
            "_view_count": null,
            "_view_module": "@jupyter-widgets/controls",
            "_view_module_version": "1.5.0",
            "_view_name": "ProgressView",
            "bar_style": "success",
            "description": "",
            "description_tooltip": null,
            "layout": "IPY_MODEL_f7e17d16e8934672a25b3c69a1ef3531",
            "max": 466062,
            "min": 0,
            "orientation": "horizontal",
            "style": "IPY_MODEL_86178c4ba93b4fcab776fde946528487",
            "value": 466062
          }
        },
        "59ff20e673d44b149131329ea387c63d": {
          "model_module": "@jupyter-widgets/controls",
          "model_name": "HTMLModel",
          "model_module_version": "1.5.0",
          "state": {
            "_dom_classes": [],
            "_model_module": "@jupyter-widgets/controls",
            "_model_module_version": "1.5.0",
            "_model_name": "HTMLModel",
            "_view_count": null,
            "_view_module": "@jupyter-widgets/controls",
            "_view_module_version": "1.5.0",
            "_view_name": "HTMLView",
            "description": "",
            "description_tooltip": null,
            "layout": "IPY_MODEL_2d88c9e7976e4dffaae77c3127614dff",
            "placeholder": "​",
            "style": "IPY_MODEL_b42de56f8b6849318fa2b1c6aa3cc26e",
            "value": " 455k/455k [00:01&lt;00:00, 532kB/s]"
          }
        },
        "6f72d812eda547d5a3c7922ef31a002d": {
          "model_module": "@jupyter-widgets/base",
          "model_name": "LayoutModel",
          "model_module_version": "1.2.0",
          "state": {
            "_model_module": "@jupyter-widgets/base",
            "_model_module_version": "1.2.0",
            "_model_name": "LayoutModel",
            "_view_count": null,
            "_view_module": "@jupyter-widgets/base",
            "_view_module_version": "1.2.0",
            "_view_name": "LayoutView",
            "align_content": null,
            "align_items": null,
            "align_self": null,
            "border": null,
            "bottom": null,
            "display": null,
            "flex": null,
            "flex_flow": null,
            "grid_area": null,
            "grid_auto_columns": null,
            "grid_auto_flow": null,
            "grid_auto_rows": null,
            "grid_column": null,
            "grid_gap": null,
            "grid_row": null,
            "grid_template_areas": null,
            "grid_template_columns": null,
            "grid_template_rows": null,
            "height": null,
            "justify_content": null,
            "justify_items": null,
            "left": null,
            "margin": null,
            "max_height": null,
            "max_width": null,
            "min_height": null,
            "min_width": null,
            "object_fit": null,
            "object_position": null,
            "order": null,
            "overflow": null,
            "overflow_x": null,
            "overflow_y": null,
            "padding": null,
            "right": null,
            "top": null,
            "visibility": null,
            "width": null
          }
        },
        "72c0ba4138eb49a19bca80c3aee90be9": {
          "model_module": "@jupyter-widgets/base",
          "model_name": "LayoutModel",
          "model_module_version": "1.2.0",
          "state": {
            "_model_module": "@jupyter-widgets/base",
            "_model_module_version": "1.2.0",
            "_model_name": "LayoutModel",
            "_view_count": null,
            "_view_module": "@jupyter-widgets/base",
            "_view_module_version": "1.2.0",
            "_view_name": "LayoutView",
            "align_content": null,
            "align_items": null,
            "align_self": null,
            "border": null,
            "bottom": null,
            "display": null,
            "flex": null,
            "flex_flow": null,
            "grid_area": null,
            "grid_auto_columns": null,
            "grid_auto_flow": null,
            "grid_auto_rows": null,
            "grid_column": null,
            "grid_gap": null,
            "grid_row": null,
            "grid_template_areas": null,
            "grid_template_columns": null,
            "grid_template_rows": null,
            "height": null,
            "justify_content": null,
            "justify_items": null,
            "left": null,
            "margin": null,
            "max_height": null,
            "max_width": null,
            "min_height": null,
            "min_width": null,
            "object_fit": null,
            "object_position": null,
            "order": null,
            "overflow": null,
            "overflow_x": null,
            "overflow_y": null,
            "padding": null,
            "right": null,
            "top": null,
            "visibility": null,
            "width": null
          }
        },
        "b993d301abdf43c4b9504e12d8c5fd7a": {
          "model_module": "@jupyter-widgets/controls",
          "model_name": "DescriptionStyleModel",
          "model_module_version": "1.5.0",
          "state": {
            "_model_module": "@jupyter-widgets/controls",
            "_model_module_version": "1.5.0",
            "_model_name": "DescriptionStyleModel",
            "_view_count": null,
            "_view_module": "@jupyter-widgets/base",
            "_view_module_version": "1.2.0",
            "_view_name": "StyleView",
            "description_width": ""
          }
        },
        "f7e17d16e8934672a25b3c69a1ef3531": {
          "model_module": "@jupyter-widgets/base",
          "model_name": "LayoutModel",
          "model_module_version": "1.2.0",
          "state": {
            "_model_module": "@jupyter-widgets/base",
            "_model_module_version": "1.2.0",
            "_model_name": "LayoutModel",
            "_view_count": null,
            "_view_module": "@jupyter-widgets/base",
            "_view_module_version": "1.2.0",
            "_view_name": "LayoutView",
            "align_content": null,
            "align_items": null,
            "align_self": null,
            "border": null,
            "bottom": null,
            "display": null,
            "flex": null,
            "flex_flow": null,
            "grid_area": null,
            "grid_auto_columns": null,
            "grid_auto_flow": null,
            "grid_auto_rows": null,
            "grid_column": null,
            "grid_gap": null,
            "grid_row": null,
            "grid_template_areas": null,
            "grid_template_columns": null,
            "grid_template_rows": null,
            "height": null,
            "justify_content": null,
            "justify_items": null,
            "left": null,
            "margin": null,
            "max_height": null,
            "max_width": null,
            "min_height": null,
            "min_width": null,
            "object_fit": null,
            "object_position": null,
            "order": null,
            "overflow": null,
            "overflow_x": null,
            "overflow_y": null,
            "padding": null,
            "right": null,
            "top": null,
            "visibility": null,
            "width": null
          }
        },
        "86178c4ba93b4fcab776fde946528487": {
          "model_module": "@jupyter-widgets/controls",
          "model_name": "ProgressStyleModel",
          "model_module_version": "1.5.0",
          "state": {
            "_model_module": "@jupyter-widgets/controls",
            "_model_module_version": "1.5.0",
            "_model_name": "ProgressStyleModel",
            "_view_count": null,
            "_view_module": "@jupyter-widgets/base",
            "_view_module_version": "1.2.0",
            "_view_name": "StyleView",
            "bar_color": null,
            "description_width": ""
          }
        },
        "2d88c9e7976e4dffaae77c3127614dff": {
          "model_module": "@jupyter-widgets/base",
          "model_name": "LayoutModel",
          "model_module_version": "1.2.0",
          "state": {
            "_model_module": "@jupyter-widgets/base",
            "_model_module_version": "1.2.0",
            "_model_name": "LayoutModel",
            "_view_count": null,
            "_view_module": "@jupyter-widgets/base",
            "_view_module_version": "1.2.0",
            "_view_name": "LayoutView",
            "align_content": null,
            "align_items": null,
            "align_self": null,
            "border": null,
            "bottom": null,
            "display": null,
            "flex": null,
            "flex_flow": null,
            "grid_area": null,
            "grid_auto_columns": null,
            "grid_auto_flow": null,
            "grid_auto_rows": null,
            "grid_column": null,
            "grid_gap": null,
            "grid_row": null,
            "grid_template_areas": null,
            "grid_template_columns": null,
            "grid_template_rows": null,
            "height": null,
            "justify_content": null,
            "justify_items": null,
            "left": null,
            "margin": null,
            "max_height": null,
            "max_width": null,
            "min_height": null,
            "min_width": null,
            "object_fit": null,
            "object_position": null,
            "order": null,
            "overflow": null,
            "overflow_x": null,
            "overflow_y": null,
            "padding": null,
            "right": null,
            "top": null,
            "visibility": null,
            "width": null
          }
        },
        "b42de56f8b6849318fa2b1c6aa3cc26e": {
          "model_module": "@jupyter-widgets/controls",
          "model_name": "DescriptionStyleModel",
          "model_module_version": "1.5.0",
          "state": {
            "_model_module": "@jupyter-widgets/controls",
            "_model_module_version": "1.5.0",
            "_model_name": "DescriptionStyleModel",
            "_view_count": null,
            "_view_module": "@jupyter-widgets/base",
            "_view_module_version": "1.2.0",
            "_view_name": "StyleView",
            "description_width": ""
          }
        },
        "8858aa86329e455fbfa376cdaa74d32c": {
          "model_module": "@jupyter-widgets/controls",
          "model_name": "HBoxModel",
          "model_module_version": "1.5.0",
          "state": {
            "_dom_classes": [],
            "_model_module": "@jupyter-widgets/controls",
            "_model_module_version": "1.5.0",
            "_model_name": "HBoxModel",
            "_view_count": null,
            "_view_module": "@jupyter-widgets/controls",
            "_view_module_version": "1.5.0",
            "_view_name": "HBoxView",
            "box_style": "",
            "children": [
              "IPY_MODEL_a8c73ec381744319a132776536a6f138",
              "IPY_MODEL_e1ba6932d4c34542b4689cf7f9c3641a",
              "IPY_MODEL_604b742a4989473cbb97da968fff8426"
            ],
            "layout": "IPY_MODEL_fc6f12a622b14a62a9c6ce536bfa138c"
          }
        },
        "a8c73ec381744319a132776536a6f138": {
          "model_module": "@jupyter-widgets/controls",
          "model_name": "HTMLModel",
          "model_module_version": "1.5.0",
          "state": {
            "_dom_classes": [],
            "_model_module": "@jupyter-widgets/controls",
            "_model_module_version": "1.5.0",
            "_model_name": "HTMLModel",
            "_view_count": null,
            "_view_module": "@jupyter-widgets/controls",
            "_view_module_version": "1.5.0",
            "_view_name": "HTMLView",
            "description": "",
            "description_tooltip": null,
            "layout": "IPY_MODEL_f622e3a343c041f09b418a13f99896f9",
            "placeholder": "​",
            "style": "IPY_MODEL_41154777563041139945b394aad67b04",
            "value": "100%"
          }
        },
        "e1ba6932d4c34542b4689cf7f9c3641a": {
          "model_module": "@jupyter-widgets/controls",
          "model_name": "FloatProgressModel",
          "model_module_version": "1.5.0",
          "state": {
            "_dom_classes": [],
            "_model_module": "@jupyter-widgets/controls",
            "_model_module_version": "1.5.0",
            "_model_name": "FloatProgressModel",
            "_view_count": null,
            "_view_module": "@jupyter-widgets/controls",
            "_view_module_version": "1.5.0",
            "_view_name": "ProgressView",
            "bar_style": "success",
            "description": "",
            "description_tooltip": null,
            "layout": "IPY_MODEL_5ad312eb6a154bca87e4bfd6a52730d3",
            "max": 11,
            "min": 0,
            "orientation": "horizontal",
            "style": "IPY_MODEL_e96e21db9fb64bd0b6098127fc000878",
            "value": 11
          }
        },
        "604b742a4989473cbb97da968fff8426": {
          "model_module": "@jupyter-widgets/controls",
          "model_name": "HTMLModel",
          "model_module_version": "1.5.0",
          "state": {
            "_dom_classes": [],
            "_model_module": "@jupyter-widgets/controls",
            "_model_module_version": "1.5.0",
            "_model_name": "HTMLModel",
            "_view_count": null,
            "_view_module": "@jupyter-widgets/controls",
            "_view_module_version": "1.5.0",
            "_view_name": "HTMLView",
            "description": "",
            "description_tooltip": null,
            "layout": "IPY_MODEL_9cfc768fa2904b5bb0a91c85991d509c",
            "placeholder": "​",
            "style": "IPY_MODEL_7969275160124edbbdf3aa82ead8b9aa",
            "value": " 11/11 [00:25&lt;00:00,  1.66s/ba]"
          }
        },
        "fc6f12a622b14a62a9c6ce536bfa138c": {
          "model_module": "@jupyter-widgets/base",
          "model_name": "LayoutModel",
          "model_module_version": "1.2.0",
          "state": {
            "_model_module": "@jupyter-widgets/base",
            "_model_module_version": "1.2.0",
            "_model_name": "LayoutModel",
            "_view_count": null,
            "_view_module": "@jupyter-widgets/base",
            "_view_module_version": "1.2.0",
            "_view_name": "LayoutView",
            "align_content": null,
            "align_items": null,
            "align_self": null,
            "border": null,
            "bottom": null,
            "display": null,
            "flex": null,
            "flex_flow": null,
            "grid_area": null,
            "grid_auto_columns": null,
            "grid_auto_flow": null,
            "grid_auto_rows": null,
            "grid_column": null,
            "grid_gap": null,
            "grid_row": null,
            "grid_template_areas": null,
            "grid_template_columns": null,
            "grid_template_rows": null,
            "height": null,
            "justify_content": null,
            "justify_items": null,
            "left": null,
            "margin": null,
            "max_height": null,
            "max_width": null,
            "min_height": null,
            "min_width": null,
            "object_fit": null,
            "object_position": null,
            "order": null,
            "overflow": null,
            "overflow_x": null,
            "overflow_y": null,
            "padding": null,
            "right": null,
            "top": null,
            "visibility": null,
            "width": null
          }
        },
        "f622e3a343c041f09b418a13f99896f9": {
          "model_module": "@jupyter-widgets/base",
          "model_name": "LayoutModel",
          "model_module_version": "1.2.0",
          "state": {
            "_model_module": "@jupyter-widgets/base",
            "_model_module_version": "1.2.0",
            "_model_name": "LayoutModel",
            "_view_count": null,
            "_view_module": "@jupyter-widgets/base",
            "_view_module_version": "1.2.0",
            "_view_name": "LayoutView",
            "align_content": null,
            "align_items": null,
            "align_self": null,
            "border": null,
            "bottom": null,
            "display": null,
            "flex": null,
            "flex_flow": null,
            "grid_area": null,
            "grid_auto_columns": null,
            "grid_auto_flow": null,
            "grid_auto_rows": null,
            "grid_column": null,
            "grid_gap": null,
            "grid_row": null,
            "grid_template_areas": null,
            "grid_template_columns": null,
            "grid_template_rows": null,
            "height": null,
            "justify_content": null,
            "justify_items": null,
            "left": null,
            "margin": null,
            "max_height": null,
            "max_width": null,
            "min_height": null,
            "min_width": null,
            "object_fit": null,
            "object_position": null,
            "order": null,
            "overflow": null,
            "overflow_x": null,
            "overflow_y": null,
            "padding": null,
            "right": null,
            "top": null,
            "visibility": null,
            "width": null
          }
        },
        "41154777563041139945b394aad67b04": {
          "model_module": "@jupyter-widgets/controls",
          "model_name": "DescriptionStyleModel",
          "model_module_version": "1.5.0",
          "state": {
            "_model_module": "@jupyter-widgets/controls",
            "_model_module_version": "1.5.0",
            "_model_name": "DescriptionStyleModel",
            "_view_count": null,
            "_view_module": "@jupyter-widgets/base",
            "_view_module_version": "1.2.0",
            "_view_name": "StyleView",
            "description_width": ""
          }
        },
        "5ad312eb6a154bca87e4bfd6a52730d3": {
          "model_module": "@jupyter-widgets/base",
          "model_name": "LayoutModel",
          "model_module_version": "1.2.0",
          "state": {
            "_model_module": "@jupyter-widgets/base",
            "_model_module_version": "1.2.0",
            "_model_name": "LayoutModel",
            "_view_count": null,
            "_view_module": "@jupyter-widgets/base",
            "_view_module_version": "1.2.0",
            "_view_name": "LayoutView",
            "align_content": null,
            "align_items": null,
            "align_self": null,
            "border": null,
            "bottom": null,
            "display": null,
            "flex": null,
            "flex_flow": null,
            "grid_area": null,
            "grid_auto_columns": null,
            "grid_auto_flow": null,
            "grid_auto_rows": null,
            "grid_column": null,
            "grid_gap": null,
            "grid_row": null,
            "grid_template_areas": null,
            "grid_template_columns": null,
            "grid_template_rows": null,
            "height": null,
            "justify_content": null,
            "justify_items": null,
            "left": null,
            "margin": null,
            "max_height": null,
            "max_width": null,
            "min_height": null,
            "min_width": null,
            "object_fit": null,
            "object_position": null,
            "order": null,
            "overflow": null,
            "overflow_x": null,
            "overflow_y": null,
            "padding": null,
            "right": null,
            "top": null,
            "visibility": null,
            "width": null
          }
        },
        "e96e21db9fb64bd0b6098127fc000878": {
          "model_module": "@jupyter-widgets/controls",
          "model_name": "ProgressStyleModel",
          "model_module_version": "1.5.0",
          "state": {
            "_model_module": "@jupyter-widgets/controls",
            "_model_module_version": "1.5.0",
            "_model_name": "ProgressStyleModel",
            "_view_count": null,
            "_view_module": "@jupyter-widgets/base",
            "_view_module_version": "1.2.0",
            "_view_name": "StyleView",
            "bar_color": null,
            "description_width": ""
          }
        },
        "9cfc768fa2904b5bb0a91c85991d509c": {
          "model_module": "@jupyter-widgets/base",
          "model_name": "LayoutModel",
          "model_module_version": "1.2.0",
          "state": {
            "_model_module": "@jupyter-widgets/base",
            "_model_module_version": "1.2.0",
            "_model_name": "LayoutModel",
            "_view_count": null,
            "_view_module": "@jupyter-widgets/base",
            "_view_module_version": "1.2.0",
            "_view_name": "LayoutView",
            "align_content": null,
            "align_items": null,
            "align_self": null,
            "border": null,
            "bottom": null,
            "display": null,
            "flex": null,
            "flex_flow": null,
            "grid_area": null,
            "grid_auto_columns": null,
            "grid_auto_flow": null,
            "grid_auto_rows": null,
            "grid_column": null,
            "grid_gap": null,
            "grid_row": null,
            "grid_template_areas": null,
            "grid_template_columns": null,
            "grid_template_rows": null,
            "height": null,
            "justify_content": null,
            "justify_items": null,
            "left": null,
            "margin": null,
            "max_height": null,
            "max_width": null,
            "min_height": null,
            "min_width": null,
            "object_fit": null,
            "object_position": null,
            "order": null,
            "overflow": null,
            "overflow_x": null,
            "overflow_y": null,
            "padding": null,
            "right": null,
            "top": null,
            "visibility": null,
            "width": null
          }
        },
        "7969275160124edbbdf3aa82ead8b9aa": {
          "model_module": "@jupyter-widgets/controls",
          "model_name": "DescriptionStyleModel",
          "model_module_version": "1.5.0",
          "state": {
            "_model_module": "@jupyter-widgets/controls",
            "_model_module_version": "1.5.0",
            "_model_name": "DescriptionStyleModel",
            "_view_count": null,
            "_view_module": "@jupyter-widgets/base",
            "_view_module_version": "1.2.0",
            "_view_name": "StyleView",
            "description_width": ""
          }
        },
        "7cbe137b9fa84a96b2698da49bfc1887": {
          "model_module": "@jupyter-widgets/controls",
          "model_name": "HBoxModel",
          "model_module_version": "1.5.0",
          "state": {
            "_dom_classes": [],
            "_model_module": "@jupyter-widgets/controls",
            "_model_module_version": "1.5.0",
            "_model_name": "HBoxModel",
            "_view_count": null,
            "_view_module": "@jupyter-widgets/controls",
            "_view_module_version": "1.5.0",
            "_view_name": "HBoxView",
            "box_style": "",
            "children": [
              "IPY_MODEL_fcc3c91b4c694f539c58b1841a5d9b85",
              "IPY_MODEL_8e55329b73684bed9f08b103f3b11dfb",
              "IPY_MODEL_578d2e9a19fb4e93968a3c65ec45355a"
            ],
            "layout": "IPY_MODEL_1bfc6a03693447b9b556f0b4aa2bc708"
          }
        },
        "fcc3c91b4c694f539c58b1841a5d9b85": {
          "model_module": "@jupyter-widgets/controls",
          "model_name": "HTMLModel",
          "model_module_version": "1.5.0",
          "state": {
            "_dom_classes": [],
            "_model_module": "@jupyter-widgets/controls",
            "_model_module_version": "1.5.0",
            "_model_name": "HTMLModel",
            "_view_count": null,
            "_view_module": "@jupyter-widgets/controls",
            "_view_module_version": "1.5.0",
            "_view_name": "HTMLView",
            "description": "",
            "description_tooltip": null,
            "layout": "IPY_MODEL_e44c2a6842a64d0fb4b69b17f13308a8",
            "placeholder": "​",
            "style": "IPY_MODEL_ab1c58ab894843fa8d5dbda6ffab9093",
            "value": "100%"
          }
        },
        "8e55329b73684bed9f08b103f3b11dfb": {
          "model_module": "@jupyter-widgets/controls",
          "model_name": "FloatProgressModel",
          "model_module_version": "1.5.0",
          "state": {
            "_dom_classes": [],
            "_model_module": "@jupyter-widgets/controls",
            "_model_module_version": "1.5.0",
            "_model_name": "FloatProgressModel",
            "_view_count": null,
            "_view_module": "@jupyter-widgets/controls",
            "_view_module_version": "1.5.0",
            "_view_name": "ProgressView",
            "bar_style": "success",
            "description": "",
            "description_tooltip": null,
            "layout": "IPY_MODEL_fff3c0cea61b493ab3f0c7a3c3af05ef",
            "max": 8,
            "min": 0,
            "orientation": "horizontal",
            "style": "IPY_MODEL_96b46161146e45a3bcf008188c10b2aa",
            "value": 8
          }
        },
        "578d2e9a19fb4e93968a3c65ec45355a": {
          "model_module": "@jupyter-widgets/controls",
          "model_name": "HTMLModel",
          "model_module_version": "1.5.0",
          "state": {
            "_dom_classes": [],
            "_model_module": "@jupyter-widgets/controls",
            "_model_module_version": "1.5.0",
            "_model_name": "HTMLModel",
            "_view_count": null,
            "_view_module": "@jupyter-widgets/controls",
            "_view_module_version": "1.5.0",
            "_view_name": "HTMLView",
            "description": "",
            "description_tooltip": null,
            "layout": "IPY_MODEL_74ecf75117414d46b175d0dc4f558864",
            "placeholder": "​",
            "style": "IPY_MODEL_8f8db45955e94338bce1ba10b51020fe",
            "value": " 8/8 [00:08&lt;00:00,  1.15ba/s]"
          }
        },
        "1bfc6a03693447b9b556f0b4aa2bc708": {
          "model_module": "@jupyter-widgets/base",
          "model_name": "LayoutModel",
          "model_module_version": "1.2.0",
          "state": {
            "_model_module": "@jupyter-widgets/base",
            "_model_module_version": "1.2.0",
            "_model_name": "LayoutModel",
            "_view_count": null,
            "_view_module": "@jupyter-widgets/base",
            "_view_module_version": "1.2.0",
            "_view_name": "LayoutView",
            "align_content": null,
            "align_items": null,
            "align_self": null,
            "border": null,
            "bottom": null,
            "display": null,
            "flex": null,
            "flex_flow": null,
            "grid_area": null,
            "grid_auto_columns": null,
            "grid_auto_flow": null,
            "grid_auto_rows": null,
            "grid_column": null,
            "grid_gap": null,
            "grid_row": null,
            "grid_template_areas": null,
            "grid_template_columns": null,
            "grid_template_rows": null,
            "height": null,
            "justify_content": null,
            "justify_items": null,
            "left": null,
            "margin": null,
            "max_height": null,
            "max_width": null,
            "min_height": null,
            "min_width": null,
            "object_fit": null,
            "object_position": null,
            "order": null,
            "overflow": null,
            "overflow_x": null,
            "overflow_y": null,
            "padding": null,
            "right": null,
            "top": null,
            "visibility": null,
            "width": null
          }
        },
        "e44c2a6842a64d0fb4b69b17f13308a8": {
          "model_module": "@jupyter-widgets/base",
          "model_name": "LayoutModel",
          "model_module_version": "1.2.0",
          "state": {
            "_model_module": "@jupyter-widgets/base",
            "_model_module_version": "1.2.0",
            "_model_name": "LayoutModel",
            "_view_count": null,
            "_view_module": "@jupyter-widgets/base",
            "_view_module_version": "1.2.0",
            "_view_name": "LayoutView",
            "align_content": null,
            "align_items": null,
            "align_self": null,
            "border": null,
            "bottom": null,
            "display": null,
            "flex": null,
            "flex_flow": null,
            "grid_area": null,
            "grid_auto_columns": null,
            "grid_auto_flow": null,
            "grid_auto_rows": null,
            "grid_column": null,
            "grid_gap": null,
            "grid_row": null,
            "grid_template_areas": null,
            "grid_template_columns": null,
            "grid_template_rows": null,
            "height": null,
            "justify_content": null,
            "justify_items": null,
            "left": null,
            "margin": null,
            "max_height": null,
            "max_width": null,
            "min_height": null,
            "min_width": null,
            "object_fit": null,
            "object_position": null,
            "order": null,
            "overflow": null,
            "overflow_x": null,
            "overflow_y": null,
            "padding": null,
            "right": null,
            "top": null,
            "visibility": null,
            "width": null
          }
        },
        "ab1c58ab894843fa8d5dbda6ffab9093": {
          "model_module": "@jupyter-widgets/controls",
          "model_name": "DescriptionStyleModel",
          "model_module_version": "1.5.0",
          "state": {
            "_model_module": "@jupyter-widgets/controls",
            "_model_module_version": "1.5.0",
            "_model_name": "DescriptionStyleModel",
            "_view_count": null,
            "_view_module": "@jupyter-widgets/base",
            "_view_module_version": "1.2.0",
            "_view_name": "StyleView",
            "description_width": ""
          }
        },
        "fff3c0cea61b493ab3f0c7a3c3af05ef": {
          "model_module": "@jupyter-widgets/base",
          "model_name": "LayoutModel",
          "model_module_version": "1.2.0",
          "state": {
            "_model_module": "@jupyter-widgets/base",
            "_model_module_version": "1.2.0",
            "_model_name": "LayoutModel",
            "_view_count": null,
            "_view_module": "@jupyter-widgets/base",
            "_view_module_version": "1.2.0",
            "_view_name": "LayoutView",
            "align_content": null,
            "align_items": null,
            "align_self": null,
            "border": null,
            "bottom": null,
            "display": null,
            "flex": null,
            "flex_flow": null,
            "grid_area": null,
            "grid_auto_columns": null,
            "grid_auto_flow": null,
            "grid_auto_rows": null,
            "grid_column": null,
            "grid_gap": null,
            "grid_row": null,
            "grid_template_areas": null,
            "grid_template_columns": null,
            "grid_template_rows": null,
            "height": null,
            "justify_content": null,
            "justify_items": null,
            "left": null,
            "margin": null,
            "max_height": null,
            "max_width": null,
            "min_height": null,
            "min_width": null,
            "object_fit": null,
            "object_position": null,
            "order": null,
            "overflow": null,
            "overflow_x": null,
            "overflow_y": null,
            "padding": null,
            "right": null,
            "top": null,
            "visibility": null,
            "width": null
          }
        },
        "96b46161146e45a3bcf008188c10b2aa": {
          "model_module": "@jupyter-widgets/controls",
          "model_name": "ProgressStyleModel",
          "model_module_version": "1.5.0",
          "state": {
            "_model_module": "@jupyter-widgets/controls",
            "_model_module_version": "1.5.0",
            "_model_name": "ProgressStyleModel",
            "_view_count": null,
            "_view_module": "@jupyter-widgets/base",
            "_view_module_version": "1.2.0",
            "_view_name": "StyleView",
            "bar_color": null,
            "description_width": ""
          }
        },
        "74ecf75117414d46b175d0dc4f558864": {
          "model_module": "@jupyter-widgets/base",
          "model_name": "LayoutModel",
          "model_module_version": "1.2.0",
          "state": {
            "_model_module": "@jupyter-widgets/base",
            "_model_module_version": "1.2.0",
            "_model_name": "LayoutModel",
            "_view_count": null,
            "_view_module": "@jupyter-widgets/base",
            "_view_module_version": "1.2.0",
            "_view_name": "LayoutView",
            "align_content": null,
            "align_items": null,
            "align_self": null,
            "border": null,
            "bottom": null,
            "display": null,
            "flex": null,
            "flex_flow": null,
            "grid_area": null,
            "grid_auto_columns": null,
            "grid_auto_flow": null,
            "grid_auto_rows": null,
            "grid_column": null,
            "grid_gap": null,
            "grid_row": null,
            "grid_template_areas": null,
            "grid_template_columns": null,
            "grid_template_rows": null,
            "height": null,
            "justify_content": null,
            "justify_items": null,
            "left": null,
            "margin": null,
            "max_height": null,
            "max_width": null,
            "min_height": null,
            "min_width": null,
            "object_fit": null,
            "object_position": null,
            "order": null,
            "overflow": null,
            "overflow_x": null,
            "overflow_y": null,
            "padding": null,
            "right": null,
            "top": null,
            "visibility": null,
            "width": null
          }
        },
        "8f8db45955e94338bce1ba10b51020fe": {
          "model_module": "@jupyter-widgets/controls",
          "model_name": "DescriptionStyleModel",
          "model_module_version": "1.5.0",
          "state": {
            "_model_module": "@jupyter-widgets/controls",
            "_model_module_version": "1.5.0",
            "_model_name": "DescriptionStyleModel",
            "_view_count": null,
            "_view_module": "@jupyter-widgets/base",
            "_view_module_version": "1.2.0",
            "_view_name": "StyleView",
            "description_width": ""
          }
        },
        "c4a0b5cea83943388d70bec63a2f01ca": {
          "model_module": "@jupyter-widgets/controls",
          "model_name": "HBoxModel",
          "model_module_version": "1.5.0",
          "state": {
            "_dom_classes": [],
            "_model_module": "@jupyter-widgets/controls",
            "_model_module_version": "1.5.0",
            "_model_name": "HBoxModel",
            "_view_count": null,
            "_view_module": "@jupyter-widgets/controls",
            "_view_module_version": "1.5.0",
            "_view_name": "HBoxView",
            "box_style": "",
            "children": [
              "IPY_MODEL_4ebdd30ee68a423a921e4031f6ab02b5",
              "IPY_MODEL_9115e8a0a2a244d7817c034ee543d352",
              "IPY_MODEL_db98a53730e54dde872ae44cfae461c4"
            ],
            "layout": "IPY_MODEL_f19d7d5c3d45408ead0181e640644b3c"
          }
        },
        "4ebdd30ee68a423a921e4031f6ab02b5": {
          "model_module": "@jupyter-widgets/controls",
          "model_name": "HTMLModel",
          "model_module_version": "1.5.0",
          "state": {
            "_dom_classes": [],
            "_model_module": "@jupyter-widgets/controls",
            "_model_module_version": "1.5.0",
            "_model_name": "HTMLModel",
            "_view_count": null,
            "_view_module": "@jupyter-widgets/controls",
            "_view_module_version": "1.5.0",
            "_view_name": "HTMLView",
            "description": "",
            "description_tooltip": null,
            "layout": "IPY_MODEL_3180960f45a347f2b4f8e7c39b6062ae",
            "placeholder": "​",
            "style": "IPY_MODEL_79429e7b9b35427bbd2ebb35f22b9bf2",
            "value": "100%"
          }
        },
        "9115e8a0a2a244d7817c034ee543d352": {
          "model_module": "@jupyter-widgets/controls",
          "model_name": "FloatProgressModel",
          "model_module_version": "1.5.0",
          "state": {
            "_dom_classes": [],
            "_model_module": "@jupyter-widgets/controls",
            "_model_module_version": "1.5.0",
            "_model_name": "FloatProgressModel",
            "_view_count": null,
            "_view_module": "@jupyter-widgets/controls",
            "_view_module_version": "1.5.0",
            "_view_name": "ProgressView",
            "bar_style": "success",
            "description": "",
            "description_tooltip": null,
            "layout": "IPY_MODEL_2b4034af8e6e40f9801f3aa6f22d0162",
            "max": 2,
            "min": 0,
            "orientation": "horizontal",
            "style": "IPY_MODEL_d0b739f0e1d04e30ad11dc97bf429045",
            "value": 2
          }
        },
        "db98a53730e54dde872ae44cfae461c4": {
          "model_module": "@jupyter-widgets/controls",
          "model_name": "HTMLModel",
          "model_module_version": "1.5.0",
          "state": {
            "_dom_classes": [],
            "_model_module": "@jupyter-widgets/controls",
            "_model_module_version": "1.5.0",
            "_model_name": "HTMLModel",
            "_view_count": null,
            "_view_module": "@jupyter-widgets/controls",
            "_view_module_version": "1.5.0",
            "_view_name": "HTMLView",
            "description": "",
            "description_tooltip": null,
            "layout": "IPY_MODEL_690e85f416fc4107b8f371035ad5718a",
            "placeholder": "​",
            "style": "IPY_MODEL_b14498f4f0724cf3a9d21b0ff3fd40df",
            "value": " 2/2 [00:01&lt;00:00,  2.01ba/s]"
          }
        },
        "f19d7d5c3d45408ead0181e640644b3c": {
          "model_module": "@jupyter-widgets/base",
          "model_name": "LayoutModel",
          "model_module_version": "1.2.0",
          "state": {
            "_model_module": "@jupyter-widgets/base",
            "_model_module_version": "1.2.0",
            "_model_name": "LayoutModel",
            "_view_count": null,
            "_view_module": "@jupyter-widgets/base",
            "_view_module_version": "1.2.0",
            "_view_name": "LayoutView",
            "align_content": null,
            "align_items": null,
            "align_self": null,
            "border": null,
            "bottom": null,
            "display": null,
            "flex": null,
            "flex_flow": null,
            "grid_area": null,
            "grid_auto_columns": null,
            "grid_auto_flow": null,
            "grid_auto_rows": null,
            "grid_column": null,
            "grid_gap": null,
            "grid_row": null,
            "grid_template_areas": null,
            "grid_template_columns": null,
            "grid_template_rows": null,
            "height": null,
            "justify_content": null,
            "justify_items": null,
            "left": null,
            "margin": null,
            "max_height": null,
            "max_width": null,
            "min_height": null,
            "min_width": null,
            "object_fit": null,
            "object_position": null,
            "order": null,
            "overflow": null,
            "overflow_x": null,
            "overflow_y": null,
            "padding": null,
            "right": null,
            "top": null,
            "visibility": null,
            "width": null
          }
        },
        "3180960f45a347f2b4f8e7c39b6062ae": {
          "model_module": "@jupyter-widgets/base",
          "model_name": "LayoutModel",
          "model_module_version": "1.2.0",
          "state": {
            "_model_module": "@jupyter-widgets/base",
            "_model_module_version": "1.2.0",
            "_model_name": "LayoutModel",
            "_view_count": null,
            "_view_module": "@jupyter-widgets/base",
            "_view_module_version": "1.2.0",
            "_view_name": "LayoutView",
            "align_content": null,
            "align_items": null,
            "align_self": null,
            "border": null,
            "bottom": null,
            "display": null,
            "flex": null,
            "flex_flow": null,
            "grid_area": null,
            "grid_auto_columns": null,
            "grid_auto_flow": null,
            "grid_auto_rows": null,
            "grid_column": null,
            "grid_gap": null,
            "grid_row": null,
            "grid_template_areas": null,
            "grid_template_columns": null,
            "grid_template_rows": null,
            "height": null,
            "justify_content": null,
            "justify_items": null,
            "left": null,
            "margin": null,
            "max_height": null,
            "max_width": null,
            "min_height": null,
            "min_width": null,
            "object_fit": null,
            "object_position": null,
            "order": null,
            "overflow": null,
            "overflow_x": null,
            "overflow_y": null,
            "padding": null,
            "right": null,
            "top": null,
            "visibility": null,
            "width": null
          }
        },
        "79429e7b9b35427bbd2ebb35f22b9bf2": {
          "model_module": "@jupyter-widgets/controls",
          "model_name": "DescriptionStyleModel",
          "model_module_version": "1.5.0",
          "state": {
            "_model_module": "@jupyter-widgets/controls",
            "_model_module_version": "1.5.0",
            "_model_name": "DescriptionStyleModel",
            "_view_count": null,
            "_view_module": "@jupyter-widgets/base",
            "_view_module_version": "1.2.0",
            "_view_name": "StyleView",
            "description_width": ""
          }
        },
        "2b4034af8e6e40f9801f3aa6f22d0162": {
          "model_module": "@jupyter-widgets/base",
          "model_name": "LayoutModel",
          "model_module_version": "1.2.0",
          "state": {
            "_model_module": "@jupyter-widgets/base",
            "_model_module_version": "1.2.0",
            "_model_name": "LayoutModel",
            "_view_count": null,
            "_view_module": "@jupyter-widgets/base",
            "_view_module_version": "1.2.0",
            "_view_name": "LayoutView",
            "align_content": null,
            "align_items": null,
            "align_self": null,
            "border": null,
            "bottom": null,
            "display": null,
            "flex": null,
            "flex_flow": null,
            "grid_area": null,
            "grid_auto_columns": null,
            "grid_auto_flow": null,
            "grid_auto_rows": null,
            "grid_column": null,
            "grid_gap": null,
            "grid_row": null,
            "grid_template_areas": null,
            "grid_template_columns": null,
            "grid_template_rows": null,
            "height": null,
            "justify_content": null,
            "justify_items": null,
            "left": null,
            "margin": null,
            "max_height": null,
            "max_width": null,
            "min_height": null,
            "min_width": null,
            "object_fit": null,
            "object_position": null,
            "order": null,
            "overflow": null,
            "overflow_x": null,
            "overflow_y": null,
            "padding": null,
            "right": null,
            "top": null,
            "visibility": null,
            "width": null
          }
        },
        "d0b739f0e1d04e30ad11dc97bf429045": {
          "model_module": "@jupyter-widgets/controls",
          "model_name": "ProgressStyleModel",
          "model_module_version": "1.5.0",
          "state": {
            "_model_module": "@jupyter-widgets/controls",
            "_model_module_version": "1.5.0",
            "_model_name": "ProgressStyleModel",
            "_view_count": null,
            "_view_module": "@jupyter-widgets/base",
            "_view_module_version": "1.2.0",
            "_view_name": "StyleView",
            "bar_color": null,
            "description_width": ""
          }
        },
        "690e85f416fc4107b8f371035ad5718a": {
          "model_module": "@jupyter-widgets/base",
          "model_name": "LayoutModel",
          "model_module_version": "1.2.0",
          "state": {
            "_model_module": "@jupyter-widgets/base",
            "_model_module_version": "1.2.0",
            "_model_name": "LayoutModel",
            "_view_count": null,
            "_view_module": "@jupyter-widgets/base",
            "_view_module_version": "1.2.0",
            "_view_name": "LayoutView",
            "align_content": null,
            "align_items": null,
            "align_self": null,
            "border": null,
            "bottom": null,
            "display": null,
            "flex": null,
            "flex_flow": null,
            "grid_area": null,
            "grid_auto_columns": null,
            "grid_auto_flow": null,
            "grid_auto_rows": null,
            "grid_column": null,
            "grid_gap": null,
            "grid_row": null,
            "grid_template_areas": null,
            "grid_template_columns": null,
            "grid_template_rows": null,
            "height": null,
            "justify_content": null,
            "justify_items": null,
            "left": null,
            "margin": null,
            "max_height": null,
            "max_width": null,
            "min_height": null,
            "min_width": null,
            "object_fit": null,
            "object_position": null,
            "order": null,
            "overflow": null,
            "overflow_x": null,
            "overflow_y": null,
            "padding": null,
            "right": null,
            "top": null,
            "visibility": null,
            "width": null
          }
        },
        "b14498f4f0724cf3a9d21b0ff3fd40df": {
          "model_module": "@jupyter-widgets/controls",
          "model_name": "DescriptionStyleModel",
          "model_module_version": "1.5.0",
          "state": {
            "_model_module": "@jupyter-widgets/controls",
            "_model_module_version": "1.5.0",
            "_model_name": "DescriptionStyleModel",
            "_view_count": null,
            "_view_module": "@jupyter-widgets/base",
            "_view_module_version": "1.2.0",
            "_view_name": "StyleView",
            "description_width": ""
          }
        },
        "46b1da76b477477280b3f5a773ce0492": {
          "model_module": "@jupyter-widgets/controls",
          "model_name": "HBoxModel",
          "model_module_version": "1.5.0",
          "state": {
            "_dom_classes": [],
            "_model_module": "@jupyter-widgets/controls",
            "_model_module_version": "1.5.0",
            "_model_name": "HBoxModel",
            "_view_count": null,
            "_view_module": "@jupyter-widgets/controls",
            "_view_module_version": "1.5.0",
            "_view_name": "HBoxView",
            "box_style": "",
            "children": [
              "IPY_MODEL_19b8d812a5c04785b510422d994d0889",
              "IPY_MODEL_4a7ac174a21441bd9694645fb5e976ed",
              "IPY_MODEL_5afe30efac2c45198652f8aa93a13ad4"
            ],
            "layout": "IPY_MODEL_037b0ecf4f4e4326902895fee167f45a"
          }
        },
        "19b8d812a5c04785b510422d994d0889": {
          "model_module": "@jupyter-widgets/controls",
          "model_name": "HTMLModel",
          "model_module_version": "1.5.0",
          "state": {
            "_dom_classes": [],
            "_model_module": "@jupyter-widgets/controls",
            "_model_module_version": "1.5.0",
            "_model_name": "HTMLModel",
            "_view_count": null,
            "_view_module": "@jupyter-widgets/controls",
            "_view_module_version": "1.5.0",
            "_view_name": "HTMLView",
            "description": "",
            "description_tooltip": null,
            "layout": "IPY_MODEL_554068822099436fb8e96c178ced3cbf",
            "placeholder": "​",
            "style": "IPY_MODEL_ce6a1eb624134072a6fda63cc9c1fe22",
            "value": "Downloading: 100%"
          }
        },
        "4a7ac174a21441bd9694645fb5e976ed": {
          "model_module": "@jupyter-widgets/controls",
          "model_name": "FloatProgressModel",
          "model_module_version": "1.5.0",
          "state": {
            "_dom_classes": [],
            "_model_module": "@jupyter-widgets/controls",
            "_model_module_version": "1.5.0",
            "_model_name": "FloatProgressModel",
            "_view_count": null,
            "_view_module": "@jupyter-widgets/controls",
            "_view_module_version": "1.5.0",
            "_view_name": "ProgressView",
            "bar_style": "success",
            "description": "",
            "description_tooltip": null,
            "layout": "IPY_MODEL_d3214690e2ba4a5782c39088e0d1114f",
            "max": 363423424,
            "min": 0,
            "orientation": "horizontal",
            "style": "IPY_MODEL_c9294f4e00324ccdac07048fa7dee64a",
            "value": 363423424
          }
        },
        "5afe30efac2c45198652f8aa93a13ad4": {
          "model_module": "@jupyter-widgets/controls",
          "model_name": "HTMLModel",
          "model_module_version": "1.5.0",
          "state": {
            "_dom_classes": [],
            "_model_module": "@jupyter-widgets/controls",
            "_model_module_version": "1.5.0",
            "_model_name": "HTMLModel",
            "_view_count": null,
            "_view_module": "@jupyter-widgets/controls",
            "_view_module_version": "1.5.0",
            "_view_name": "HTMLView",
            "description": "",
            "description_tooltip": null,
            "layout": "IPY_MODEL_03948489fe05484fbd7bd01a9c7ea86f",
            "placeholder": "​",
            "style": "IPY_MODEL_14445cf2664a485d8a747a451e3e3830",
            "value": " 347M/347M [00:06&lt;00:00, 59.2MB/s]"
          }
        },
        "037b0ecf4f4e4326902895fee167f45a": {
          "model_module": "@jupyter-widgets/base",
          "model_name": "LayoutModel",
          "model_module_version": "1.2.0",
          "state": {
            "_model_module": "@jupyter-widgets/base",
            "_model_module_version": "1.2.0",
            "_model_name": "LayoutModel",
            "_view_count": null,
            "_view_module": "@jupyter-widgets/base",
            "_view_module_version": "1.2.0",
            "_view_name": "LayoutView",
            "align_content": null,
            "align_items": null,
            "align_self": null,
            "border": null,
            "bottom": null,
            "display": null,
            "flex": null,
            "flex_flow": null,
            "grid_area": null,
            "grid_auto_columns": null,
            "grid_auto_flow": null,
            "grid_auto_rows": null,
            "grid_column": null,
            "grid_gap": null,
            "grid_row": null,
            "grid_template_areas": null,
            "grid_template_columns": null,
            "grid_template_rows": null,
            "height": null,
            "justify_content": null,
            "justify_items": null,
            "left": null,
            "margin": null,
            "max_height": null,
            "max_width": null,
            "min_height": null,
            "min_width": null,
            "object_fit": null,
            "object_position": null,
            "order": null,
            "overflow": null,
            "overflow_x": null,
            "overflow_y": null,
            "padding": null,
            "right": null,
            "top": null,
            "visibility": null,
            "width": null
          }
        },
        "554068822099436fb8e96c178ced3cbf": {
          "model_module": "@jupyter-widgets/base",
          "model_name": "LayoutModel",
          "model_module_version": "1.2.0",
          "state": {
            "_model_module": "@jupyter-widgets/base",
            "_model_module_version": "1.2.0",
            "_model_name": "LayoutModel",
            "_view_count": null,
            "_view_module": "@jupyter-widgets/base",
            "_view_module_version": "1.2.0",
            "_view_name": "LayoutView",
            "align_content": null,
            "align_items": null,
            "align_self": null,
            "border": null,
            "bottom": null,
            "display": null,
            "flex": null,
            "flex_flow": null,
            "grid_area": null,
            "grid_auto_columns": null,
            "grid_auto_flow": null,
            "grid_auto_rows": null,
            "grid_column": null,
            "grid_gap": null,
            "grid_row": null,
            "grid_template_areas": null,
            "grid_template_columns": null,
            "grid_template_rows": null,
            "height": null,
            "justify_content": null,
            "justify_items": null,
            "left": null,
            "margin": null,
            "max_height": null,
            "max_width": null,
            "min_height": null,
            "min_width": null,
            "object_fit": null,
            "object_position": null,
            "order": null,
            "overflow": null,
            "overflow_x": null,
            "overflow_y": null,
            "padding": null,
            "right": null,
            "top": null,
            "visibility": null,
            "width": null
          }
        },
        "ce6a1eb624134072a6fda63cc9c1fe22": {
          "model_module": "@jupyter-widgets/controls",
          "model_name": "DescriptionStyleModel",
          "model_module_version": "1.5.0",
          "state": {
            "_model_module": "@jupyter-widgets/controls",
            "_model_module_version": "1.5.0",
            "_model_name": "DescriptionStyleModel",
            "_view_count": null,
            "_view_module": "@jupyter-widgets/base",
            "_view_module_version": "1.2.0",
            "_view_name": "StyleView",
            "description_width": ""
          }
        },
        "d3214690e2ba4a5782c39088e0d1114f": {
          "model_module": "@jupyter-widgets/base",
          "model_name": "LayoutModel",
          "model_module_version": "1.2.0",
          "state": {
            "_model_module": "@jupyter-widgets/base",
            "_model_module_version": "1.2.0",
            "_model_name": "LayoutModel",
            "_view_count": null,
            "_view_module": "@jupyter-widgets/base",
            "_view_module_version": "1.2.0",
            "_view_name": "LayoutView",
            "align_content": null,
            "align_items": null,
            "align_self": null,
            "border": null,
            "bottom": null,
            "display": null,
            "flex": null,
            "flex_flow": null,
            "grid_area": null,
            "grid_auto_columns": null,
            "grid_auto_flow": null,
            "grid_auto_rows": null,
            "grid_column": null,
            "grid_gap": null,
            "grid_row": null,
            "grid_template_areas": null,
            "grid_template_columns": null,
            "grid_template_rows": null,
            "height": null,
            "justify_content": null,
            "justify_items": null,
            "left": null,
            "margin": null,
            "max_height": null,
            "max_width": null,
            "min_height": null,
            "min_width": null,
            "object_fit": null,
            "object_position": null,
            "order": null,
            "overflow": null,
            "overflow_x": null,
            "overflow_y": null,
            "padding": null,
            "right": null,
            "top": null,
            "visibility": null,
            "width": null
          }
        },
        "c9294f4e00324ccdac07048fa7dee64a": {
          "model_module": "@jupyter-widgets/controls",
          "model_name": "ProgressStyleModel",
          "model_module_version": "1.5.0",
          "state": {
            "_model_module": "@jupyter-widgets/controls",
            "_model_module_version": "1.5.0",
            "_model_name": "ProgressStyleModel",
            "_view_count": null,
            "_view_module": "@jupyter-widgets/base",
            "_view_module_version": "1.2.0",
            "_view_name": "StyleView",
            "bar_color": null,
            "description_width": ""
          }
        },
        "03948489fe05484fbd7bd01a9c7ea86f": {
          "model_module": "@jupyter-widgets/base",
          "model_name": "LayoutModel",
          "model_module_version": "1.2.0",
          "state": {
            "_model_module": "@jupyter-widgets/base",
            "_model_module_version": "1.2.0",
            "_model_name": "LayoutModel",
            "_view_count": null,
            "_view_module": "@jupyter-widgets/base",
            "_view_module_version": "1.2.0",
            "_view_name": "LayoutView",
            "align_content": null,
            "align_items": null,
            "align_self": null,
            "border": null,
            "bottom": null,
            "display": null,
            "flex": null,
            "flex_flow": null,
            "grid_area": null,
            "grid_auto_columns": null,
            "grid_auto_flow": null,
            "grid_auto_rows": null,
            "grid_column": null,
            "grid_gap": null,
            "grid_row": null,
            "grid_template_areas": null,
            "grid_template_columns": null,
            "grid_template_rows": null,
            "height": null,
            "justify_content": null,
            "justify_items": null,
            "left": null,
            "margin": null,
            "max_height": null,
            "max_width": null,
            "min_height": null,
            "min_width": null,
            "object_fit": null,
            "object_position": null,
            "order": null,
            "overflow": null,
            "overflow_x": null,
            "overflow_y": null,
            "padding": null,
            "right": null,
            "top": null,
            "visibility": null,
            "width": null
          }
        },
        "14445cf2664a485d8a747a451e3e3830": {
          "model_module": "@jupyter-widgets/controls",
          "model_name": "DescriptionStyleModel",
          "model_module_version": "1.5.0",
          "state": {
            "_model_module": "@jupyter-widgets/controls",
            "_model_module_version": "1.5.0",
            "_model_name": "DescriptionStyleModel",
            "_view_count": null,
            "_view_module": "@jupyter-widgets/base",
            "_view_module_version": "1.2.0",
            "_view_name": "StyleView",
            "description_width": ""
          }
        }
      }
    }
  },
  "nbformat": 4,
  "nbformat_minor": 5
}